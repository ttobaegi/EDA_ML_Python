{
 "cells": [
  {
   "cell_type": "markdown",
   "id": "421491e4",
   "metadata": {},
   "source": [
    "### 🏃🏻‍♀️Sideproject Apple watch / health 데이터 분석 및 시각화\n",
    "**분석 목표**\n",
    "> - 태블로 시각화\n",
    "> - 시계열 분석"
   ]
  },
  {
   "cell_type": "markdown",
   "id": "508f5227",
   "metadata": {},
   "source": [
    "# Import module"
   ]
  },
  {
   "cell_type": "code",
   "execution_count": 2,
   "id": "1f673f0a",
   "metadata": {
    "ExecuteTime": {
     "end_time": "2021-06-03T04:58:49.793863Z",
     "start_time": "2021-06-03T04:58:46.978018Z"
    }
   },
   "outputs": [],
   "source": [
    "# visualization\n",
    "# permission error 해결 --user\n",
    "#!pip install --user panel\n",
    "#!pip install altair\n",
    "#! pip install vega\n",
    "import panel as pn\n",
    "import altair as alt\n",
    "from altair import datum\n",
    "import datetime as dt"
   ]
  },
  {
   "cell_type": "code",
   "execution_count": 1,
   "id": "56b68222",
   "metadata": {
    "ExecuteTime": {
     "end_time": "2021-06-03T04:58:46.938471Z",
     "start_time": "2021-06-03T04:58:45.804308Z"
    }
   },
   "outputs": [],
   "source": [
    "import pandas as pd"
   ]
  },
  {
   "cell_type": "code",
   "execution_count": 3,
   "id": "36a4709c",
   "metadata": {
    "ExecuteTime": {
     "end_time": "2021-06-03T04:58:49.839541Z",
     "start_time": "2021-06-03T04:58:49.830567Z"
    }
   },
   "outputs": [],
   "source": [
    "#pip install xmltodict\n",
    "import xmltodict"
   ]
  },
  {
   "cell_type": "markdown",
   "id": "f2a786fa",
   "metadata": {},
   "source": [
    "# Load data"
   ]
  },
  {
   "cell_type": "code",
   "execution_count": 17,
   "id": "184cc6dc",
   "metadata": {
    "ExecuteTime": {
     "end_time": "2021-06-03T05:01:26.566905Z",
     "start_time": "2021-06-03T05:01:22.873734Z"
    },
    "scrolled": true
   },
   "outputs": [
    {
     "name": "stderr",
     "output_type": "stream",
     "text": [
      "C:\\Users\\JIIN\\AppData\\Roaming\\Python\\Python37\\site-packages\\IPython\\core\\interactiveshell.py:3170: DtypeWarning: Columns (1) have mixed types.Specify dtype option on import or set low_memory=False.\n",
      "  interactivity=interactivity, compiler=compiler, result=result)\n"
     ]
    }
   ],
   "source": [
    "energy = pd.read_csv('data/ActiveEnergyBurned.csv', encoding='CP949')\n",
    "heart = pd.read_csv('data/HeartRate.csv', encoding='CP949')\n",
    "audio = pd.read_csv('data/AudioExposure.csv', encoding='CP949')\n",
    "distance = pd.read_csv('data/DistanceWalkingRunning.csv', encoding='CP949')\n",
    "exercise = pd.read_csv('data/AppleExerciseTime.csv', encoding='CP949')"
   ]
  },
  {
   "cell_type": "code",
   "execution_count": 5,
   "id": "8de26576",
   "metadata": {
    "ExecuteTime": {
     "end_time": "2021-06-03T04:59:03.165306Z",
     "start_time": "2021-06-03T04:59:02.773450Z"
    }
   },
   "outputs": [],
   "source": [
    "step = pd.read_csv('data/StepCount.csv', encoding='CP949')\n",
    "walkspeed = pd.read_csv('data/WalkSpeed.csv', encoding='CP949')"
   ]
  },
  {
   "cell_type": "code",
   "execution_count": 64,
   "id": "2262fbeb",
   "metadata": {
    "ExecuteTime": {
     "end_time": "2021-06-03T06:02:27.348891Z",
     "start_time": "2021-06-03T05:58:10.653047Z"
    }
   },
   "outputs": [],
   "source": [
    "input_path = 'export.xml'\n",
    "with open(input_path, 'rt', encoding='UTF8') as xml_file:\n",
    "    input_data = xmltodict.parse(xml_file.read())\n",
    "#Records list for general health data & imported as Pandas Data Frame\n",
    "records_list = input_data['HealthData']['Record']\n",
    "df_records = pd.DataFrame(records_list)\n",
    "#Workout list for workout data\n",
    "workouts_list = input_data['HealthData']['Workout']\n",
    "df_workouts = pd.DataFrame(workouts_list)"
   ]
  },
  {
   "cell_type": "markdown",
   "id": "ebd8d268",
   "metadata": {},
   "source": [
    "# Preprocessing"
   ]
  },
  {
   "cell_type": "markdown",
   "id": "58ec0d51",
   "metadata": {},
   "source": [
    "## df_watch"
   ]
  },
  {
   "cell_type": "code",
   "execution_count": 65,
   "id": "2e58b39a",
   "metadata": {
    "ExecuteTime": {
     "end_time": "2021-06-03T06:03:51.242368Z",
     "start_time": "2021-06-03T06:03:51.217433Z"
    }
   },
   "outputs": [],
   "source": [
    "# remove @ from colnames\n",
    "new_col=[]\n",
    "for col in df_workouts.columns :\n",
    "    temp = col.replace('@','')\n",
    "    new_col.append(temp)\n",
    "df_workouts.columns = new_col"
   ]
  },
  {
   "cell_type": "code",
   "execution_count": 66,
   "id": "c2f730be",
   "metadata": {
    "ExecuteTime": {
     "end_time": "2021-06-03T06:05:56.607294Z",
     "start_time": "2021-06-03T06:05:56.584355Z"
    }
   },
   "outputs": [],
   "source": [
    "# maintain raw data\n",
    "df_workouts_raw = df_workouts.copy()"
   ]
  },
  {
   "cell_type": "code",
   "execution_count": 67,
   "id": "36f49b9c",
   "metadata": {
    "ExecuteTime": {
     "end_time": "2021-06-03T06:07:35.685893Z",
     "start_time": "2021-06-03T06:07:35.501388Z"
    }
   },
   "outputs": [],
   "source": [
    "# Convert selected columns to numeric so we can do calcuations\n",
    "# convert just columns \"...\" and \"...\"\n",
    "df_workouts[[\"duration\", \"totalDistance\", \"totalEnergyBurned\"]] = df_workouts[[\"duration\", \"totalDistance\", \"totalEnergyBurned\"]].apply(pd.to_numeric)\n",
    "df_workouts.dtypes\n",
    "#convert dates to actual datetime\n",
    "format = '%Y-%m-%d %H:%M:%S %z'\n",
    "df_workouts['creationDate'] = pd.to_datetime(df_workouts['creationDate'],format=format)\n",
    "df_workouts['startDate'] = pd.to_datetime(df_workouts['startDate'], format=format)\n",
    "df_workouts['endDate'] = pd.to_datetime(df_workouts['endDate'],format=format)\n",
    "df_workouts.dtypes\n",
    "#drop unnecessary columns (all rows and column 1 to 12)\n",
    "df_workouts = df_workouts.iloc[:,0:12]\n",
    "df_workouts.head()\n",
    "#Remove HKWorkoutActivityTypeWalking and HKWorkoutActivityTypeSnowSports\n",
    "df_workouts=df_workouts[df_workouts['workoutActivityType'] != 'HKWorkoutActivityTypeWalking']\n",
    "df_workouts=df_workouts[df_workouts['workoutActivityType'] != 'HKWorkoutActivityTypeSnowSports']"
   ]
  },
  {
   "cell_type": "code",
   "execution_count": 62,
   "id": "bdd713be",
   "metadata": {
    "ExecuteTime": {
     "end_time": "2021-06-03T05:54:19.938557Z",
     "start_time": "2021-06-03T05:54:19.832840Z"
    }
   },
   "outputs": [
    {
     "data": {
      "text/plain": [
       "HKWorkoutActivityTypeHighIntensityIntervalTraining    154\n",
       "HKWorkoutActivityTypeTraditionalStrengthTraining      152\n",
       "Running                                               119\n",
       "Cycling                                                75\n",
       "HKWorkoutActivityTypeStairClimbing                     18\n",
       "HKWorkoutActivityTypeStairs                            18\n",
       "HKWorkoutActivityTypeFunctionalStrengthTraining        15\n",
       "HKWorkoutActivityTypeHiking                            11\n",
       "HKWorkoutActivityTypeMixedCardio                        3\n",
       "Name: workoutActivityType, dtype: int64"
      ]
     },
     "execution_count": 62,
     "metadata": {},
     "output_type": "execute_result"
    }
   ],
   "source": [
    "df_workouts.workoutActivityType.value_counts()"
   ]
  },
  {
   "cell_type": "code",
   "execution_count": 71,
   "id": "ffd47dd6",
   "metadata": {
    "ExecuteTime": {
     "end_time": "2021-06-03T06:22:39.070469Z",
     "start_time": "2021-06-03T06:22:39.060493Z"
    },
    "scrolled": true
   },
   "outputs": [],
   "source": [
    "#Rename Activity Types to Running, Cycling and Swimming\n",
    "df_workouts['workoutActivityType']= df_workouts['workoutActivityType'].apply(lambda x : str(x).replace('HKWorkoutActivityType',''))"
   ]
  },
  {
   "cell_type": "code",
   "execution_count": 72,
   "id": "b2be6682",
   "metadata": {
    "ExecuteTime": {
     "end_time": "2021-06-03T06:23:48.252356Z",
     "start_time": "2021-06-03T06:23:48.214410Z"
    }
   },
   "outputs": [
    {
     "data": {
      "text/html": [
       "<div>\n",
       "<style scoped>\n",
       "    .dataframe tbody tr th:only-of-type {\n",
       "        vertical-align: middle;\n",
       "    }\n",
       "\n",
       "    .dataframe tbody tr th {\n",
       "        vertical-align: top;\n",
       "    }\n",
       "\n",
       "    .dataframe thead th {\n",
       "        text-align: right;\n",
       "    }\n",
       "</style>\n",
       "<table border=\"1\" class=\"dataframe\">\n",
       "  <thead>\n",
       "    <tr style=\"text-align: right;\">\n",
       "      <th></th>\n",
       "      <th>workoutActivityType</th>\n",
       "      <th>duration</th>\n",
       "      <th>durationUnit</th>\n",
       "      <th>totalDistance</th>\n",
       "      <th>totalDistanceUnit</th>\n",
       "      <th>totalEnergyBurned</th>\n",
       "      <th>totalEnergyBurnedUnit</th>\n",
       "      <th>sourceName</th>\n",
       "      <th>sourceVersion</th>\n",
       "      <th>creationDate</th>\n",
       "      <th>startDate</th>\n",
       "      <th>endDate</th>\n",
       "    </tr>\n",
       "  </thead>\n",
       "  <tbody>\n",
       "    <tr>\n",
       "      <th>0</th>\n",
       "      <td>Running</td>\n",
       "      <td>30.077727</td>\n",
       "      <td>min</td>\n",
       "      <td>5.009363</td>\n",
       "      <td>km</td>\n",
       "      <td>246.292</td>\n",
       "      <td>kcal</td>\n",
       "      <td>Nike Run Club</td>\n",
       "      <td>1809192025</td>\n",
       "      <td>2018-10-06 22:41:26+09:00</td>\n",
       "      <td>2018-10-06 22:09:25+09:00</td>\n",
       "      <td>2018-10-06 22:41:13+09:00</td>\n",
       "    </tr>\n",
       "    <tr>\n",
       "      <th>1</th>\n",
       "      <td>Running</td>\n",
       "      <td>18.196028</td>\n",
       "      <td>min</td>\n",
       "      <td>3.013672</td>\n",
       "      <td>km</td>\n",
       "      <td>150.578</td>\n",
       "      <td>kcal</td>\n",
       "      <td>Nike Run Club</td>\n",
       "      <td>1809192025</td>\n",
       "      <td>2018-10-07 23:03:56+09:00</td>\n",
       "      <td>2018-10-07 22:37:40+09:00</td>\n",
       "      <td>2018-10-07 23:03:48+09:00</td>\n",
       "    </tr>\n",
       "    <tr>\n",
       "      <th>2</th>\n",
       "      <td>Running</td>\n",
       "      <td>11.088048</td>\n",
       "      <td>min</td>\n",
       "      <td>1.914857</td>\n",
       "      <td>km</td>\n",
       "      <td>95.863</td>\n",
       "      <td>kcal</td>\n",
       "      <td>Nike Run Club</td>\n",
       "      <td>1809192025</td>\n",
       "      <td>2018-10-09 22:54:36+09:00</td>\n",
       "      <td>2018-10-09 22:34:22+09:00</td>\n",
       "      <td>2018-10-09 22:52:32+09:00</td>\n",
       "    </tr>\n",
       "    <tr>\n",
       "      <th>3</th>\n",
       "      <td>Running</td>\n",
       "      <td>29.542504</td>\n",
       "      <td>min</td>\n",
       "      <td>5.026577</td>\n",
       "      <td>km</td>\n",
       "      <td>252.933</td>\n",
       "      <td>kcal</td>\n",
       "      <td>Nike Run Club</td>\n",
       "      <td>1809192025</td>\n",
       "      <td>2018-10-11 23:42:45+09:00</td>\n",
       "      <td>2018-10-11 23:08:10+09:00</td>\n",
       "      <td>2018-10-11 23:42:38+09:00</td>\n",
       "    </tr>\n",
       "    <tr>\n",
       "      <th>4</th>\n",
       "      <td>Running</td>\n",
       "      <td>18.002057</td>\n",
       "      <td>min</td>\n",
       "      <td>3.028296</td>\n",
       "      <td>km</td>\n",
       "      <td>156.366</td>\n",
       "      <td>kcal</td>\n",
       "      <td>Nike Run Club</td>\n",
       "      <td>1809192025</td>\n",
       "      <td>2018-10-13 19:27:29+09:00</td>\n",
       "      <td>2018-10-13 19:09:17+09:00</td>\n",
       "      <td>2018-10-13 19:27:23+09:00</td>\n",
       "    </tr>\n",
       "  </tbody>\n",
       "</table>\n",
       "</div>"
      ],
      "text/plain": [
       "  workoutActivityType   duration durationUnit  totalDistance  \\\n",
       "0             Running  30.077727          min       5.009363   \n",
       "1             Running  18.196028          min       3.013672   \n",
       "2             Running  11.088048          min       1.914857   \n",
       "3             Running  29.542504          min       5.026577   \n",
       "4             Running  18.002057          min       3.028296   \n",
       "\n",
       "  totalDistanceUnit  totalEnergyBurned totalEnergyBurnedUnit     sourceName  \\\n",
       "0                km            246.292                  kcal  Nike Run Club   \n",
       "1                km            150.578                  kcal  Nike Run Club   \n",
       "2                km             95.863                  kcal  Nike Run Club   \n",
       "3                km            252.933                  kcal  Nike Run Club   \n",
       "4                km            156.366                  kcal  Nike Run Club   \n",
       "\n",
       "  sourceVersion              creationDate                 startDate  \\\n",
       "0    1809192025 2018-10-06 22:41:26+09:00 2018-10-06 22:09:25+09:00   \n",
       "1    1809192025 2018-10-07 23:03:56+09:00 2018-10-07 22:37:40+09:00   \n",
       "2    1809192025 2018-10-09 22:54:36+09:00 2018-10-09 22:34:22+09:00   \n",
       "3    1809192025 2018-10-11 23:42:45+09:00 2018-10-11 23:08:10+09:00   \n",
       "4    1809192025 2018-10-13 19:27:29+09:00 2018-10-13 19:09:17+09:00   \n",
       "\n",
       "                    endDate  \n",
       "0 2018-10-06 22:41:13+09:00  \n",
       "1 2018-10-07 23:03:48+09:00  \n",
       "2 2018-10-09 22:52:32+09:00  \n",
       "3 2018-10-11 23:42:38+09:00  \n",
       "4 2018-10-13 19:27:23+09:00  "
      ]
     },
     "execution_count": 72,
     "metadata": {},
     "output_type": "execute_result"
    }
   ],
   "source": [
    "df_workouts.head()"
   ]
  },
  {
   "cell_type": "code",
   "execution_count": 73,
   "id": "e037899f",
   "metadata": {
    "ExecuteTime": {
     "end_time": "2021-06-03T06:24:49.251838Z",
     "start_time": "2021-06-03T06:24:49.183622Z"
    },
    "scrolled": false
   },
   "outputs": [
    {
     "data": {
      "text/html": [
       "<div>\n",
       "<style scoped>\n",
       "    .dataframe tbody tr th:only-of-type {\n",
       "        vertical-align: middle;\n",
       "    }\n",
       "\n",
       "    .dataframe tbody tr th {\n",
       "        vertical-align: top;\n",
       "    }\n",
       "\n",
       "    .dataframe thead th {\n",
       "        text-align: right;\n",
       "    }\n",
       "</style>\n",
       "<table border=\"1\" class=\"dataframe\">\n",
       "  <thead>\n",
       "    <tr style=\"text-align: right;\">\n",
       "      <th></th>\n",
       "      <th>workoutActivityType</th>\n",
       "      <th>duration</th>\n",
       "      <th>durationUnit</th>\n",
       "      <th>totalDistance</th>\n",
       "      <th>totalDistanceUnit</th>\n",
       "      <th>totalEnergyBurned</th>\n",
       "      <th>totalEnergyBurnedUnit</th>\n",
       "      <th>sourceName</th>\n",
       "      <th>sourceVersion</th>\n",
       "      <th>creationDate</th>\n",
       "      <th>startDate</th>\n",
       "      <th>endDate</th>\n",
       "    </tr>\n",
       "  </thead>\n",
       "  <tbody>\n",
       "    <tr>\n",
       "      <th>0</th>\n",
       "      <td>Cycling</td>\n",
       "      <td>12.214119</td>\n",
       "      <td>min</td>\n",
       "      <td>1.565187</td>\n",
       "      <td>km</td>\n",
       "      <td>7.735785</td>\n",
       "      <td>kcal</td>\n",
       "      <td>JIIN’s Apple Watch</td>\n",
       "      <td>6.2.8</td>\n",
       "      <td>2020-08-16 21:45:57+09:00</td>\n",
       "      <td>2020-08-16 21:33:42+09:00</td>\n",
       "      <td>2020-08-16 21:45:55+09:00</td>\n",
       "    </tr>\n",
       "    <tr>\n",
       "      <th>1</th>\n",
       "      <td>TraditionalStrengthTraining</td>\n",
       "      <td>3.396216</td>\n",
       "      <td>min</td>\n",
       "      <td>0.000000</td>\n",
       "      <td>km</td>\n",
       "      <td>16.948000</td>\n",
       "      <td>kcal</td>\n",
       "      <td>JIIN’s Apple Watch</td>\n",
       "      <td>6.2.8</td>\n",
       "      <td>2020-08-16 23:02:13+09:00</td>\n",
       "      <td>2020-08-16 22:58:48+09:00</td>\n",
       "      <td>2020-08-16 23:02:12+09:00</td>\n",
       "    </tr>\n",
       "    <tr>\n",
       "      <th>2</th>\n",
       "      <td>Cycling</td>\n",
       "      <td>11.183130</td>\n",
       "      <td>min</td>\n",
       "      <td>1.587389</td>\n",
       "      <td>km</td>\n",
       "      <td>11.424872</td>\n",
       "      <td>kcal</td>\n",
       "      <td>JIIN’s Apple Watch</td>\n",
       "      <td>6.2.8</td>\n",
       "      <td>2020-08-17 21:42:38+09:00</td>\n",
       "      <td>2020-08-17 21:31:25+09:00</td>\n",
       "      <td>2020-08-17 21:42:36+09:00</td>\n",
       "    </tr>\n",
       "    <tr>\n",
       "      <th>3</th>\n",
       "      <td>Stairs</td>\n",
       "      <td>4.447274</td>\n",
       "      <td>min</td>\n",
       "      <td>0.000000</td>\n",
       "      <td>km</td>\n",
       "      <td>27.564425</td>\n",
       "      <td>kcal</td>\n",
       "      <td>JIIN’s Apple Watch</td>\n",
       "      <td>6.2.8</td>\n",
       "      <td>2020-08-17 22:04:25+09:00</td>\n",
       "      <td>2020-08-17 21:59:58+09:00</td>\n",
       "      <td>2020-08-17 22:04:25+09:00</td>\n",
       "    </tr>\n",
       "    <tr>\n",
       "      <th>4</th>\n",
       "      <td>TraditionalStrengthTraining</td>\n",
       "      <td>25.727872</td>\n",
       "      <td>min</td>\n",
       "      <td>0.000000</td>\n",
       "      <td>km</td>\n",
       "      <td>94.590771</td>\n",
       "      <td>kcal</td>\n",
       "      <td>JIIN’s Apple Watch</td>\n",
       "      <td>6.2.8</td>\n",
       "      <td>2020-08-17 22:47:32+09:00</td>\n",
       "      <td>2020-08-17 22:14:49+09:00</td>\n",
       "      <td>2020-08-17 22:47:29+09:00</td>\n",
       "    </tr>\n",
       "    <tr>\n",
       "      <th>...</th>\n",
       "      <td>...</td>\n",
       "      <td>...</td>\n",
       "      <td>...</td>\n",
       "      <td>...</td>\n",
       "      <td>...</td>\n",
       "      <td>...</td>\n",
       "      <td>...</td>\n",
       "      <td>...</td>\n",
       "      <td>...</td>\n",
       "      <td>...</td>\n",
       "      <td>...</td>\n",
       "      <td>...</td>\n",
       "    </tr>\n",
       "    <tr>\n",
       "      <th>440</th>\n",
       "      <td>HighIntensityIntervalTraining</td>\n",
       "      <td>29.991067</td>\n",
       "      <td>min</td>\n",
       "      <td>0.000000</td>\n",
       "      <td>km</td>\n",
       "      <td>162.966000</td>\n",
       "      <td>kcal</td>\n",
       "      <td>JIIN’s Apple Watch</td>\n",
       "      <td>7.1</td>\n",
       "      <td>2021-05-31 22:01:58+09:00</td>\n",
       "      <td>2021-05-31 21:31:56+09:00</td>\n",
       "      <td>2021-05-31 22:01:56+09:00</td>\n",
       "    </tr>\n",
       "    <tr>\n",
       "      <th>441</th>\n",
       "      <td>Cycling</td>\n",
       "      <td>36.857411</td>\n",
       "      <td>min</td>\n",
       "      <td>6.040547</td>\n",
       "      <td>km</td>\n",
       "      <td>74.955120</td>\n",
       "      <td>kcal</td>\n",
       "      <td>JIIN’s Apple Watch</td>\n",
       "      <td>7.1</td>\n",
       "      <td>2021-05-31 22:39:08+09:00</td>\n",
       "      <td>2021-05-31 22:02:11+09:00</td>\n",
       "      <td>2021-05-31 22:39:02+09:00</td>\n",
       "    </tr>\n",
       "    <tr>\n",
       "      <th>442</th>\n",
       "      <td>HighIntensityIntervalTraining</td>\n",
       "      <td>43.296136</td>\n",
       "      <td>min</td>\n",
       "      <td>0.000000</td>\n",
       "      <td>km</td>\n",
       "      <td>225.399000</td>\n",
       "      <td>kcal</td>\n",
       "      <td>JIIN’s Apple Watch</td>\n",
       "      <td>7.1</td>\n",
       "      <td>2021-06-01 18:40:02+09:00</td>\n",
       "      <td>2021-06-01 17:56:41+09:00</td>\n",
       "      <td>2021-06-01 18:39:59+09:00</td>\n",
       "    </tr>\n",
       "    <tr>\n",
       "      <th>443</th>\n",
       "      <td>TraditionalStrengthTraining</td>\n",
       "      <td>26.175044</td>\n",
       "      <td>min</td>\n",
       "      <td>0.000000</td>\n",
       "      <td>km</td>\n",
       "      <td>82.686000</td>\n",
       "      <td>kcal</td>\n",
       "      <td>JIIN’s Apple Watch</td>\n",
       "      <td>7.1</td>\n",
       "      <td>2021-06-01 19:06:22+09:00</td>\n",
       "      <td>2021-06-01 18:40:09+09:00</td>\n",
       "      <td>2021-06-01 19:06:20+09:00</td>\n",
       "    </tr>\n",
       "    <tr>\n",
       "      <th>444</th>\n",
       "      <td>HighIntensityIntervalTraining</td>\n",
       "      <td>23.840656</td>\n",
       "      <td>min</td>\n",
       "      <td>0.000000</td>\n",
       "      <td>km</td>\n",
       "      <td>105.884660</td>\n",
       "      <td>kcal</td>\n",
       "      <td>JIIN’s Apple Watch</td>\n",
       "      <td>7.1</td>\n",
       "      <td>2021-06-01 19:30:22+09:00</td>\n",
       "      <td>2021-06-01 19:06:29+09:00</td>\n",
       "      <td>2021-06-01 19:30:19+09:00</td>\n",
       "    </tr>\n",
       "  </tbody>\n",
       "</table>\n",
       "<p>445 rows × 12 columns</p>\n",
       "</div>"
      ],
      "text/plain": [
       "               workoutActivityType   duration durationUnit  totalDistance  \\\n",
       "0                          Cycling  12.214119          min       1.565187   \n",
       "1      TraditionalStrengthTraining   3.396216          min       0.000000   \n",
       "2                          Cycling  11.183130          min       1.587389   \n",
       "3                           Stairs   4.447274          min       0.000000   \n",
       "4      TraditionalStrengthTraining  25.727872          min       0.000000   \n",
       "..                             ...        ...          ...            ...   \n",
       "440  HighIntensityIntervalTraining  29.991067          min       0.000000   \n",
       "441                        Cycling  36.857411          min       6.040547   \n",
       "442  HighIntensityIntervalTraining  43.296136          min       0.000000   \n",
       "443    TraditionalStrengthTraining  26.175044          min       0.000000   \n",
       "444  HighIntensityIntervalTraining  23.840656          min       0.000000   \n",
       "\n",
       "    totalDistanceUnit  totalEnergyBurned totalEnergyBurnedUnit  \\\n",
       "0                  km           7.735785                  kcal   \n",
       "1                  km          16.948000                  kcal   \n",
       "2                  km          11.424872                  kcal   \n",
       "3                  km          27.564425                  kcal   \n",
       "4                  km          94.590771                  kcal   \n",
       "..                ...                ...                   ...   \n",
       "440                km         162.966000                  kcal   \n",
       "441                km          74.955120                  kcal   \n",
       "442                km         225.399000                  kcal   \n",
       "443                km          82.686000                  kcal   \n",
       "444                km         105.884660                  kcal   \n",
       "\n",
       "             sourceName sourceVersion              creationDate  \\\n",
       "0    JIIN’s Apple Watch         6.2.8 2020-08-16 21:45:57+09:00   \n",
       "1    JIIN’s Apple Watch         6.2.8 2020-08-16 23:02:13+09:00   \n",
       "2    JIIN’s Apple Watch         6.2.8 2020-08-17 21:42:38+09:00   \n",
       "3    JIIN’s Apple Watch         6.2.8 2020-08-17 22:04:25+09:00   \n",
       "4    JIIN’s Apple Watch         6.2.8 2020-08-17 22:47:32+09:00   \n",
       "..                  ...           ...                       ...   \n",
       "440  JIIN’s Apple Watch           7.1 2021-05-31 22:01:58+09:00   \n",
       "441  JIIN’s Apple Watch           7.1 2021-05-31 22:39:08+09:00   \n",
       "442  JIIN’s Apple Watch           7.1 2021-06-01 18:40:02+09:00   \n",
       "443  JIIN’s Apple Watch           7.1 2021-06-01 19:06:22+09:00   \n",
       "444  JIIN’s Apple Watch           7.1 2021-06-01 19:30:22+09:00   \n",
       "\n",
       "                    startDate                   endDate  \n",
       "0   2020-08-16 21:33:42+09:00 2020-08-16 21:45:55+09:00  \n",
       "1   2020-08-16 22:58:48+09:00 2020-08-16 23:02:12+09:00  \n",
       "2   2020-08-17 21:31:25+09:00 2020-08-17 21:42:36+09:00  \n",
       "3   2020-08-17 21:59:58+09:00 2020-08-17 22:04:25+09:00  \n",
       "4   2020-08-17 22:14:49+09:00 2020-08-17 22:47:29+09:00  \n",
       "..                        ...                       ...  \n",
       "440 2021-05-31 21:31:56+09:00 2021-05-31 22:01:56+09:00  \n",
       "441 2021-05-31 22:02:11+09:00 2021-05-31 22:39:02+09:00  \n",
       "442 2021-06-01 17:56:41+09:00 2021-06-01 18:39:59+09:00  \n",
       "443 2021-06-01 18:40:09+09:00 2021-06-01 19:06:20+09:00  \n",
       "444 2021-06-01 19:06:29+09:00 2021-06-01 19:30:19+09:00  \n",
       "\n",
       "[445 rows x 12 columns]"
      ]
     },
     "execution_count": 73,
     "metadata": {},
     "output_type": "execute_result"
    }
   ],
   "source": [
    "df_watch=df_workouts.query('(sourceName!=\"Nike Run Club\")&(sourceName!=\"Nike Training\")').reset_index(drop=True)\n",
    "df_watch"
   ]
  },
  {
   "cell_type": "code",
   "execution_count": 75,
   "id": "9efa36c0",
   "metadata": {
    "ExecuteTime": {
     "end_time": "2021-06-03T06:35:02.758288Z",
     "start_time": "2021-06-03T06:35:02.734255Z"
    }
   },
   "outputs": [],
   "source": [
    "df_watch['date']= df_watch['startDate'].dt.date"
   ]
  },
  {
   "cell_type": "code",
   "execution_count": 76,
   "id": "04a402e1",
   "metadata": {
    "ExecuteTime": {
     "end_time": "2021-06-03T06:39:05.567530Z",
     "start_time": "2021-06-03T06:39:05.509659Z"
    }
   },
   "outputs": [],
   "source": [
    "df_watch.to_csv('watch.csv', index=False)"
   ]
  },
  {
   "cell_type": "code",
   "execution_count": 77,
   "id": "1d73e552",
   "metadata": {
    "ExecuteTime": {
     "end_time": "2021-06-03T06:41:15.936911Z",
     "start_time": "2021-06-03T06:41:15.846779Z"
    }
   },
   "outputs": [
    {
     "data": {
      "text/html": [
       "<div>\n",
       "<style scoped>\n",
       "    .dataframe tbody tr th:only-of-type {\n",
       "        vertical-align: middle;\n",
       "    }\n",
       "\n",
       "    .dataframe tbody tr th {\n",
       "        vertical-align: top;\n",
       "    }\n",
       "\n",
       "    .dataframe thead th {\n",
       "        text-align: right;\n",
       "    }\n",
       "</style>\n",
       "<table border=\"1\" class=\"dataframe\">\n",
       "  <thead>\n",
       "    <tr style=\"text-align: right;\">\n",
       "      <th></th>\n",
       "      <th>workoutActivityType</th>\n",
       "      <th>duration</th>\n",
       "      <th>durationUnit</th>\n",
       "      <th>totalDistance</th>\n",
       "      <th>totalDistanceUnit</th>\n",
       "      <th>totalEnergyBurned</th>\n",
       "      <th>totalEnergyBurnedUnit</th>\n",
       "      <th>sourceName</th>\n",
       "      <th>sourceVersion</th>\n",
       "      <th>creationDate</th>\n",
       "      <th>startDate</th>\n",
       "      <th>endDate</th>\n",
       "      <th>date</th>\n",
       "    </tr>\n",
       "  </thead>\n",
       "  <tbody>\n",
       "    <tr>\n",
       "      <th>0</th>\n",
       "      <td>Cycling</td>\n",
       "      <td>12.214119</td>\n",
       "      <td>min</td>\n",
       "      <td>1.565187</td>\n",
       "      <td>km</td>\n",
       "      <td>7.735785</td>\n",
       "      <td>kcal</td>\n",
       "      <td>JIIN’s Apple Watch</td>\n",
       "      <td>6.2.8</td>\n",
       "      <td>2020-08-16 21:45:57+09:00</td>\n",
       "      <td>2020-08-16 21:33:42+09:00</td>\n",
       "      <td>2020-08-16 21:45:55+09:00</td>\n",
       "      <td>2020-08-16</td>\n",
       "    </tr>\n",
       "    <tr>\n",
       "      <th>1</th>\n",
       "      <td>TraditionalStrengthTraining</td>\n",
       "      <td>3.396216</td>\n",
       "      <td>min</td>\n",
       "      <td>0.000000</td>\n",
       "      <td>km</td>\n",
       "      <td>16.948000</td>\n",
       "      <td>kcal</td>\n",
       "      <td>JIIN’s Apple Watch</td>\n",
       "      <td>6.2.8</td>\n",
       "      <td>2020-08-16 23:02:13+09:00</td>\n",
       "      <td>2020-08-16 22:58:48+09:00</td>\n",
       "      <td>2020-08-16 23:02:12+09:00</td>\n",
       "      <td>2020-08-16</td>\n",
       "    </tr>\n",
       "    <tr>\n",
       "      <th>2</th>\n",
       "      <td>Cycling</td>\n",
       "      <td>11.183130</td>\n",
       "      <td>min</td>\n",
       "      <td>1.587389</td>\n",
       "      <td>km</td>\n",
       "      <td>11.424872</td>\n",
       "      <td>kcal</td>\n",
       "      <td>JIIN’s Apple Watch</td>\n",
       "      <td>6.2.8</td>\n",
       "      <td>2020-08-17 21:42:38+09:00</td>\n",
       "      <td>2020-08-17 21:31:25+09:00</td>\n",
       "      <td>2020-08-17 21:42:36+09:00</td>\n",
       "      <td>2020-08-17</td>\n",
       "    </tr>\n",
       "    <tr>\n",
       "      <th>3</th>\n",
       "      <td>Stairs</td>\n",
       "      <td>4.447274</td>\n",
       "      <td>min</td>\n",
       "      <td>0.000000</td>\n",
       "      <td>km</td>\n",
       "      <td>27.564425</td>\n",
       "      <td>kcal</td>\n",
       "      <td>JIIN’s Apple Watch</td>\n",
       "      <td>6.2.8</td>\n",
       "      <td>2020-08-17 22:04:25+09:00</td>\n",
       "      <td>2020-08-17 21:59:58+09:00</td>\n",
       "      <td>2020-08-17 22:04:25+09:00</td>\n",
       "      <td>2020-08-17</td>\n",
       "    </tr>\n",
       "    <tr>\n",
       "      <th>4</th>\n",
       "      <td>TraditionalStrengthTraining</td>\n",
       "      <td>25.727872</td>\n",
       "      <td>min</td>\n",
       "      <td>0.000000</td>\n",
       "      <td>km</td>\n",
       "      <td>94.590771</td>\n",
       "      <td>kcal</td>\n",
       "      <td>JIIN’s Apple Watch</td>\n",
       "      <td>6.2.8</td>\n",
       "      <td>2020-08-17 22:47:32+09:00</td>\n",
       "      <td>2020-08-17 22:14:49+09:00</td>\n",
       "      <td>2020-08-17 22:47:29+09:00</td>\n",
       "      <td>2020-08-17</td>\n",
       "    </tr>\n",
       "    <tr>\n",
       "      <th>...</th>\n",
       "      <td>...</td>\n",
       "      <td>...</td>\n",
       "      <td>...</td>\n",
       "      <td>...</td>\n",
       "      <td>...</td>\n",
       "      <td>...</td>\n",
       "      <td>...</td>\n",
       "      <td>...</td>\n",
       "      <td>...</td>\n",
       "      <td>...</td>\n",
       "      <td>...</td>\n",
       "      <td>...</td>\n",
       "      <td>...</td>\n",
       "    </tr>\n",
       "    <tr>\n",
       "      <th>440</th>\n",
       "      <td>HighIntensityIntervalTraining</td>\n",
       "      <td>29.991067</td>\n",
       "      <td>min</td>\n",
       "      <td>0.000000</td>\n",
       "      <td>km</td>\n",
       "      <td>162.966000</td>\n",
       "      <td>kcal</td>\n",
       "      <td>JIIN’s Apple Watch</td>\n",
       "      <td>7.1</td>\n",
       "      <td>2021-05-31 22:01:58+09:00</td>\n",
       "      <td>2021-05-31 21:31:56+09:00</td>\n",
       "      <td>2021-05-31 22:01:56+09:00</td>\n",
       "      <td>2021-05-31</td>\n",
       "    </tr>\n",
       "    <tr>\n",
       "      <th>441</th>\n",
       "      <td>Cycling</td>\n",
       "      <td>36.857411</td>\n",
       "      <td>min</td>\n",
       "      <td>6.040547</td>\n",
       "      <td>km</td>\n",
       "      <td>74.955120</td>\n",
       "      <td>kcal</td>\n",
       "      <td>JIIN’s Apple Watch</td>\n",
       "      <td>7.1</td>\n",
       "      <td>2021-05-31 22:39:08+09:00</td>\n",
       "      <td>2021-05-31 22:02:11+09:00</td>\n",
       "      <td>2021-05-31 22:39:02+09:00</td>\n",
       "      <td>2021-05-31</td>\n",
       "    </tr>\n",
       "    <tr>\n",
       "      <th>442</th>\n",
       "      <td>HighIntensityIntervalTraining</td>\n",
       "      <td>43.296136</td>\n",
       "      <td>min</td>\n",
       "      <td>0.000000</td>\n",
       "      <td>km</td>\n",
       "      <td>225.399000</td>\n",
       "      <td>kcal</td>\n",
       "      <td>JIIN’s Apple Watch</td>\n",
       "      <td>7.1</td>\n",
       "      <td>2021-06-01 18:40:02+09:00</td>\n",
       "      <td>2021-06-01 17:56:41+09:00</td>\n",
       "      <td>2021-06-01 18:39:59+09:00</td>\n",
       "      <td>2021-06-01</td>\n",
       "    </tr>\n",
       "    <tr>\n",
       "      <th>443</th>\n",
       "      <td>TraditionalStrengthTraining</td>\n",
       "      <td>26.175044</td>\n",
       "      <td>min</td>\n",
       "      <td>0.000000</td>\n",
       "      <td>km</td>\n",
       "      <td>82.686000</td>\n",
       "      <td>kcal</td>\n",
       "      <td>JIIN’s Apple Watch</td>\n",
       "      <td>7.1</td>\n",
       "      <td>2021-06-01 19:06:22+09:00</td>\n",
       "      <td>2021-06-01 18:40:09+09:00</td>\n",
       "      <td>2021-06-01 19:06:20+09:00</td>\n",
       "      <td>2021-06-01</td>\n",
       "    </tr>\n",
       "    <tr>\n",
       "      <th>444</th>\n",
       "      <td>HighIntensityIntervalTraining</td>\n",
       "      <td>23.840656</td>\n",
       "      <td>min</td>\n",
       "      <td>0.000000</td>\n",
       "      <td>km</td>\n",
       "      <td>105.884660</td>\n",
       "      <td>kcal</td>\n",
       "      <td>JIIN’s Apple Watch</td>\n",
       "      <td>7.1</td>\n",
       "      <td>2021-06-01 19:30:22+09:00</td>\n",
       "      <td>2021-06-01 19:06:29+09:00</td>\n",
       "      <td>2021-06-01 19:30:19+09:00</td>\n",
       "      <td>2021-06-01</td>\n",
       "    </tr>\n",
       "  </tbody>\n",
       "</table>\n",
       "<p>445 rows × 13 columns</p>\n",
       "</div>"
      ],
      "text/plain": [
       "               workoutActivityType   duration durationUnit  totalDistance  \\\n",
       "0                          Cycling  12.214119          min       1.565187   \n",
       "1      TraditionalStrengthTraining   3.396216          min       0.000000   \n",
       "2                          Cycling  11.183130          min       1.587389   \n",
       "3                           Stairs   4.447274          min       0.000000   \n",
       "4      TraditionalStrengthTraining  25.727872          min       0.000000   \n",
       "..                             ...        ...          ...            ...   \n",
       "440  HighIntensityIntervalTraining  29.991067          min       0.000000   \n",
       "441                        Cycling  36.857411          min       6.040547   \n",
       "442  HighIntensityIntervalTraining  43.296136          min       0.000000   \n",
       "443    TraditionalStrengthTraining  26.175044          min       0.000000   \n",
       "444  HighIntensityIntervalTraining  23.840656          min       0.000000   \n",
       "\n",
       "    totalDistanceUnit  totalEnergyBurned totalEnergyBurnedUnit  \\\n",
       "0                  km           7.735785                  kcal   \n",
       "1                  km          16.948000                  kcal   \n",
       "2                  km          11.424872                  kcal   \n",
       "3                  km          27.564425                  kcal   \n",
       "4                  km          94.590771                  kcal   \n",
       "..                ...                ...                   ...   \n",
       "440                km         162.966000                  kcal   \n",
       "441                km          74.955120                  kcal   \n",
       "442                km         225.399000                  kcal   \n",
       "443                km          82.686000                  kcal   \n",
       "444                km         105.884660                  kcal   \n",
       "\n",
       "             sourceName sourceVersion              creationDate  \\\n",
       "0    JIIN’s Apple Watch         6.2.8 2020-08-16 21:45:57+09:00   \n",
       "1    JIIN’s Apple Watch         6.2.8 2020-08-16 23:02:13+09:00   \n",
       "2    JIIN’s Apple Watch         6.2.8 2020-08-17 21:42:38+09:00   \n",
       "3    JIIN’s Apple Watch         6.2.8 2020-08-17 22:04:25+09:00   \n",
       "4    JIIN’s Apple Watch         6.2.8 2020-08-17 22:47:32+09:00   \n",
       "..                  ...           ...                       ...   \n",
       "440  JIIN’s Apple Watch           7.1 2021-05-31 22:01:58+09:00   \n",
       "441  JIIN’s Apple Watch           7.1 2021-05-31 22:39:08+09:00   \n",
       "442  JIIN’s Apple Watch           7.1 2021-06-01 18:40:02+09:00   \n",
       "443  JIIN’s Apple Watch           7.1 2021-06-01 19:06:22+09:00   \n",
       "444  JIIN’s Apple Watch           7.1 2021-06-01 19:30:22+09:00   \n",
       "\n",
       "                    startDate                   endDate        date  \n",
       "0   2020-08-16 21:33:42+09:00 2020-08-16 21:45:55+09:00  2020-08-16  \n",
       "1   2020-08-16 22:58:48+09:00 2020-08-16 23:02:12+09:00  2020-08-16  \n",
       "2   2020-08-17 21:31:25+09:00 2020-08-17 21:42:36+09:00  2020-08-17  \n",
       "3   2020-08-17 21:59:58+09:00 2020-08-17 22:04:25+09:00  2020-08-17  \n",
       "4   2020-08-17 22:14:49+09:00 2020-08-17 22:47:29+09:00  2020-08-17  \n",
       "..                        ...                       ...         ...  \n",
       "440 2021-05-31 21:31:56+09:00 2021-05-31 22:01:56+09:00  2021-05-31  \n",
       "441 2021-05-31 22:02:11+09:00 2021-05-31 22:39:02+09:00  2021-05-31  \n",
       "442 2021-06-01 17:56:41+09:00 2021-06-01 18:39:59+09:00  2021-06-01  \n",
       "443 2021-06-01 18:40:09+09:00 2021-06-01 19:06:20+09:00  2021-06-01  \n",
       "444 2021-06-01 19:06:29+09:00 2021-06-01 19:30:19+09:00  2021-06-01  \n",
       "\n",
       "[445 rows x 13 columns]"
      ]
     },
     "execution_count": 77,
     "metadata": {},
     "output_type": "execute_result"
    }
   ],
   "source": [
    "df_watch"
   ]
  },
  {
   "cell_type": "markdown",
   "id": "a87eb26b",
   "metadata": {},
   "source": [
    "## df_energy"
   ]
  },
  {
   "cell_type": "code",
   "execution_count": 18,
   "id": "9af79d85",
   "metadata": {
    "ExecuteTime": {
     "end_time": "2021-06-03T05:01:36.036726Z",
     "start_time": "2021-06-03T05:01:26.816775Z"
    },
    "scrolled": true
   },
   "outputs": [],
   "source": [
    "energy = energy.query(\"(sourcename!='Nike Run Club')&(sourcename!='Nike Training')\")\n",
    "energy['startdate'] = pd.to_datetime(energy['startdate']).dt.date\n",
    "energy['enddate'] = pd.to_datetime(energy['enddate']).dt.date"
   ]
  },
  {
   "cell_type": "code",
   "execution_count": 19,
   "id": "37cf6737",
   "metadata": {
    "ExecuteTime": {
     "end_time": "2021-06-03T05:01:36.368676Z",
     "start_time": "2021-06-03T05:01:36.275053Z"
    },
    "scrolled": true
   },
   "outputs": [
    {
     "data": {
      "text/html": [
       "<div>\n",
       "<style scoped>\n",
       "    .dataframe tbody tr th:only-of-type {\n",
       "        vertical-align: middle;\n",
       "    }\n",
       "\n",
       "    .dataframe tbody tr th {\n",
       "        vertical-align: top;\n",
       "    }\n",
       "\n",
       "    .dataframe thead th {\n",
       "        text-align: right;\n",
       "    }\n",
       "</style>\n",
       "<table border=\"1\" class=\"dataframe\">\n",
       "  <thead>\n",
       "    <tr style=\"text-align: right;\">\n",
       "      <th></th>\n",
       "      <th>date</th>\n",
       "      <th>value</th>\n",
       "    </tr>\n",
       "  </thead>\n",
       "  <tbody>\n",
       "    <tr>\n",
       "      <th>2</th>\n",
       "      <td>2020-08-17</td>\n",
       "      <td>489.055</td>\n",
       "    </tr>\n",
       "    <tr>\n",
       "      <th>3</th>\n",
       "      <td>2020-08-18</td>\n",
       "      <td>550.975</td>\n",
       "    </tr>\n",
       "    <tr>\n",
       "      <th>4</th>\n",
       "      <td>2020-08-19</td>\n",
       "      <td>328.396</td>\n",
       "    </tr>\n",
       "    <tr>\n",
       "      <th>5</th>\n",
       "      <td>2020-08-20</td>\n",
       "      <td>440.190</td>\n",
       "    </tr>\n",
       "    <tr>\n",
       "      <th>6</th>\n",
       "      <td>2020-08-21</td>\n",
       "      <td>500.187</td>\n",
       "    </tr>\n",
       "  </tbody>\n",
       "</table>\n",
       "</div>"
      ],
      "text/plain": [
       "        date    value\n",
       "2 2020-08-17  489.055\n",
       "3 2020-08-18  550.975\n",
       "4 2020-08-19  328.396\n",
       "5 2020-08-20  440.190\n",
       "6 2020-08-21  500.187"
      ]
     },
     "execution_count": 19,
     "metadata": {},
     "output_type": "execute_result"
    }
   ],
   "source": [
    "# preprocessed data\n",
    "df_energy = energy.groupby('startdate').value.sum().to_frame().reset_index().rename(columns={'startdate':'date'})\n",
    "df_energy = df_energy.sort_values('date')\n",
    "df_energy['date'] = pd.to_datetime(df_energy['date'])\n",
    "df_energy = df_energy.query(\"date>'2020-08-16'\")\n",
    "df_energy.head()"
   ]
  },
  {
   "cell_type": "markdown",
   "id": "d526cc86",
   "metadata": {},
   "source": [
    "## df_exercise"
   ]
  },
  {
   "cell_type": "code",
   "execution_count": 21,
   "id": "79d17297",
   "metadata": {
    "ExecuteTime": {
     "end_time": "2021-06-03T05:01:40.135097Z",
     "start_time": "2021-06-03T05:01:39.841888Z"
    },
    "scrolled": true
   },
   "outputs": [],
   "source": [
    "exercise = pd.read_csv('data/AppleExerciseTime.csv', encoding='CP949')\n",
    "exercise = exercise.query(\"sourcename!='Genie'\")\n",
    "exercise['startdate'] = pd.to_datetime(exercise['startdate']).dt.date"
   ]
  },
  {
   "cell_type": "code",
   "execution_count": 22,
   "id": "7808d98c",
   "metadata": {
    "ExecuteTime": {
     "end_time": "2021-06-03T05:01:40.606944Z",
     "start_time": "2021-06-03T05:01:40.569485Z"
    },
    "scrolled": true
   },
   "outputs": [
    {
     "data": {
      "text/html": [
       "<div>\n",
       "<style scoped>\n",
       "    .dataframe tbody tr th:only-of-type {\n",
       "        vertical-align: middle;\n",
       "    }\n",
       "\n",
       "    .dataframe tbody tr th {\n",
       "        vertical-align: top;\n",
       "    }\n",
       "\n",
       "    .dataframe thead th {\n",
       "        text-align: right;\n",
       "    }\n",
       "</style>\n",
       "<table border=\"1\" class=\"dataframe\">\n",
       "  <thead>\n",
       "    <tr style=\"text-align: right;\">\n",
       "      <th></th>\n",
       "      <th>date</th>\n",
       "      <th>value</th>\n",
       "    </tr>\n",
       "  </thead>\n",
       "  <tbody>\n",
       "    <tr>\n",
       "      <th>0</th>\n",
       "      <td>2020-08-16</td>\n",
       "      <td>69</td>\n",
       "    </tr>\n",
       "    <tr>\n",
       "      <th>1</th>\n",
       "      <td>2020-08-17</td>\n",
       "      <td>51</td>\n",
       "    </tr>\n",
       "    <tr>\n",
       "      <th>2</th>\n",
       "      <td>2020-08-18</td>\n",
       "      <td>84</td>\n",
       "    </tr>\n",
       "    <tr>\n",
       "      <th>3</th>\n",
       "      <td>2020-08-19</td>\n",
       "      <td>31</td>\n",
       "    </tr>\n",
       "    <tr>\n",
       "      <th>4</th>\n",
       "      <td>2020-08-20</td>\n",
       "      <td>64</td>\n",
       "    </tr>\n",
       "  </tbody>\n",
       "</table>\n",
       "</div>"
      ],
      "text/plain": [
       "        date  value\n",
       "0 2020-08-16     69\n",
       "1 2020-08-17     51\n",
       "2 2020-08-18     84\n",
       "3 2020-08-19     31\n",
       "4 2020-08-20     64"
      ]
     },
     "execution_count": 22,
     "metadata": {},
     "output_type": "execute_result"
    }
   ],
   "source": [
    "# preprocessed data\n",
    "df_exercise = exercise.groupby('startdate').value.sum().to_frame().reset_index().rename(columns={'startdate':'date'})\n",
    "df_exercise = df_exercise.sort_values('date')\n",
    "df_exercise['date'] = pd.to_datetime(df_exercise['date'])\n",
    "df_exercise.head()"
   ]
  },
  {
   "cell_type": "markdown",
   "id": "6ed8e2f0",
   "metadata": {},
   "source": [
    "## df_distance"
   ]
  },
  {
   "cell_type": "code",
   "execution_count": 32,
   "id": "48ebd5c6",
   "metadata": {
    "ExecuteTime": {
     "end_time": "2021-06-03T05:12:19.394389Z",
     "start_time": "2021-06-03T05:12:16.461882Z"
    }
   },
   "outputs": [],
   "source": [
    "distance = pd.read_csv('data/DistanceWalkingRunning.csv', encoding='CP949')\n",
    "distance = distance.query(\"sourcename!='Genie'\")\n",
    "distance['startdate'] = pd.to_datetime(distance['startdate']).dt.date"
   ]
  },
  {
   "cell_type": "code",
   "execution_count": 33,
   "id": "312cd513",
   "metadata": {
    "ExecuteTime": {
     "end_time": "2021-06-03T05:12:19.809918Z",
     "start_time": "2021-06-03T05:12:19.732677Z"
    }
   },
   "outputs": [
    {
     "data": {
      "text/html": [
       "<div>\n",
       "<style scoped>\n",
       "    .dataframe tbody tr th:only-of-type {\n",
       "        vertical-align: middle;\n",
       "    }\n",
       "\n",
       "    .dataframe tbody tr th {\n",
       "        vertical-align: top;\n",
       "    }\n",
       "\n",
       "    .dataframe thead th {\n",
       "        text-align: right;\n",
       "    }\n",
       "</style>\n",
       "<table border=\"1\" class=\"dataframe\">\n",
       "  <thead>\n",
       "    <tr style=\"text-align: right;\">\n",
       "      <th></th>\n",
       "      <th>date</th>\n",
       "      <th>distance</th>\n",
       "    </tr>\n",
       "  </thead>\n",
       "  <tbody>\n",
       "    <tr>\n",
       "      <th>0</th>\n",
       "      <td>2020-08-16</td>\n",
       "      <td>7.013537</td>\n",
       "    </tr>\n",
       "    <tr>\n",
       "      <th>1</th>\n",
       "      <td>2020-08-17</td>\n",
       "      <td>4.947636</td>\n",
       "    </tr>\n",
       "    <tr>\n",
       "      <th>2</th>\n",
       "      <td>2020-08-18</td>\n",
       "      <td>7.536832</td>\n",
       "    </tr>\n",
       "    <tr>\n",
       "      <th>3</th>\n",
       "      <td>2020-08-19</td>\n",
       "      <td>4.799144</td>\n",
       "    </tr>\n",
       "    <tr>\n",
       "      <th>4</th>\n",
       "      <td>2020-08-20</td>\n",
       "      <td>7.202377</td>\n",
       "    </tr>\n",
       "  </tbody>\n",
       "</table>\n",
       "</div>"
      ],
      "text/plain": [
       "        date  distance\n",
       "0 2020-08-16  7.013537\n",
       "1 2020-08-17  4.947636\n",
       "2 2020-08-18  7.536832\n",
       "3 2020-08-19  4.799144\n",
       "4 2020-08-20  7.202377"
      ]
     },
     "execution_count": 33,
     "metadata": {},
     "output_type": "execute_result"
    }
   ],
   "source": [
    "# preprocessed data\n",
    "df_distance = distance.groupby('startdate').value.sum().to_frame().reset_index().rename(columns={'startdate':'date', 'value':'distance'})\n",
    "df_distance = df_distance.sort_values('date')\n",
    "df_distance['date'] = pd.to_datetime(df_distance['date'])\n",
    "df_distance.head()"
   ]
  },
  {
   "cell_type": "code",
   "execution_count": null,
   "id": "8151f8ca",
   "metadata": {},
   "outputs": [],
   "source": [
    "df_energy"
   ]
  },
  {
   "cell_type": "markdown",
   "id": "e86af28c",
   "metadata": {},
   "source": [
    "## df_audio"
   ]
  },
  {
   "cell_type": "code",
   "execution_count": 101,
   "id": "3189e967",
   "metadata": {
    "ExecuteTime": {
     "end_time": "2021-06-02T11:24:30.855048Z",
     "start_time": "2021-06-02T11:24:30.727184Z"
    }
   },
   "outputs": [
    {
     "data": {
      "text/html": [
       "<div>\n",
       "<style scoped>\n",
       "    .dataframe tbody tr th:only-of-type {\n",
       "        vertical-align: middle;\n",
       "    }\n",
       "\n",
       "    .dataframe tbody tr th {\n",
       "        vertical-align: top;\n",
       "    }\n",
       "\n",
       "    .dataframe thead th {\n",
       "        text-align: right;\n",
       "    }\n",
       "</style>\n",
       "<table border=\"1\" class=\"dataframe\">\n",
       "  <thead>\n",
       "    <tr style=\"text-align: right;\">\n",
       "      <th></th>\n",
       "      <th>sourcename</th>\n",
       "      <th>sourceversion</th>\n",
       "      <th>unit</th>\n",
       "      <th>creationdate</th>\n",
       "      <th>startdate</th>\n",
       "      <th>enddate</th>\n",
       "      <th>value</th>\n",
       "    </tr>\n",
       "  </thead>\n",
       "  <tbody>\n",
       "    <tr>\n",
       "      <th>0</th>\n",
       "      <td>Genie</td>\n",
       "      <td>13.1.3</td>\n",
       "      <td>dBASPL</td>\n",
       "      <td>2019-11-08 18:28:18 +0900</td>\n",
       "      <td>2019-11-08 18:25:10 +0900</td>\n",
       "      <td>2019-11-08 18:28:15 +0900</td>\n",
       "      <td>81.6488</td>\n",
       "    </tr>\n",
       "    <tr>\n",
       "      <th>1</th>\n",
       "      <td>Genie</td>\n",
       "      <td>13.1.3</td>\n",
       "      <td>dBASPL</td>\n",
       "      <td>2019-11-08 18:28:24 +0900</td>\n",
       "      <td>2019-11-08 18:28:18 +0900</td>\n",
       "      <td>2019-11-08 18:28:21 +0900</td>\n",
       "      <td>73.4478</td>\n",
       "    </tr>\n",
       "    <tr>\n",
       "      <th>2</th>\n",
       "      <td>Genie</td>\n",
       "      <td>13.1.3</td>\n",
       "      <td>dBASPL</td>\n",
       "      <td>2019-11-08 18:39:18 +0900</td>\n",
       "      <td>2019-11-08 18:39:09 +0900</td>\n",
       "      <td>2019-11-08 18:39:12 +0900</td>\n",
       "      <td>77.3016</td>\n",
       "    </tr>\n",
       "    <tr>\n",
       "      <th>3</th>\n",
       "      <td>Genie</td>\n",
       "      <td>13.1.3</td>\n",
       "      <td>dBASPL</td>\n",
       "      <td>2019-11-08 19:00:51 +0900</td>\n",
       "      <td>2019-11-08 18:49:51 +0900</td>\n",
       "      <td>2019-11-08 18:51:18 +0900</td>\n",
       "      <td>74.9442</td>\n",
       "    </tr>\n",
       "    <tr>\n",
       "      <th>4</th>\n",
       "      <td>Genie</td>\n",
       "      <td>13.1.3</td>\n",
       "      <td>dBASPL</td>\n",
       "      <td>2019-11-08 19:00:51 +0900</td>\n",
       "      <td>2019-11-08 18:51:18 +0900</td>\n",
       "      <td>2019-11-08 18:53:37 +0900</td>\n",
       "      <td>76.9515</td>\n",
       "    </tr>\n",
       "  </tbody>\n",
       "</table>\n",
       "</div>"
      ],
      "text/plain": [
       "  sourcename sourceversion    unit               creationdate  \\\n",
       "0      Genie        13.1.3  dBASPL  2019-11-08 18:28:18 +0900   \n",
       "1      Genie        13.1.3  dBASPL  2019-11-08 18:28:24 +0900   \n",
       "2      Genie        13.1.3  dBASPL  2019-11-08 18:39:18 +0900   \n",
       "3      Genie        13.1.3  dBASPL  2019-11-08 19:00:51 +0900   \n",
       "4      Genie        13.1.3  dBASPL  2019-11-08 19:00:51 +0900   \n",
       "\n",
       "                   startdate                    enddate    value  \n",
       "0  2019-11-08 18:25:10 +0900  2019-11-08 18:28:15 +0900  81.6488  \n",
       "1  2019-11-08 18:28:18 +0900  2019-11-08 18:28:21 +0900  73.4478  \n",
       "2  2019-11-08 18:39:09 +0900  2019-11-08 18:39:12 +0900  77.3016  \n",
       "3  2019-11-08 18:49:51 +0900  2019-11-08 18:51:18 +0900  74.9442  \n",
       "4  2019-11-08 18:51:18 +0900  2019-11-08 18:53:37 +0900  76.9515  "
      ]
     },
     "execution_count": 101,
     "metadata": {},
     "output_type": "execute_result"
    }
   ],
   "source": [
    "audio = pd.read_csv('data/AudioExposure.csv', encoding='CP949')\n",
    "distance = distance.query(\"sourcename!='Genie'\")\n",
    "audio.head()"
   ]
  },
  {
   "cell_type": "code",
   "execution_count": 103,
   "id": "69452e74",
   "metadata": {
    "ExecuteTime": {
     "end_time": "2021-06-02T11:28:13.252869Z",
     "start_time": "2021-06-02T11:28:13.212581Z"
    }
   },
   "outputs": [
    {
     "data": {
      "text/html": [
       "<div>\n",
       "<style scoped>\n",
       "    .dataframe tbody tr th:only-of-type {\n",
       "        vertical-align: middle;\n",
       "    }\n",
       "\n",
       "    .dataframe tbody tr th {\n",
       "        vertical-align: top;\n",
       "    }\n",
       "\n",
       "    .dataframe thead th {\n",
       "        text-align: right;\n",
       "    }\n",
       "</style>\n",
       "<table border=\"1\" class=\"dataframe\">\n",
       "  <thead>\n",
       "    <tr style=\"text-align: right;\">\n",
       "      <th></th>\n",
       "      <th>sourcename</th>\n",
       "      <th>sourceversion</th>\n",
       "      <th>unit</th>\n",
       "      <th>creationdate</th>\n",
       "      <th>startdate</th>\n",
       "      <th>enddate</th>\n",
       "      <th>value</th>\n",
       "    </tr>\n",
       "  </thead>\n",
       "  <tbody>\n",
       "    <tr>\n",
       "      <th>0</th>\n",
       "      <td>Genie</td>\n",
       "      <td>13.1.3</td>\n",
       "      <td>dBASPL</td>\n",
       "      <td>2019-11-08 18:28:18 +0900</td>\n",
       "      <td>2019-11-08 18:25:10 +0900</td>\n",
       "      <td>2019-11-08 18:28:15 +0900</td>\n",
       "      <td>81.6488</td>\n",
       "    </tr>\n",
       "    <tr>\n",
       "      <th>1</th>\n",
       "      <td>Genie</td>\n",
       "      <td>13.1.3</td>\n",
       "      <td>dBASPL</td>\n",
       "      <td>2019-11-08 18:28:24 +0900</td>\n",
       "      <td>2019-11-08 18:28:18 +0900</td>\n",
       "      <td>2019-11-08 18:28:21 +0900</td>\n",
       "      <td>73.4478</td>\n",
       "    </tr>\n",
       "    <tr>\n",
       "      <th>2</th>\n",
       "      <td>Genie</td>\n",
       "      <td>13.1.3</td>\n",
       "      <td>dBASPL</td>\n",
       "      <td>2019-11-08 18:39:18 +0900</td>\n",
       "      <td>2019-11-08 18:39:09 +0900</td>\n",
       "      <td>2019-11-08 18:39:12 +0900</td>\n",
       "      <td>77.3016</td>\n",
       "    </tr>\n",
       "    <tr>\n",
       "      <th>3</th>\n",
       "      <td>Genie</td>\n",
       "      <td>13.1.3</td>\n",
       "      <td>dBASPL</td>\n",
       "      <td>2019-11-08 19:00:51 +0900</td>\n",
       "      <td>2019-11-08 18:49:51 +0900</td>\n",
       "      <td>2019-11-08 18:51:18 +0900</td>\n",
       "      <td>74.9442</td>\n",
       "    </tr>\n",
       "    <tr>\n",
       "      <th>4</th>\n",
       "      <td>Genie</td>\n",
       "      <td>13.1.3</td>\n",
       "      <td>dBASPL</td>\n",
       "      <td>2019-11-08 19:00:51 +0900</td>\n",
       "      <td>2019-11-08 18:51:18 +0900</td>\n",
       "      <td>2019-11-08 18:53:37 +0900</td>\n",
       "      <td>76.9515</td>\n",
       "    </tr>\n",
       "  </tbody>\n",
       "</table>\n",
       "</div>"
      ],
      "text/plain": [
       "  sourcename sourceversion    unit               creationdate  \\\n",
       "0      Genie        13.1.3  dBASPL  2019-11-08 18:28:18 +0900   \n",
       "1      Genie        13.1.3  dBASPL  2019-11-08 18:28:24 +0900   \n",
       "2      Genie        13.1.3  dBASPL  2019-11-08 18:39:18 +0900   \n",
       "3      Genie        13.1.3  dBASPL  2019-11-08 19:00:51 +0900   \n",
       "4      Genie        13.1.3  dBASPL  2019-11-08 19:00:51 +0900   \n",
       "\n",
       "                   startdate                    enddate    value  \n",
       "0  2019-11-08 18:25:10 +0900  2019-11-08 18:28:15 +0900  81.6488  \n",
       "1  2019-11-08 18:28:18 +0900  2019-11-08 18:28:21 +0900  73.4478  \n",
       "2  2019-11-08 18:39:09 +0900  2019-11-08 18:39:12 +0900  77.3016  \n",
       "3  2019-11-08 18:49:51 +0900  2019-11-08 18:51:18 +0900  74.9442  \n",
       "4  2019-11-08 18:51:18 +0900  2019-11-08 18:53:37 +0900  76.9515  "
      ]
     },
     "execution_count": 103,
     "metadata": {},
     "output_type": "execute_result"
    }
   ],
   "source": [
    "audio = audio.query(\"sourcename=='Genie'\")\n",
    "audio = audio.sort_values('startdate')\n",
    "audio.head()"
   ]
  },
  {
   "cell_type": "code",
   "execution_count": 104,
   "id": "72080616",
   "metadata": {
    "ExecuteTime": {
     "end_time": "2021-06-02T11:29:29.937994Z",
     "start_time": "2021-06-02T11:29:29.881695Z"
    },
    "scrolled": true
   },
   "outputs": [
    {
     "data": {
      "text/html": [
       "<div>\n",
       "<style scoped>\n",
       "    .dataframe tbody tr th:only-of-type {\n",
       "        vertical-align: middle;\n",
       "    }\n",
       "\n",
       "    .dataframe tbody tr th {\n",
       "        vertical-align: top;\n",
       "    }\n",
       "\n",
       "    .dataframe thead th {\n",
       "        text-align: right;\n",
       "    }\n",
       "</style>\n",
       "<table border=\"1\" class=\"dataframe\">\n",
       "  <thead>\n",
       "    <tr style=\"text-align: right;\">\n",
       "      <th></th>\n",
       "      <th>sourcename</th>\n",
       "      <th>sourceversion</th>\n",
       "      <th>unit</th>\n",
       "      <th>creationdate</th>\n",
       "      <th>startdate</th>\n",
       "      <th>enddate</th>\n",
       "      <th>value</th>\n",
       "    </tr>\n",
       "  </thead>\n",
       "  <tbody>\n",
       "    <tr>\n",
       "      <th>17</th>\n",
       "      <td>Genie</td>\n",
       "      <td>13.1.2</td>\n",
       "      <td>dBASPL</td>\n",
       "      <td>2019-10-06 17:23:20 +0900</td>\n",
       "      <td>2019-10-06 17:23:14 +0900</td>\n",
       "      <td>2019-10-06 17:53:13 +0900</td>\n",
       "      <td>79.1660</td>\n",
       "    </tr>\n",
       "    <tr>\n",
       "      <th>18</th>\n",
       "      <td>Genie</td>\n",
       "      <td>13.1.2</td>\n",
       "      <td>dBASPL</td>\n",
       "      <td>2019-10-06 17:54:20 +0900</td>\n",
       "      <td>2019-10-06 17:53:13 +0900</td>\n",
       "      <td>2019-10-06 18:01:54 +0900</td>\n",
       "      <td>77.6309</td>\n",
       "    </tr>\n",
       "    <tr>\n",
       "      <th>19</th>\n",
       "      <td>Genie</td>\n",
       "      <td>13.1.2</td>\n",
       "      <td>dBASPL</td>\n",
       "      <td>2019-10-06 18:04:20 +0900</td>\n",
       "      <td>2019-10-06 18:01:54 +0900</td>\n",
       "      <td>2019-10-06 18:02:58 +0900</td>\n",
       "      <td>70.8388</td>\n",
       "    </tr>\n",
       "    <tr>\n",
       "      <th>20</th>\n",
       "      <td>Genie</td>\n",
       "      <td>13.1.2</td>\n",
       "      <td>dBASPL</td>\n",
       "      <td>2019-10-06 18:04:20 +0900</td>\n",
       "      <td>2019-10-06 18:02:58 +0900</td>\n",
       "      <td>2019-10-06 18:04:44 +0900</td>\n",
       "      <td>69.9411</td>\n",
       "    </tr>\n",
       "    <tr>\n",
       "      <th>21</th>\n",
       "      <td>Genie</td>\n",
       "      <td>13.1.2</td>\n",
       "      <td>dBASPL</td>\n",
       "      <td>2019-10-06 18:19:07 +0900</td>\n",
       "      <td>2019-10-06 18:04:51 +0900</td>\n",
       "      <td>2019-10-06 18:05:34 +0900</td>\n",
       "      <td>64.9373</td>\n",
       "    </tr>\n",
       "  </tbody>\n",
       "</table>\n",
       "</div>"
      ],
      "text/plain": [
       "   sourcename sourceversion    unit               creationdate  \\\n",
       "17      Genie        13.1.2  dBASPL  2019-10-06 17:23:20 +0900   \n",
       "18      Genie        13.1.2  dBASPL  2019-10-06 17:54:20 +0900   \n",
       "19      Genie        13.1.2  dBASPL  2019-10-06 18:04:20 +0900   \n",
       "20      Genie        13.1.2  dBASPL  2019-10-06 18:04:20 +0900   \n",
       "21      Genie        13.1.2  dBASPL  2019-10-06 18:19:07 +0900   \n",
       "\n",
       "                    startdate                    enddate    value  \n",
       "17  2019-10-06 17:23:14 +0900  2019-10-06 17:53:13 +0900  79.1660  \n",
       "18  2019-10-06 17:53:13 +0900  2019-10-06 18:01:54 +0900  77.6309  \n",
       "19  2019-10-06 18:01:54 +0900  2019-10-06 18:02:58 +0900  70.8388  \n",
       "20  2019-10-06 18:02:58 +0900  2019-10-06 18:04:44 +0900  69.9411  \n",
       "21  2019-10-06 18:04:51 +0900  2019-10-06 18:05:34 +0900  64.9373  "
      ]
     },
     "execution_count": 104,
     "metadata": {},
     "output_type": "execute_result"
    }
   ],
   "source": [
    "audio = audio.sort_values('startdate')\n",
    "audio['startdate'] = pd.to_datetime(audio['startdate'])\n",
    "audio['enddate'] = pd.to_datetime(audio['enddate'])\n",
    "audio.head()"
   ]
  },
  {
   "cell_type": "markdown",
   "id": "443fd515",
   "metadata": {},
   "source": [
    "## df_step"
   ]
  },
  {
   "cell_type": "code",
   "execution_count": 34,
   "id": "bf68b904",
   "metadata": {
    "ExecuteTime": {
     "end_time": "2021-06-03T05:12:25.503390Z",
     "start_time": "2021-06-03T05:12:24.826900Z"
    }
   },
   "outputs": [],
   "source": [
    "step = pd.read_csv('data/StepCount.csv', encoding='CP949')"
   ]
  },
  {
   "cell_type": "code",
   "execution_count": 35,
   "id": "055c1f6f",
   "metadata": {
    "ExecuteTime": {
     "end_time": "2021-06-03T05:12:26.782717Z",
     "start_time": "2021-06-03T05:12:25.838740Z"
    }
   },
   "outputs": [],
   "source": [
    "step = step.query(\"sourcename=='Genie'\")\n",
    "step['startdate'] = pd.to_datetime(step['startdate']).dt.date"
   ]
  },
  {
   "cell_type": "code",
   "execution_count": 36,
   "id": "25562dce",
   "metadata": {
    "ExecuteTime": {
     "end_time": "2021-06-03T05:12:28.462445Z",
     "start_time": "2021-06-03T05:12:28.416023Z"
    },
    "scrolled": true
   },
   "outputs": [
    {
     "data": {
      "text/html": [
       "<div>\n",
       "<style scoped>\n",
       "    .dataframe tbody tr th:only-of-type {\n",
       "        vertical-align: middle;\n",
       "    }\n",
       "\n",
       "    .dataframe tbody tr th {\n",
       "        vertical-align: top;\n",
       "    }\n",
       "\n",
       "    .dataframe thead th {\n",
       "        text-align: right;\n",
       "    }\n",
       "</style>\n",
       "<table border=\"1\" class=\"dataframe\">\n",
       "  <thead>\n",
       "    <tr style=\"text-align: right;\">\n",
       "      <th></th>\n",
       "      <th>date</th>\n",
       "      <th>step</th>\n",
       "    </tr>\n",
       "  </thead>\n",
       "  <tbody>\n",
       "    <tr>\n",
       "      <th>0</th>\n",
       "      <td>2016-01-11</td>\n",
       "      <td>1683</td>\n",
       "    </tr>\n",
       "    <tr>\n",
       "      <th>1</th>\n",
       "      <td>2016-01-12</td>\n",
       "      <td>12212</td>\n",
       "    </tr>\n",
       "    <tr>\n",
       "      <th>2</th>\n",
       "      <td>2016-01-13</td>\n",
       "      <td>6464</td>\n",
       "    </tr>\n",
       "    <tr>\n",
       "      <th>3</th>\n",
       "      <td>2016-01-14</td>\n",
       "      <td>12264</td>\n",
       "    </tr>\n",
       "    <tr>\n",
       "      <th>4</th>\n",
       "      <td>2016-01-15</td>\n",
       "      <td>12303</td>\n",
       "    </tr>\n",
       "  </tbody>\n",
       "</table>\n",
       "</div>"
      ],
      "text/plain": [
       "        date   step\n",
       "0 2016-01-11   1683\n",
       "1 2016-01-12  12212\n",
       "2 2016-01-13   6464\n",
       "3 2016-01-14  12264\n",
       "4 2016-01-15  12303"
      ]
     },
     "execution_count": 36,
     "metadata": {},
     "output_type": "execute_result"
    }
   ],
   "source": [
    "# preprocessed data\n",
    "df_step = step.groupby('startdate').value.sum().to_frame().reset_index().rename(columns={'startdate':'date', 'value':'step'})\n",
    "df_step = df_step.sort_values('date')\n",
    "df_step['date'] = pd.to_datetime(df_step['date'])\n",
    "df_step.head()"
   ]
  },
  {
   "cell_type": "code",
   "execution_count": 114,
   "id": "fb2b193d",
   "metadata": {
    "ExecuteTime": {
     "end_time": "2021-06-02T12:00:53.680600Z",
     "start_time": "2021-06-02T12:00:53.666581Z"
    }
   },
   "outputs": [],
   "source": [
    "df_step['date'] = pd.to_datetime(df_step['date'])\n",
    "df_step = df_step.query(\"date>'2017-01-01'\")"
   ]
  },
  {
   "cell_type": "code",
   "execution_count": 125,
   "id": "a3730947",
   "metadata": {
    "ExecuteTime": {
     "end_time": "2021-06-02T14:13:21.541676Z",
     "start_time": "2021-06-02T14:13:21.511594Z"
    }
   },
   "outputs": [
    {
     "data": {
      "text/html": [
       "<div>\n",
       "<style scoped>\n",
       "    .dataframe tbody tr th:only-of-type {\n",
       "        vertical-align: middle;\n",
       "    }\n",
       "\n",
       "    .dataframe tbody tr th {\n",
       "        vertical-align: top;\n",
       "    }\n",
       "\n",
       "    .dataframe thead th {\n",
       "        text-align: right;\n",
       "    }\n",
       "</style>\n",
       "<table border=\"1\" class=\"dataframe\">\n",
       "  <thead>\n",
       "    <tr style=\"text-align: right;\">\n",
       "      <th></th>\n",
       "      <th>date</th>\n",
       "      <th>step</th>\n",
       "    </tr>\n",
       "  </thead>\n",
       "  <tbody>\n",
       "    <tr>\n",
       "      <th>0</th>\n",
       "      <td>2017-01-02</td>\n",
       "      <td>6270</td>\n",
       "    </tr>\n",
       "    <tr>\n",
       "      <th>1</th>\n",
       "      <td>2017-01-03</td>\n",
       "      <td>6579</td>\n",
       "    </tr>\n",
       "    <tr>\n",
       "      <th>2</th>\n",
       "      <td>2017-01-04</td>\n",
       "      <td>4856</td>\n",
       "    </tr>\n",
       "    <tr>\n",
       "      <th>3</th>\n",
       "      <td>2017-01-05</td>\n",
       "      <td>5207</td>\n",
       "    </tr>\n",
       "    <tr>\n",
       "      <th>4</th>\n",
       "      <td>2017-01-06</td>\n",
       "      <td>3349</td>\n",
       "    </tr>\n",
       "    <tr>\n",
       "      <th>...</th>\n",
       "      <td>...</td>\n",
       "      <td>...</td>\n",
       "    </tr>\n",
       "    <tr>\n",
       "      <th>1607</th>\n",
       "      <td>2021-05-29</td>\n",
       "      <td>5418</td>\n",
       "    </tr>\n",
       "    <tr>\n",
       "      <th>1608</th>\n",
       "      <td>2021-05-30</td>\n",
       "      <td>1706</td>\n",
       "    </tr>\n",
       "    <tr>\n",
       "      <th>1609</th>\n",
       "      <td>2021-05-31</td>\n",
       "      <td>1819</td>\n",
       "    </tr>\n",
       "    <tr>\n",
       "      <th>1610</th>\n",
       "      <td>2021-06-01</td>\n",
       "      <td>2962</td>\n",
       "    </tr>\n",
       "    <tr>\n",
       "      <th>1611</th>\n",
       "      <td>2021-06-02</td>\n",
       "      <td>10</td>\n",
       "    </tr>\n",
       "  </tbody>\n",
       "</table>\n",
       "<p>1612 rows × 2 columns</p>\n",
       "</div>"
      ],
      "text/plain": [
       "            date  step\n",
       "0     2017-01-02  6270\n",
       "1     2017-01-03  6579\n",
       "2     2017-01-04  4856\n",
       "3     2017-01-05  5207\n",
       "4     2017-01-06  3349\n",
       "...          ...   ...\n",
       "1607  2021-05-29  5418\n",
       "1608  2021-05-30  1706\n",
       "1609  2021-05-31  1819\n",
       "1610  2021-06-01  2962\n",
       "1611  2021-06-02    10\n",
       "\n",
       "[1612 rows x 2 columns]"
      ]
     },
     "execution_count": 125,
     "metadata": {},
     "output_type": "execute_result"
    }
   ],
   "source": [
    "df_step = df_step.reset_index(drop=True)"
   ]
  },
  {
   "cell_type": "markdown",
   "id": "f2206d3f",
   "metadata": {},
   "source": [
    "## 데이터 저장"
   ]
  },
  {
   "cell_type": "code",
   "execution_count": 37,
   "id": "18521703",
   "metadata": {
    "ExecuteTime": {
     "end_time": "2021-06-03T05:14:57.051775Z",
     "start_time": "2021-06-03T05:14:56.961525Z"
    }
   },
   "outputs": [],
   "source": [
    "df_step.to_csv('step.csv', index=False )\n",
    "df_distance.to_csv('distance.csv', index=False )\n",
    "df_energy.to_csv('energy.csv', index=False )\n",
    "df_exercise.to_csv('exercise.csv', index=False )"
   ]
  },
  {
   "cell_type": "markdown",
   "id": "ec645b6d",
   "metadata": {},
   "source": [
    "# Visualization"
   ]
  },
  {
   "cell_type": "code",
   "execution_count": 118,
   "id": "a05c2f79",
   "metadata": {
    "ExecuteTime": {
     "end_time": "2021-06-02T12:02:58.434789Z",
     "start_time": "2021-06-02T12:02:58.123038Z"
    },
    "scrolled": false
   },
   "outputs": [
    {
     "name": "stderr",
     "output_type": "stream",
     "text": [
      "apple-health-data-parser.py:1: SettingWithCopyWarning: \n",
      "A value is trying to be set on a copy of a slice from a DataFrame.\n",
      "Try using .loc[row_indexer,col_indexer] = value instead\n",
      "\n",
      "See the caveats in the documentation: https://pandas.pydata.org/pandas-docs/stable/user_guide/indexing.html#returning-a-view-versus-a-copy\n",
      "  import sys\n"
     ]
    },
    {
     "data": {
      "text/plain": [
       "<matplotlib.axes._subplots.AxesSubplot at 0x2b8b61fe7b8>"
      ]
     },
     "execution_count": 118,
     "metadata": {},
     "output_type": "execute_result"
    },
    {
     "data": {
      "image/png": "[encoded data removed]",
      "text/plain": [
       "<Figure size 1440x504 with 1 Axes>"
      ]
     },
     "metadata": {
      "needs_background": "light"
     },
     "output_type": "display_data"
    }
   ],
   "source": [
    "df_step['date'] = pd.to_datetime(df_step['date']).dt.date\n",
    "df_step.plot.line(x='date', y='step', figsize=(20,7))"
   ]
  },
  {
   "cell_type": "code",
   "execution_count": 23,
   "id": "99116c2e",
   "metadata": {
    "ExecuteTime": {
     "end_time": "2021-06-03T05:01:46.936754Z",
     "start_time": "2021-06-03T05:01:46.679357Z"
    },
    "scrolled": true
   },
   "outputs": [
    {
     "data": {
      "text/plain": [
       "<matplotlib.axes._subplots.AxesSubplot at 0x2848945c4e0>"
      ]
     },
     "execution_count": 23,
     "metadata": {},
     "output_type": "execute_result"
    },
    {
     "data": {
      "image/png": "[encoded data removed]",
      "text/plain": [
       "<Figure size 432x288 with 1 Axes>"
      ]
     },
     "metadata": {
      "needs_background": "light"
     },
     "output_type": "display_data"
    }
   ],
   "source": [
    "df_exercise.plot(kind='line', x='date', y= 'value', )"
   ]
  },
  {
   "cell_type": "code",
   "execution_count": 24,
   "id": "ea811627",
   "metadata": {
    "ExecuteTime": {
     "end_time": "2021-06-03T05:01:53.388244Z",
     "start_time": "2021-06-03T05:01:53.368775Z"
    }
   },
   "outputs": [
    {
     "data": {
      "application/javascript": [
       "\n",
       "(function(root) {\n",
       "  function now() {\n",
       "    return new Date();\n",
       "  }\n",
       "\n",
       "  var force = true;\n",
       "\n",
       "  if (typeof root._bokeh_onload_callbacks === \"undefined\" || force === true) {\n",
       "    root._bokeh_onload_callbacks = [];\n",
       "    root._bokeh_is_loading = undefined;\n",
       "  }\n",
       "\n",
       "  if (typeof (root._bokeh_timeout) === \"undefined\" || force === true) {\n",
       "    root._bokeh_timeout = Date.now() + 5000;\n",
       "    root._bokeh_failed_load = false;\n",
       "  }\n",
       "\n",
       "  function run_callbacks() {\n",
       "    try {\n",
       "      root._bokeh_onload_callbacks.forEach(function(callback) {\n",
       "        if (callback != null)\n",
       "          callback();\n",
       "      });\n",
       "    } finally {\n",
       "      delete root._bokeh_onload_callbacks\n",
       "    }\n",
       "    console.debug(\"Bokeh: all callbacks have finished\");\n",
       "  }\n",
       "\n",
       "  function load_libs(css_urls, js_urls, js_modules, callback) {\n",
       "    if (css_urls == null) css_urls = [];\n",
       "    if (js_urls == null) js_urls = [];\n",
       "    if (js_modules == null) js_modules = [];\n",
       "\n",
       "    root._bokeh_onload_callbacks.push(callback);\n",
       "    if (root._bokeh_is_loading > 0) {\n",
       "      console.debug(\"Bokeh: BokehJS is being loaded, scheduling callback at\", now());\n",
       "      return null;\n",
       "    }\n",
       "    if (js_urls.length === 0 && js_modules.length === 0) {\n",
       "      run_callbacks();\n",
       "      return null;\n",
       "    }\n",
       "    console.debug(\"Bokeh: BokehJS not loaded, scheduling load and callback at\", now());\n",
       "    root._bokeh_is_loading = css_urls.length + js_urls.length + js_modules.length;\n",
       "\n",
       "    function on_load() {\n",
       "      root._bokeh_is_loading--;\n",
       "      if (root._bokeh_is_loading === 0) {\n",
       "        console.debug(\"Bokeh: all BokehJS libraries/stylesheets loaded\");\n",
       "        run_callbacks()\n",
       "      }\n",
       "    }\n",
       "\n",
       "    function on_error() {\n",
       "      console.error(\"failed to load \" + url);\n",
       "    }\n",
       "\n",
       "    for (var i = 0; i < css_urls.length; i++) {\n",
       "      var url = css_urls[i];\n",
       "      const element = document.createElement(\"link\");\n",
       "      element.onload = on_load;\n",
       "      element.onerror = on_error;\n",
       "      element.rel = \"stylesheet\";\n",
       "      element.type = \"text/css\";\n",
       "      element.href = url;\n",
       "      console.debug(\"Bokeh: injecting link tag for BokehJS stylesheet: \", url);\n",
       "      document.body.appendChild(element);\n",
       "    }\n",
       "\n",
       "    var skip = [];\n",
       "    if (window.requirejs) {\n",
       "      window.requirejs.config({'paths': {'tabulator': 'https://unpkg.com/tabulator-tables@4.9.3/dist/js/tabulator'}});\n",
       "      window.requirejs.config({'baseUrl': 'https://cdn.jsdelivr.net/npm/', 'paths': {'vega-embed': 'vega-embed@6/build/vega-embed.min', 'vega-lite': 'vega-lite@4/build/vega-lite.min', 'vega': 'vega@5/build/vega.min'}});\n",
       "      require([], function() {\n",
       "      })\n",
       "    }\n",
       "    if (((window['tabulator'] !== undefined) && (!(window['tabulator'] instanceof HTMLElement))) || window.requirejs) {\n",
       "      var urls = ['https://unpkg.com/tabulator-tables@4.9.3/dist/js/tabulator.js', 'https://unpkg.com/moment@2.27.0/moment.js'];\n",
       "      for (var i = 0; i < urls.length; i++) {\n",
       "        skip.push(urls[i])\n",
       "      }\n",
       "    }\n",
       "    if (((window['vega'] !== undefined) && (!(window['vega'] instanceof HTMLElement))) || window.requirejs) {\n",
       "      var urls = ['https://cdn.jsdelivr.net/npm/vega@5'];\n",
       "      for (var i = 0; i < urls.length; i++) {\n",
       "        skip.push(urls[i])\n",
       "      }\n",
       "    }\n",
       "    if (((window['vegaLite'] !== undefined) && (!(window['vegaLite'] instanceof HTMLElement))) || window.requirejs) {\n",
       "      var urls = ['https://cdn.jsdelivr.net/npm/vega-lite@4'];\n",
       "      for (var i = 0; i < urls.length; i++) {\n",
       "        skip.push(urls[i])\n",
       "      }\n",
       "    }\n",
       "    if (((window['vegaEmbed'] !== undefined) && (!(window['vegaEmbed'] instanceof HTMLElement))) || window.requirejs) {\n",
       "      var urls = ['https://cdn.jsdelivr.net/npm/vega-embed@6'];\n",
       "      for (var i = 0; i < urls.length; i++) {\n",
       "        skip.push(urls[i])\n",
       "      }\n",
       "    }\n",
       "    for (var i = 0; i < js_urls.length; i++) {\n",
       "      var url = js_urls[i];\n",
       "      if (skip.indexOf(url) >= 0) { on_load(); continue; }\n",
       "      var element = document.createElement('script');\n",
       "      element.onload = on_load;\n",
       "      element.onerror = on_error;\n",
       "      element.async = false;\n",
       "      element.src = url;\n",
       "      console.debug(\"Bokeh: injecting script tag for BokehJS library: \", url);\n",
       "      document.head.appendChild(element);\n",
       "    }\n",
       "    for (var i = 0; i < js_modules.length; i++) {\n",
       "      var url = js_modules[i];\n",
       "      if (skip.indexOf(url) >= 0) { on_load(); continue; }\n",
       "      var element = document.createElement('script');\n",
       "      element.onload = on_load;\n",
       "      element.onerror = on_error;\n",
       "      element.async = false;\n",
       "      element.src = url;\n",
       "      element.type = \"module\";\n",
       "      console.debug(\"Bokeh: injecting script tag for BokehJS library: \", url);\n",
       "      document.head.appendChild(element);\n",
       "    }\n",
       "    if (!js_urls.length && !js_modules.length) {\n",
       "      on_load()\n",
       "    }\n",
       "  };\n",
       "\n",
       "  function inject_raw_css(css) {\n",
       "    const element = document.createElement(\"style\");\n",
       "    element.appendChild(document.createTextNode(css));\n",
       "    document.body.appendChild(element);\n",
       "  }\n",
       "\n",
       "  var js_urls = [\"https://unpkg.com/tabulator-tables@4.9.3/dist/js/tabulator.js\", \"https://unpkg.com/moment@2.27.0/moment.js\", \"https://cdn.jsdelivr.net/npm/vega@5\", \"https://cdn.jsdelivr.net/npm/vega-lite@4\", \"https://cdn.jsdelivr.net/npm/vega-embed@6\", \"https://cdn.bokeh.org/bokeh/release/bokeh-2.3.2.min.js\", \"https://cdn.bokeh.org/bokeh/release/bokeh-widgets-2.3.2.min.js\", \"https://cdn.bokeh.org/bokeh/release/bokeh-tables-2.3.2.min.js\", \"https://unpkg.com/@holoviz/panel@^0.11.3/dist/panel.min.js\"];\n",
       "  var js_modules = [];\n",
       "  var css_urls = [\"https://unpkg.com/tabulator-tables@4.9.3/dist/css/tabulator_simple.min.css\", \"https://unpkg.com/@holoviz/panel@0.11.3/dist/css/alerts.css\", \"https://unpkg.com/@holoviz/panel@0.11.3/dist/css/card.css\", \"https://unpkg.com/@holoviz/panel@0.11.3/dist/css/dataframe.css\", \"https://unpkg.com/@holoviz/panel@0.11.3/dist/css/json.css\", \"https://unpkg.com/@holoviz/panel@0.11.3/dist/css/loading.css\", \"https://unpkg.com/@holoviz/panel@0.11.3/dist/css/markdown.css\", \"https://unpkg.com/@holoviz/panel@0.11.3/dist/css/widgets.css\"];\n",
       "  var inline_js = [\n",
       "    function(Bokeh) {\n",
       "      inject_raw_css(\"\\n    .bk.pn-loading.arcs:before {\\n      background-image: url(\\\"data:image/svg+xml;base64,PHN2ZyB4bWxucz0iaHR0cDovL3d3dy53My5vcmcvMjAwMC9zdmciIHhtbG5zOnhsaW5rPSJodHRwOi8vd3d3LnczLm9yZy8xOTk5L3hsaW5rIiBzdHlsZT0ibWFyZ2luOiBhdXRvOyBiYWNrZ3JvdW5kOiBub25lOyBkaXNwbGF5OiBibG9jazsgc2hhcGUtcmVuZGVyaW5nOiBhdXRvOyIgdmlld0JveD0iMCAwIDEwMCAxMDAiIHByZXNlcnZlQXNwZWN0UmF0aW89InhNaWRZTWlkIj4gIDxjaXJjbGUgY3g9IjUwIiBjeT0iNTAiIHI9IjMyIiBzdHJva2Utd2lkdGg9IjgiIHN0cm9rZT0iI2MzYzNjMyIgc3Ryb2tlLWRhc2hhcnJheT0iNTAuMjY1NDgyNDU3NDM2NjkgNTAuMjY1NDgyNDU3NDM2NjkiIGZpbGw9Im5vbmUiIHN0cm9rZS1saW5lY2FwPSJyb3VuZCI+ICAgIDxhbmltYXRlVHJhbnNmb3JtIGF0dHJpYnV0ZU5hbWU9InRyYW5zZm9ybSIgdHlwZT0icm90YXRlIiByZXBlYXRDb3VudD0iaW5kZWZpbml0ZSIgZHVyPSIxcyIga2V5VGltZXM9IjA7MSIgdmFsdWVzPSIwIDUwIDUwOzM2MCA1MCA1MCI+PC9hbmltYXRlVHJhbnNmb3JtPiAgPC9jaXJjbGU+PC9zdmc+\\\")\\n    }\\n    \");\n",
       "    },\n",
       "    function(Bokeh) {\n",
       "      Bokeh.set_log_level(\"info\");\n",
       "    },\n",
       "    function(Bokeh) {} // ensure no trailing comma for IE\n",
       "  ];\n",
       "\n",
       "  function run_inline_js() {\n",
       "    if ((root.Bokeh !== undefined) || (force === true)) {\n",
       "      for (var i = 0; i < inline_js.length; i++) {\n",
       "        inline_js[i].call(root, root.Bokeh);\n",
       "      }} else if (Date.now() < root._bokeh_timeout) {\n",
       "      setTimeout(run_inline_js, 100);\n",
       "    } else if (!root._bokeh_failed_load) {\n",
       "      console.log(\"Bokeh: BokehJS failed to load within specified timeout.\");\n",
       "      root._bokeh_failed_load = true;\n",
       "    }\n",
       "  }\n",
       "\n",
       "  if (root._bokeh_is_loading === 0) {\n",
       "    console.debug(\"Bokeh: BokehJS loaded, going straight to plotting\");\n",
       "    run_inline_js();\n",
       "  } else {\n",
       "    load_libs(css_urls, js_urls, js_modules, function() {\n",
       "      console.debug(\"Bokeh: BokehJS plotting callback run at\", now());\n",
       "      run_inline_js();\n",
       "    });\n",
       "  }\n",
       "}(window));"
      ],
      "application/vnd.holoviews_load.v0+json": "\n(function(root) {\n  function now() {\n    return new Date();\n  }\n\n  var force = true;\n\n  if (typeof root._bokeh_onload_callbacks === \"undefined\" || force === true) {\n    root._bokeh_onload_callbacks = [];\n    root._bokeh_is_loading = undefined;\n  }\n\n  if (typeof (root._bokeh_timeout) === \"undefined\" || force === true) {\n    root._bokeh_timeout = Date.now() + 5000;\n    root._bokeh_failed_load = false;\n  }\n\n  function run_callbacks() {\n    try {\n      root._bokeh_onload_callbacks.forEach(function(callback) {\n        if (callback != null)\n          callback();\n      });\n    } finally {\n      delete root._bokeh_onload_callbacks\n    }\n    console.debug(\"Bokeh: all callbacks have finished\");\n  }\n\n  function load_libs(css_urls, js_urls, js_modules, callback) {\n    if (css_urls == null) css_urls = [];\n    if (js_urls == null) js_urls = [];\n    if (js_modules == null) js_modules = [];\n\n    root._bokeh_onload_callbacks.push(callback);\n    if (root._bokeh_is_loading > 0) {\n      console.debug(\"Bokeh: BokehJS is being loaded, scheduling callback at\", now());\n      return null;\n    }\n    if (js_urls.length === 0 && js_modules.length === 0) {\n      run_callbacks();\n      return null;\n    }\n    console.debug(\"Bokeh: BokehJS not loaded, scheduling load and callback at\", now());\n    root._bokeh_is_loading = css_urls.length + js_urls.length + js_modules.length;\n\n    function on_load() {\n      root._bokeh_is_loading--;\n      if (root._bokeh_is_loading === 0) {\n        console.debug(\"Bokeh: all BokehJS libraries/stylesheets loaded\");\n        run_callbacks()\n      }\n    }\n\n    function on_error() {\n      console.error(\"failed to load \" + url);\n    }\n\n    for (var i = 0; i < css_urls.length; i++) {\n      var url = css_urls[i];\n      const element = document.createElement(\"link\");\n      element.onload = on_load;\n      element.onerror = on_error;\n      element.rel = \"stylesheet\";\n      element.type = \"text/css\";\n      element.href = url;\n      console.debug(\"Bokeh: injecting link tag for BokehJS stylesheet: \", url);\n      document.body.appendChild(element);\n    }\n\n    var skip = [];\n    if (window.requirejs) {\n      window.requirejs.config({'paths': {'tabulator': 'https://unpkg.com/tabulator-tables@4.9.3/dist/js/tabulator'}});\n      window.requirejs.config({'baseUrl': 'https://cdn.jsdelivr.net/npm/', 'paths': {'vega-embed': 'vega-embed@6/build/vega-embed.min', 'vega-lite': 'vega-lite@4/build/vega-lite.min', 'vega': 'vega@5/build/vega.min'}});\n      require([], function() {\n      })\n    }\n    if (((window['tabulator'] !== undefined) && (!(window['tabulator'] instanceof HTMLElement))) || window.requirejs) {\n      var urls = ['https://unpkg.com/tabulator-tables@4.9.3/dist/js/tabulator.js', 'https://unpkg.com/moment@2.27.0/moment.js'];\n      for (var i = 0; i < urls.length; i++) {\n        skip.push(urls[i])\n      }\n    }\n    if (((window['vega'] !== undefined) && (!(window['vega'] instanceof HTMLElement))) || window.requirejs) {\n      var urls = ['https://cdn.jsdelivr.net/npm/vega@5'];\n      for (var i = 0; i < urls.length; i++) {\n        skip.push(urls[i])\n      }\n    }\n    if (((window['vegaLite'] !== undefined) && (!(window['vegaLite'] instanceof HTMLElement))) || window.requirejs) {\n      var urls = ['https://cdn.jsdelivr.net/npm/vega-lite@4'];\n      for (var i = 0; i < urls.length; i++) {\n        skip.push(urls[i])\n      }\n    }\n    if (((window['vegaEmbed'] !== undefined) && (!(window['vegaEmbed'] instanceof HTMLElement))) || window.requirejs) {\n      var urls = ['https://cdn.jsdelivr.net/npm/vega-embed@6'];\n      for (var i = 0; i < urls.length; i++) {\n        skip.push(urls[i])\n      }\n    }\n    for (var i = 0; i < js_urls.length; i++) {\n      var url = js_urls[i];\n      if (skip.indexOf(url) >= 0) { on_load(); continue; }\n      var element = document.createElement('script');\n      element.onload = on_load;\n      element.onerror = on_error;\n      element.async = false;\n      element.src = url;\n      console.debug(\"Bokeh: injecting script tag for BokehJS library: \", url);\n      document.head.appendChild(element);\n    }\n    for (var i = 0; i < js_modules.length; i++) {\n      var url = js_modules[i];\n      if (skip.indexOf(url) >= 0) { on_load(); continue; }\n      var element = document.createElement('script');\n      element.onload = on_load;\n      element.onerror = on_error;\n      element.async = false;\n      element.src = url;\n      element.type = \"module\";\n      console.debug(\"Bokeh: injecting script tag for BokehJS library: \", url);\n      document.head.appendChild(element);\n    }\n    if (!js_urls.length && !js_modules.length) {\n      on_load()\n    }\n  };\n\n  function inject_raw_css(css) {\n    const element = document.createElement(\"style\");\n    element.appendChild(document.createTextNode(css));\n    document.body.appendChild(element);\n  }\n\n  var js_urls = [\"https://unpkg.com/tabulator-tables@4.9.3/dist/js/tabulator.js\", \"https://unpkg.com/moment@2.27.0/moment.js\", \"https://cdn.jsdelivr.net/npm/vega@5\", \"https://cdn.jsdelivr.net/npm/vega-lite@4\", \"https://cdn.jsdelivr.net/npm/vega-embed@6\", \"https://cdn.bokeh.org/bokeh/release/bokeh-2.3.2.min.js\", \"https://cdn.bokeh.org/bokeh/release/bokeh-widgets-2.3.2.min.js\", \"https://cdn.bokeh.org/bokeh/release/bokeh-tables-2.3.2.min.js\", \"https://unpkg.com/@holoviz/panel@^0.11.3/dist/panel.min.js\"];\n  var js_modules = [];\n  var css_urls = [\"https://unpkg.com/tabulator-tables@4.9.3/dist/css/tabulator_simple.min.css\", \"https://unpkg.com/@holoviz/panel@0.11.3/dist/css/alerts.css\", \"https://unpkg.com/@holoviz/panel@0.11.3/dist/css/card.css\", \"https://unpkg.com/@holoviz/panel@0.11.3/dist/css/dataframe.css\", \"https://unpkg.com/@holoviz/panel@0.11.3/dist/css/json.css\", \"https://unpkg.com/@holoviz/panel@0.11.3/dist/css/loading.css\", \"https://unpkg.com/@holoviz/panel@0.11.3/dist/css/markdown.css\", \"https://unpkg.com/@holoviz/panel@0.11.3/dist/css/widgets.css\"];\n  var inline_js = [\n    function(Bokeh) {\n      inject_raw_css(\"\\n    .bk.pn-loading.arcs:before {\\n      background-image: url(\\\"data:image/svg+xml;base64,PHN2ZyB4bWxucz0iaHR0cDovL3d3dy53My5vcmcvMjAwMC9zdmciIHhtbG5zOnhsaW5rPSJodHRwOi8vd3d3LnczLm9yZy8xOTk5L3hsaW5rIiBzdHlsZT0ibWFyZ2luOiBhdXRvOyBiYWNrZ3JvdW5kOiBub25lOyBkaXNwbGF5OiBibG9jazsgc2hhcGUtcmVuZGVyaW5nOiBhdXRvOyIgdmlld0JveD0iMCAwIDEwMCAxMDAiIHByZXNlcnZlQXNwZWN0UmF0aW89InhNaWRZTWlkIj4gIDxjaXJjbGUgY3g9IjUwIiBjeT0iNTAiIHI9IjMyIiBzdHJva2Utd2lkdGg9IjgiIHN0cm9rZT0iI2MzYzNjMyIgc3Ryb2tlLWRhc2hhcnJheT0iNTAuMjY1NDgyNDU3NDM2NjkgNTAuMjY1NDgyNDU3NDM2NjkiIGZpbGw9Im5vbmUiIHN0cm9rZS1saW5lY2FwPSJyb3VuZCI+ICAgIDxhbmltYXRlVHJhbnNmb3JtIGF0dHJpYnV0ZU5hbWU9InRyYW5zZm9ybSIgdHlwZT0icm90YXRlIiByZXBlYXRDb3VudD0iaW5kZWZpbml0ZSIgZHVyPSIxcyIga2V5VGltZXM9IjA7MSIgdmFsdWVzPSIwIDUwIDUwOzM2MCA1MCA1MCI+PC9hbmltYXRlVHJhbnNmb3JtPiAgPC9jaXJjbGU+PC9zdmc+\\\")\\n    }\\n    \");\n    },\n    function(Bokeh) {\n      Bokeh.set_log_level(\"info\");\n    },\n    function(Bokeh) {} // ensure no trailing comma for IE\n  ];\n\n  function run_inline_js() {\n    if ((root.Bokeh !== undefined) || (force === true)) {\n      for (var i = 0; i < inline_js.length; i++) {\n        inline_js[i].call(root, root.Bokeh);\n      }} else if (Date.now() < root._bokeh_timeout) {\n      setTimeout(run_inline_js, 100);\n    } else if (!root._bokeh_failed_load) {\n      console.log(\"Bokeh: BokehJS failed to load within specified timeout.\");\n      root._bokeh_failed_load = true;\n    }\n  }\n\n  if (root._bokeh_is_loading === 0) {\n    console.debug(\"Bokeh: BokehJS loaded, going straight to plotting\");\n    run_inline_js();\n  } else {\n    load_libs(css_urls, js_urls, js_modules, function() {\n      console.debug(\"Bokeh: BokehJS plotting callback run at\", now());\n      run_inline_js();\n    });\n  }\n}(window));"
     },
     "metadata": {},
     "output_type": "display_data"
    },
    {
     "data": {
      "application/javascript": [
       "\n",
       "if ((window.PyViz === undefined) || (window.PyViz instanceof HTMLElement)) {\n",
       "  window.PyViz = {comms: {}, comm_status:{}, kernels:{}, receivers: {}, plot_index: []}\n",
       "}\n",
       "\n",
       "\n",
       "    function JupyterCommManager() {\n",
       "    }\n",
       "\n",
       "    JupyterCommManager.prototype.register_target = function(plot_id, comm_id, msg_handler) {\n",
       "      if (window.comm_manager || ((window.Jupyter !== undefined) && (Jupyter.notebook.kernel != null))) {\n",
       "        var comm_manager = window.comm_manager || Jupyter.notebook.kernel.comm_manager;\n",
       "        comm_manager.register_target(comm_id, function(comm) {\n",
       "          comm.on_msg(msg_handler);\n",
       "        });\n",
       "      } else if ((plot_id in window.PyViz.kernels) && (window.PyViz.kernels[plot_id])) {\n",
       "        window.PyViz.kernels[plot_id].registerCommTarget(comm_id, function(comm) {\n",
       "          comm.onMsg = msg_handler;\n",
       "        });\n",
       "      } else if (typeof google != 'undefined' && google.colab.kernel != null) {\n",
       "        google.colab.kernel.comms.registerTarget(comm_id, (comm) => {\n",
       "          var messages = comm.messages[Symbol.asyncIterator]();\n",
       "          function processIteratorResult(result) {\n",
       "            var message = result.value;\n",
       "            console.log(message)\n",
       "            var content = {data: message.data, comm_id};\n",
       "            var buffers = []\n",
       "            for (var buffer of message.buffers || []) {\n",
       "              buffers.push(new DataView(buffer))\n",
       "            }\n",
       "            var metadata = message.metadata || {};\n",
       "            var msg = {content, buffers, metadata}\n",
       "            msg_handler(msg);\n",
       "            return messages.next().then(processIteratorResult);\n",
       "          }\n",
       "          return messages.next().then(processIteratorResult);\n",
       "        })\n",
       "      }\n",
       "    }\n",
       "\n",
       "    JupyterCommManager.prototype.get_client_comm = function(plot_id, comm_id, msg_handler) {\n",
       "      if (comm_id in window.PyViz.comms) {\n",
       "        return window.PyViz.comms[comm_id];\n",
       "      } else if (window.comm_manager || ((window.Jupyter !== undefined) && (Jupyter.notebook.kernel != null))) {\n",
       "        var comm_manager = window.comm_manager || Jupyter.notebook.kernel.comm_manager;\n",
       "        var comm = comm_manager.new_comm(comm_id, {}, {}, {}, comm_id);\n",
       "        if (msg_handler) {\n",
       "          comm.on_msg(msg_handler);\n",
       "        }\n",
       "      } else if ((plot_id in window.PyViz.kernels) && (window.PyViz.kernels[plot_id])) {\n",
       "        var comm = window.PyViz.kernels[plot_id].connectToComm(comm_id);\n",
       "        comm.open();\n",
       "        if (msg_handler) {\n",
       "          comm.onMsg = msg_handler;\n",
       "        }\n",
       "      } else if (typeof google != 'undefined' && google.colab.kernel != null) {\n",
       "        var comm_promise = google.colab.kernel.comms.open(comm_id)\n",
       "        comm_promise.then((comm) => {\n",
       "          window.PyViz.comms[comm_id] = comm;\n",
       "          if (msg_handler) {\n",
       "            var messages = comm.messages[Symbol.asyncIterator]();\n",
       "            function processIteratorResult(result) {\n",
       "              var message = result.value;\n",
       "              var content = {data: message.data};\n",
       "              var metadata = message.metadata || {comm_id};\n",
       "              var msg = {content, metadata}\n",
       "              msg_handler(msg);\n",
       "              return messages.next().then(processIteratorResult);\n",
       "            }\n",
       "            return messages.next().then(processIteratorResult);\n",
       "          }\n",
       "        }) \n",
       "        var sendClosure = (data, metadata, buffers, disposeOnDone) => {\n",
       "          return comm_promise.then((comm) => {\n",
       "            comm.send(data, metadata, buffers, disposeOnDone);\n",
       "          });\n",
       "        };\n",
       "        var comm = {\n",
       "          send: sendClosure\n",
       "        };\n",
       "      }\n",
       "      window.PyViz.comms[comm_id] = comm;\n",
       "      return comm;\n",
       "    }\n",
       "    window.PyViz.comm_manager = new JupyterCommManager();\n",
       "    \n",
       "\n",
       "\n",
       "var JS_MIME_TYPE = 'application/javascript';\n",
       "var HTML_MIME_TYPE = 'text/html';\n",
       "var EXEC_MIME_TYPE = 'application/vnd.holoviews_exec.v0+json';\n",
       "var CLASS_NAME = 'output';\n",
       "\n",
       "/**\n",
       " * Render data to the DOM node\n",
       " */\n",
       "function render(props, node) {\n",
       "  var div = document.createElement(\"div\");\n",
       "  var script = document.createElement(\"script\");\n",
       "  node.appendChild(div);\n",
       "  node.appendChild(script);\n",
       "}\n",
       "\n",
       "/**\n",
       " * Handle when a new output is added\n",
       " */\n",
       "function handle_add_output(event, handle) {\n",
       "  var output_area = handle.output_area;\n",
       "  var output = handle.output;\n",
       "  if ((output.data == undefined) || (!output.data.hasOwnProperty(EXEC_MIME_TYPE))) {\n",
       "    return\n",
       "  }\n",
       "  var id = output.metadata[EXEC_MIME_TYPE][\"id\"];\n",
       "  var toinsert = output_area.element.find(\".\" + CLASS_NAME.split(' ')[0]);\n",
       "  if (id !== undefined) {\n",
       "    var nchildren = toinsert.length;\n",
       "    var html_node = toinsert[nchildren-1].children[0];\n",
       "    html_node.innerHTML = output.data[HTML_MIME_TYPE];\n",
       "    var scripts = [];\n",
       "    var nodelist = html_node.querySelectorAll(\"script\");\n",
       "    for (var i in nodelist) {\n",
       "      if (nodelist.hasOwnProperty(i)) {\n",
       "        scripts.push(nodelist[i])\n",
       "      }\n",
       "    }\n",
       "\n",
       "    scripts.forEach( function (oldScript) {\n",
       "      var newScript = document.createElement(\"script\");\n",
       "      var attrs = [];\n",
       "      var nodemap = oldScript.attributes;\n",
       "      for (var j in nodemap) {\n",
       "        if (nodemap.hasOwnProperty(j)) {\n",
       "          attrs.push(nodemap[j])\n",
       "        }\n",
       "      }\n",
       "      attrs.forEach(function(attr) { newScript.setAttribute(attr.name, attr.value) });\n",
       "      newScript.appendChild(document.createTextNode(oldScript.innerHTML));\n",
       "      oldScript.parentNode.replaceChild(newScript, oldScript);\n",
       "    });\n",
       "    if (JS_MIME_TYPE in output.data) {\n",
       "      toinsert[nchildren-1].children[1].textContent = output.data[JS_MIME_TYPE];\n",
       "    }\n",
       "    output_area._hv_plot_id = id;\n",
       "    if ((window.Bokeh !== undefined) && (id in Bokeh.index)) {\n",
       "      window.PyViz.plot_index[id] = Bokeh.index[id];\n",
       "    } else {\n",
       "      window.PyViz.plot_index[id] = null;\n",
       "    }\n",
       "  } else if (output.metadata[EXEC_MIME_TYPE][\"server_id\"] !== undefined) {\n",
       "    var bk_div = document.createElement(\"div\");\n",
       "    bk_div.innerHTML = output.data[HTML_MIME_TYPE];\n",
       "    var script_attrs = bk_div.children[0].attributes;\n",
       "    for (var i = 0; i < script_attrs.length; i++) {\n",
       "      toinsert[toinsert.length - 1].childNodes[1].setAttribute(script_attrs[i].name, script_attrs[i].value);\n",
       "    }\n",
       "    // store reference to server id on output_area\n",
       "    output_area._bokeh_server_id = output.metadata[EXEC_MIME_TYPE][\"server_id\"];\n",
       "  }\n",
       "}\n",
       "\n",
       "/**\n",
       " * Handle when an output is cleared or removed\n",
       " */\n",
       "function handle_clear_output(event, handle) {\n",
       "  var id = handle.cell.output_area._hv_plot_id;\n",
       "  var server_id = handle.cell.output_area._bokeh_server_id;\n",
       "  if (((id === undefined) || !(id in PyViz.plot_index)) && (server_id !== undefined)) { return; }\n",
       "  var comm = window.PyViz.comm_manager.get_client_comm(\"hv-extension-comm\", \"hv-extension-comm\", function () {});\n",
       "  if (server_id !== null) {\n",
       "    comm.send({event_type: 'server_delete', 'id': server_id});\n",
       "    return;\n",
       "  } else if (comm !== null) {\n",
       "    comm.send({event_type: 'delete', 'id': id});\n",
       "  }\n",
       "  delete PyViz.plot_index[id];\n",
       "  if ((window.Bokeh !== undefined) & (id in window.Bokeh.index)) {\n",
       "    var doc = window.Bokeh.index[id].model.document\n",
       "    doc.clear();\n",
       "    const i = window.Bokeh.documents.indexOf(doc);\n",
       "    if (i > -1) {\n",
       "      window.Bokeh.documents.splice(i, 1);\n",
       "    }\n",
       "  }\n",
       "}\n",
       "\n",
       "/**\n",
       " * Handle kernel restart event\n",
       " */\n",
       "function handle_kernel_cleanup(event, handle) {\n",
       "  delete PyViz.comms[\"hv-extension-comm\"];\n",
       "  window.PyViz.plot_index = {}\n",
       "}\n",
       "\n",
       "/**\n",
       " * Handle update_display_data messages\n",
       " */\n",
       "function handle_update_output(event, handle) {\n",
       "  handle_clear_output(event, {cell: {output_area: handle.output_area}})\n",
       "  handle_add_output(event, handle)\n",
       "}\n",
       "\n",
       "function register_renderer(events, OutputArea) {\n",
       "  function append_mime(data, metadata, element) {\n",
       "    // create a DOM node to render to\n",
       "    var toinsert = this.create_output_subarea(\n",
       "    metadata,\n",
       "    CLASS_NAME,\n",
       "    EXEC_MIME_TYPE\n",
       "    );\n",
       "    this.keyboard_manager.register_events(toinsert);\n",
       "    // Render to node\n",
       "    var props = {data: data, metadata: metadata[EXEC_MIME_TYPE]};\n",
       "    render(props, toinsert[0]);\n",
       "    element.append(toinsert);\n",
       "    return toinsert\n",
       "  }\n",
       "\n",
       "  events.on('output_added.OutputArea', handle_add_output);\n",
       "  events.on('output_updated.OutputArea', handle_update_output);\n",
       "  events.on('clear_output.CodeCell', handle_clear_output);\n",
       "  events.on('delete.Cell', handle_clear_output);\n",
       "  events.on('kernel_ready.Kernel', handle_kernel_cleanup);\n",
       "\n",
       "  OutputArea.prototype.register_mime_type(EXEC_MIME_TYPE, append_mime, {\n",
       "    safe: true,\n",
       "    index: 0\n",
       "  });\n",
       "}\n",
       "\n",
       "if (window.Jupyter !== undefined) {\n",
       "  try {\n",
       "    var events = require('base/js/events');\n",
       "    var OutputArea = require('notebook/js/outputarea').OutputArea;\n",
       "    if (OutputArea.prototype.mime_types().indexOf(EXEC_MIME_TYPE) == -1) {\n",
       "      register_renderer(events, OutputArea);\n",
       "    }\n",
       "  } catch(err) {\n",
       "  }\n",
       "}\n"
      ],
      "application/vnd.holoviews_load.v0+json": "\nif ((window.PyViz === undefined) || (window.PyViz instanceof HTMLElement)) {\n  window.PyViz = {comms: {}, comm_status:{}, kernels:{}, receivers: {}, plot_index: []}\n}\n\n\n    function JupyterCommManager() {\n    }\n\n    JupyterCommManager.prototype.register_target = function(plot_id, comm_id, msg_handler) {\n      if (window.comm_manager || ((window.Jupyter !== undefined) && (Jupyter.notebook.kernel != null))) {\n        var comm_manager = window.comm_manager || Jupyter.notebook.kernel.comm_manager;\n        comm_manager.register_target(comm_id, function(comm) {\n          comm.on_msg(msg_handler);\n        });\n      } else if ((plot_id in window.PyViz.kernels) && (window.PyViz.kernels[plot_id])) {\n        window.PyViz.kernels[plot_id].registerCommTarget(comm_id, function(comm) {\n          comm.onMsg = msg_handler;\n        });\n      } else if (typeof google != 'undefined' && google.colab.kernel != null) {\n        google.colab.kernel.comms.registerTarget(comm_id, (comm) => {\n          var messages = comm.messages[Symbol.asyncIterator]();\n          function processIteratorResult(result) {\n            var message = result.value;\n            console.log(message)\n            var content = {data: message.data, comm_id};\n            var buffers = []\n            for (var buffer of message.buffers || []) {\n              buffers.push(new DataView(buffer))\n            }\n            var metadata = message.metadata || {};\n            var msg = {content, buffers, metadata}\n            msg_handler(msg);\n            return messages.next().then(processIteratorResult);\n          }\n          return messages.next().then(processIteratorResult);\n        })\n      }\n    }\n\n    JupyterCommManager.prototype.get_client_comm = function(plot_id, comm_id, msg_handler) {\n      if (comm_id in window.PyViz.comms) {\n        return window.PyViz.comms[comm_id];\n      } else if (window.comm_manager || ((window.Jupyter !== undefined) && (Jupyter.notebook.kernel != null))) {\n        var comm_manager = window.comm_manager || Jupyter.notebook.kernel.comm_manager;\n        var comm = comm_manager.new_comm(comm_id, {}, {}, {}, comm_id);\n        if (msg_handler) {\n          comm.on_msg(msg_handler);\n        }\n      } else if ((plot_id in window.PyViz.kernels) && (window.PyViz.kernels[plot_id])) {\n        var comm = window.PyViz.kernels[plot_id].connectToComm(comm_id);\n        comm.open();\n        if (msg_handler) {\n          comm.onMsg = msg_handler;\n        }\n      } else if (typeof google != 'undefined' && google.colab.kernel != null) {\n        var comm_promise = google.colab.kernel.comms.open(comm_id)\n        comm_promise.then((comm) => {\n          window.PyViz.comms[comm_id] = comm;\n          if (msg_handler) {\n            var messages = comm.messages[Symbol.asyncIterator]();\n            function processIteratorResult(result) {\n              var message = result.value;\n              var content = {data: message.data};\n              var metadata = message.metadata || {comm_id};\n              var msg = {content, metadata}\n              msg_handler(msg);\n              return messages.next().then(processIteratorResult);\n            }\n            return messages.next().then(processIteratorResult);\n          }\n        }) \n        var sendClosure = (data, metadata, buffers, disposeOnDone) => {\n          return comm_promise.then((comm) => {\n            comm.send(data, metadata, buffers, disposeOnDone);\n          });\n        };\n        var comm = {\n          send: sendClosure\n        };\n      }\n      window.PyViz.comms[comm_id] = comm;\n      return comm;\n    }\n    window.PyViz.comm_manager = new JupyterCommManager();\n    \n\n\nvar JS_MIME_TYPE = 'application/javascript';\nvar HTML_MIME_TYPE = 'text/html';\nvar EXEC_MIME_TYPE = 'application/vnd.holoviews_exec.v0+json';\nvar CLASS_NAME = 'output';\n\n/**\n * Render data to the DOM node\n */\nfunction render(props, node) {\n  var div = document.createElement(\"div\");\n  var script = document.createElement(\"script\");\n  node.appendChild(div);\n  node.appendChild(script);\n}\n\n/**\n * Handle when a new output is added\n */\nfunction handle_add_output(event, handle) {\n  var output_area = handle.output_area;\n  var output = handle.output;\n  if ((output.data == undefined) || (!output.data.hasOwnProperty(EXEC_MIME_TYPE))) {\n    return\n  }\n  var id = output.metadata[EXEC_MIME_TYPE][\"id\"];\n  var toinsert = output_area.element.find(\".\" + CLASS_NAME.split(' ')[0]);\n  if (id !== undefined) {\n    var nchildren = toinsert.length;\n    var html_node = toinsert[nchildren-1].children[0];\n    html_node.innerHTML = output.data[HTML_MIME_TYPE];\n    var scripts = [];\n    var nodelist = html_node.querySelectorAll(\"script\");\n    for (var i in nodelist) {\n      if (nodelist.hasOwnProperty(i)) {\n        scripts.push(nodelist[i])\n      }\n    }\n\n    scripts.forEach( function (oldScript) {\n      var newScript = document.createElement(\"script\");\n      var attrs = [];\n      var nodemap = oldScript.attributes;\n      for (var j in nodemap) {\n        if (nodemap.hasOwnProperty(j)) {\n          attrs.push(nodemap[j])\n        }\n      }\n      attrs.forEach(function(attr) { newScript.setAttribute(attr.name, attr.value) });\n      newScript.appendChild(document.createTextNode(oldScript.innerHTML));\n      oldScript.parentNode.replaceChild(newScript, oldScript);\n    });\n    if (JS_MIME_TYPE in output.data) {\n      toinsert[nchildren-1].children[1].textContent = output.data[JS_MIME_TYPE];\n    }\n    output_area._hv_plot_id = id;\n    if ((window.Bokeh !== undefined) && (id in Bokeh.index)) {\n      window.PyViz.plot_index[id] = Bokeh.index[id];\n    } else {\n      window.PyViz.plot_index[id] = null;\n    }\n  } else if (output.metadata[EXEC_MIME_TYPE][\"server_id\"] !== undefined) {\n    var bk_div = document.createElement(\"div\");\n    bk_div.innerHTML = output.data[HTML_MIME_TYPE];\n    var script_attrs = bk_div.children[0].attributes;\n    for (var i = 0; i < script_attrs.length; i++) {\n      toinsert[toinsert.length - 1].childNodes[1].setAttribute(script_attrs[i].name, script_attrs[i].value);\n    }\n    // store reference to server id on output_area\n    output_area._bokeh_server_id = output.metadata[EXEC_MIME_TYPE][\"server_id\"];\n  }\n}\n\n/**\n * Handle when an output is cleared or removed\n */\nfunction handle_clear_output(event, handle) {\n  var id = handle.cell.output_area._hv_plot_id;\n  var server_id = handle.cell.output_area._bokeh_server_id;\n  if (((id === undefined) || !(id in PyViz.plot_index)) && (server_id !== undefined)) { return; }\n  var comm = window.PyViz.comm_manager.get_client_comm(\"hv-extension-comm\", \"hv-extension-comm\", function () {});\n  if (server_id !== null) {\n    comm.send({event_type: 'server_delete', 'id': server_id});\n    return;\n  } else if (comm !== null) {\n    comm.send({event_type: 'delete', 'id': id});\n  }\n  delete PyViz.plot_index[id];\n  if ((window.Bokeh !== undefined) & (id in window.Bokeh.index)) {\n    var doc = window.Bokeh.index[id].model.document\n    doc.clear();\n    const i = window.Bokeh.documents.indexOf(doc);\n    if (i > -1) {\n      window.Bokeh.documents.splice(i, 1);\n    }\n  }\n}\n\n/**\n * Handle kernel restart event\n */\nfunction handle_kernel_cleanup(event, handle) {\n  delete PyViz.comms[\"hv-extension-comm\"];\n  window.PyViz.plot_index = {}\n}\n\n/**\n * Handle update_display_data messages\n */\nfunction handle_update_output(event, handle) {\n  handle_clear_output(event, {cell: {output_area: handle.output_area}})\n  handle_add_output(event, handle)\n}\n\nfunction register_renderer(events, OutputArea) {\n  function append_mime(data, metadata, element) {\n    // create a DOM node to render to\n    var toinsert = this.create_output_subarea(\n    metadata,\n    CLASS_NAME,\n    EXEC_MIME_TYPE\n    );\n    this.keyboard_manager.register_events(toinsert);\n    // Render to node\n    var props = {data: data, metadata: metadata[EXEC_MIME_TYPE]};\n    render(props, toinsert[0]);\n    element.append(toinsert);\n    return toinsert\n  }\n\n  events.on('output_added.OutputArea', handle_add_output);\n  events.on('output_updated.OutputArea', handle_update_output);\n  events.on('clear_output.CodeCell', handle_clear_output);\n  events.on('delete.Cell', handle_clear_output);\n  events.on('kernel_ready.Kernel', handle_kernel_cleanup);\n\n  OutputArea.prototype.register_mime_type(EXEC_MIME_TYPE, append_mime, {\n    safe: true,\n    index: 0\n  });\n}\n\nif (window.Jupyter !== undefined) {\n  try {\n    var events = require('base/js/events');\n    var OutputArea = require('notebook/js/outputarea').OutputArea;\n    if (OutputArea.prototype.mime_types().indexOf(EXEC_MIME_TYPE) == -1) {\n      register_renderer(events, OutputArea);\n    }\n  } catch(err) {\n  }\n}\n"
     },
     "metadata": {},
     "output_type": "display_data"
    }
   ],
   "source": [
    "alt.renderers.enable('notebook')\n",
    "pn.extension('vega')"
   ]
  },
  {
   "cell_type": "code",
   "execution_count": 25,
   "id": "91c445c2",
   "metadata": {
    "ExecuteTime": {
     "end_time": "2021-06-03T05:02:24.547377Z",
     "start_time": "2021-06-03T05:02:24.534806Z"
    },
    "code_folding": []
   },
   "outputs": [],
   "source": [
    "# create list of record types to use as options\n",
    "records = ['exercise']\n",
    "# creates the dropdown widget\n",
    "record = pn.widgets.Select(name='Record type', options=records)\n",
    "# date range slider\n",
    "date_range_slider = pn.widgets.DateRangeSlider(\n",
    "                                        name='Date Range Slider',\n",
    "                                        start=dt.datetime(2017, 1, 1), end=dt.datetime(2021, 6, 1),\n",
    "                                        value=(dt.datetime(2017, 1, 1), dt.datetime(2021, 6, 1))\n",
    "                                            )\n",
    "\n",
    "title = '### Workout tracker'\n",
    "subtitle = 'Select a record type and date range'"
   ]
  },
  {
   "cell_type": "code",
   "execution_count": 29,
   "id": "86150eb5",
   "metadata": {
    "ExecuteTime": {
     "end_time": "2021-06-03T05:03:19.836630Z",
     "start_time": "2021-06-03T05:03:19.826657Z"
    }
   },
   "outputs": [],
   "source": [
    "\n",
    "@pn.depends(record.param.value, date_range_slider.param.value)\n",
    "\n",
    "def get_plot(record, date_range):\n",
    "     # define df : load and format the data\n",
    "    df = df_exercise\n",
    "    df['date'] = pd.to_datetime(df['date'])\n",
    "     # create date filter using values from the range slider\n",
    "     # store the first and last date range slider value in a var\n",
    "    start_date = date_range_slider.value[0] \n",
    "    end_date = date_range_slider.value[1] \n",
    "     # create filter mask for the dataframe\n",
    "    mask = (df['date'] > start_date) & (df['date'] <= end_date)\n",
    "     # filter the dataframe\n",
    "    df = df.loc[mask] \n",
    "     # create the Altair chart object\n",
    "    chart = alt.Chart(df).mark_line().encode(x='date', y='value',\n",
    "                                              tooltip=alt.Tooltip(['date','value'])).transform_filter(\n",
    "                                            (datum.symbol == record ) # this ties in the filter \n",
    "                                            )\n",
    "    return chart"
   ]
  },
  {
   "cell_type": "code",
   "execution_count": 30,
   "id": "725a87e5",
   "metadata": {
    "ExecuteTime": {
     "end_time": "2021-06-03T05:03:20.608132Z",
     "start_time": "2021-06-03T05:03:20.557546Z"
    }
   },
   "outputs": [],
   "source": [
    "dashboard = pn.Row(pn.Column(title, subtitle, record, date_range_slider), get_plot)"
   ]
  },
  {
   "cell_type": "code",
   "execution_count": 31,
   "id": "f8fc45d9",
   "metadata": {
    "ExecuteTime": {
     "end_time": "2021-06-03T05:03:21.291478Z",
     "start_time": "2021-06-03T05:03:21.221786Z"
    },
    "scrolled": true
   },
   "outputs": [
    {
     "data": {},
     "metadata": {},
     "output_type": "display_data"
    },
    {
     "data": {
      "application/vnd.holoviews_exec.v0+json": "",
      "text/html": [
       "<div id='1092'>\n",
       "\n",
       "\n",
       "\n",
       "\n",
       "\n",
       "  <div class=\"bk-root\" id=\"a7ebf89a-1291-423e-9d2c-89c319996f16\" data-root-id=\"1092\"></div>\n",
       "</div>\n",
       "<script type=\"application/javascript\">(function(root) {\n",
       "  function embed_document(root) {\n",
       "    var docs_json = {\"33ef8dd3-a878-410a-ad50-bab7470bb0e9\":{\"defs\":[],\"roots\":{\"references\":[{\"attributes\":{\"children\":[{\"id\":\"1093\"},{\"id\":\"1098\"}],\"margin\":[0,0,0,0],\"name\":\"Row00147\"},\"id\":\"1092\",\"type\":\"Row\"},{\"attributes\":{\"client_comm_id\":\"72d89704646a437a85f607e4d68f4fc4\",\"comm_id\":\"201d353a7df043cd80b8f48faa91b832\",\"plot_id\":\"1092\"},\"id\":\"1107\",\"type\":\"panel.models.comm_manager.CommManager\"},{\"attributes\":{\"margin\":[5,10,5,10],\"options\":[\"exercise\"],\"title\":\"Record type\",\"value\":\"exercise\"},\"id\":\"1096\",\"type\":\"Select\"},{\"attributes\":{\"css_classes\":[\"markdown\"],\"margin\":[5,5,5,5],\"name\":\"Markdown00135\",\"text\":\"&lt;h3&gt;Workout tracker&lt;/h3&gt;\"},\"id\":\"1094\",\"type\":\"panel.models.markup.HTML\"},{\"attributes\":{\"end\":1622505600000.0,\"margin\":[5,10,5,10],\"start\":1483228800000.0,\"title\":\"Date Range Slider\",\"value\":[1483228800000.0,1622505600000.0]},\"id\":\"1097\",\"type\":\"DateRangeSlider\"},{\"attributes\":{\"data\":{\"$schema\":\"https://vega.github.io/schema/vega-lite/v4.8.1.json\",\"config\":{\"view\":{\"continuousHeight\":300,\"continuousWidth\":400}},\"data\":{\"name\":\"data-941e82300cca48e676e2a6b64cbe2ef1\"},\"datasets\":{},\"encoding\":{\"tooltip\":[{\"field\":\"date\",\"type\":\"temporal\"},{\"field\":\"value\",\"type\":\"quantitative\"}],\"x\":{\"field\":\"date\",\"type\":\"temporal\"},\"y\":{\"field\":\"value\",\"type\":\"quantitative\"}},\"mark\":\"line\",\"transform\":[{\"filter\":\"(datum.symbol === 'exercise')\"}]},\"data_sources\":{\"data-941e82300cca48e676e2a6b64cbe2ef1\":{\"id\":\"1099\"}},\"height\":322,\"margin\":[5,5,5,5],\"width\":422},\"id\":\"1100\",\"type\":\"panel.models.vega.VegaPlot\"},{\"attributes\":{},\"id\":\"1101\",\"type\":\"UnionRenderers\"},{\"attributes\":{\"data\":{\"date\":{\"__ndarray__\":\"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\",\"dtype\":\"float64\",\"order\":\"little\",\"shape\":[271]},\"index\":[0,1,2,3,4,5,6,7,8,9,10,11,12,13,14,15,16,17,18,19,20,21,22,23,24,25,26,27,28,29,30,31,32,33,34,35,36,37,38,39,40,41,42,43,44,45,46,47,48,49,50,51,52,53,54,55,56,57,58,59,60,61,62,63,64,65,66,67,68,69,70,71,72,73,74,75,76,77,78,79,80,81,82,83,84,85,86,87,88,89,90,91,92,93,94,95,96,97,98,99,100,101,102,103,104,105,106,107,108,109,110,111,112,113,114,115,116,117,118,119,120,121,122,123,124,125,126,127,128,129,130,131,132,133,134,135,136,137,138,139,140,141,142,143,144,145,146,147,148,149,150,151,152,153,154,155,156,157,158,159,160,161,162,163,164,165,166,167,168,169,170,171,172,173,174,175,176,177,178,179,180,181,182,183,184,185,186,187,188,189,190,191,192,193,194,195,196,197,198,199,200,201,202,203,204,205,206,207,208,209,210,211,212,213,214,215,216,217,218,219,220,221,222,223,224,225,226,227,228,229,230,231,232,233,234,235,236,237,238,239,240,241,242,243,244,245,246,247,248,249,250,251,252,253,254,255,256,257,258,259,260,261,262,263,264,265,266,267,268,269,270],\"value\":[69,51,84,31,64,25,56,79,9,90,38,62,62,101,52,36,43,48,37,67,16,92,69,62,1,7,65,87,32,120,47,1,28,62,68,43,41,52,1,19,36,23,42,41,32,18,7,8,35,7,38,57,61,91,30,32,48,103,11,33,68,21,113,46,65,60,22,95,114,122,131,116,92,96,117,57,19,87,113,65,74,90,130,103,163,70,93,215,126,101,84,69,95,138,56,141,101,178,59,58,51,83,34,123,86,102,122,91,59,88,106,36,95,97,128,78,163,83,44,68,82,34,27,90,51,78,60,41,134,61,128,84,76,97,11,8,88,80,31,183,15,1,29,15,12,23,1,7,11,43,7,52,11,26,8,36,98,44,36,55,23,69,1,50,58,6,12,72,7,18,25,35,52,12,8,9,79,102,49,39,57,43,108,39,53,30,51,73,33,2,106,3,69,36,91,50,82,47,60,68,74,64,20,46,2,71,85,77,4,114,160,46,7,10,51,96,114,61,123,61,77,53,68,50,81,71,55,132,13,85,22,10,95,81,2,9,85,94,61,95,39,72,21,53,8,21,20,92,84,91,111,77,60,23,60,63,88,123,51,53,11,59,67,90,16,92,127,87,53,64,94]},\"selected\":{\"id\":\"1102\"},\"selection_policy\":{\"id\":\"1101\"}},\"id\":\"1099\",\"type\":\"ColumnDataSource\"},{\"attributes\":{\"css_classes\":[\"markdown\"],\"margin\":[5,5,5,5],\"name\":\"Markdown00137\",\"text\":\"&lt;p&gt;Select a record type and date range&lt;/p&gt;\"},\"id\":\"1095\",\"type\":\"panel.models.markup.HTML\"},{\"attributes\":{},\"id\":\"1102\",\"type\":\"Selection\"},{\"attributes\":{\"children\":[{\"id\":\"1094\"},{\"id\":\"1095\"},{\"id\":\"1096\"},{\"id\":\"1097\"}],\"margin\":[0,0,0,0],\"name\":\"Column00139\"},\"id\":\"1093\",\"type\":\"Column\"},{\"attributes\":{\"children\":[{\"id\":\"1100\"}],\"margin\":[0,0,0,0],\"name\":\"Row00144\"},\"id\":\"1098\",\"type\":\"Row\"}],\"root_ids\":[\"1092\",\"1107\"]},\"title\":\"Bokeh Application\",\"version\":\"2.3.2\"}};\n",
       "    var render_items = [{\"docid\":\"33ef8dd3-a878-410a-ad50-bab7470bb0e9\",\"root_ids\":[\"1092\"],\"roots\":{\"1092\":\"a7ebf89a-1291-423e-9d2c-89c319996f16\"}}];\n",
       "    root.Bokeh.embed.embed_items_notebook(docs_json, render_items);\n",
       "  }\n",
       "  if (root.Bokeh !== undefined && root.Bokeh.Panel !== undefined && root['vega'] !== undefined ) {\n",
       "    embed_document(root);\n",
       "  } else {\n",
       "    var attempts = 0;\n",
       "    var timer = setInterval(function(root) {\n",
       "      if (root.Bokeh !== undefined && root.Bokeh.Panel !== undefined && root['vega'] !== undefined) {\n",
       "        clearInterval(timer);\n",
       "        embed_document(root);\n",
       "      } else if (document.readyState == \"complete\") {\n",
       "        attempts++;\n",
       "        if (attempts > 100) {\n",
       "          clearInterval(timer);\n",
       "          console.log(\"Bokeh: ERROR: Unable to run BokehJS code because BokehJS library is missing\");\n",
       "        }\n",
       "      }\n",
       "    }, 10, root)\n",
       "  }\n",
       "})(window);</script>"
      ],
      "text/plain": [
       "Row\n",
       "    [0] Column\n",
       "        [0] Markdown(str)\n",
       "        [1] Markdown(str)\n",
       "        [2] Select(name='Record type', options=['exercise'], value='exercise')\n",
       "        [3] DateRangeSlider(end=datetime.datetime(2021, ..., name='Date Range Slider', start=datetime.datetime(2017, ..., value=(datetime.datetime(2017, ...)\n",
       "    [1] ParamFunction(function)"
      ]
     },
     "execution_count": 31,
     "metadata": {
      "application/vnd.holoviews_exec.v0+json": {
       "id": "1092"
      }
     },
     "output_type": "execute_result"
    }
   ],
   "source": [
    "dashboard.servable()"
   ]
  },
  {
   "cell_type": "code",
   "execution_count": null,
   "id": "014c983a",
   "metadata": {},
   "outputs": [],
   "source": []
  },
  {
   "cell_type": "code",
   "execution_count": null,
   "id": "8556ec90",
   "metadata": {},
   "outputs": [],
   "source": []
  },
  {
   "cell_type": "code",
   "execution_count": null,
   "id": "f2154420",
   "metadata": {},
   "outputs": [],
   "source": []
  },
  {
   "cell_type": "code",
   "execution_count": null,
   "id": "53b7f29b",
   "metadata": {},
   "outputs": [],
   "source": []
  },
  {
   "cell_type": "code",
   "execution_count": null,
   "id": "460f872f",
   "metadata": {},
   "outputs": [],
   "source": []
  },
  {
   "cell_type": "markdown",
   "id": "ce27aba5",
   "metadata": {},
   "source": [
    "https://nbviewer.jupyter.org/github/leehaesung/My_Heart_Rate_For_Time_Series_Analysis/blob/master/02_Codes/My_Heart_Rate_For_Time_Series_Analysis.ipynb"
   ]
  },
  {
   "cell_type": "code",
   "execution_count": null,
   "id": "0f063411",
   "metadata": {},
   "outputs": [],
   "source": []
  },
  {
   "cell_type": "code",
   "execution_count": null,
   "id": "99c48722",
   "metadata": {},
   "outputs": [],
   "source": []
  },
  {
   "cell_type": "code",
   "execution_count": null,
   "id": "0a78e754",
   "metadata": {},
   "outputs": [],
   "source": []
  },
  {
   "cell_type": "code",
   "execution_count": null,
   "id": "e7b118f5",
   "metadata": {},
   "outputs": [],
   "source": []
  },
  {
   "cell_type": "code",
   "execution_count": null,
   "id": "29105c8d",
   "metadata": {},
   "outputs": [],
   "source": []
  },
  {
   "cell_type": "code",
   "execution_count": null,
   "id": "299cf23d",
   "metadata": {},
   "outputs": [],
   "source": []
  },
  {
   "cell_type": "code",
   "execution_count": null,
   "id": "2630ff29",
   "metadata": {},
   "outputs": [],
   "source": []
  }
 ],
 "metadata": {
  "kernelspec": {
   "display_name": "Python 3",
   "language": "python",
   "name": "python3"
  },
  "language_info": {
   "codemirror_mode": {
    "name": "ipython",
    "version": 3
   },
   "file_extension": ".py",
   "mimetype": "text/x-python",
   "name": "python",
   "nbconvert_exporter": "python",
   "pygments_lexer": "ipython3",
   "version": "3.7.3"
  },
  "latex_envs": {
   "LaTeX_envs_menu_present": true,
   "autoclose": true,
   "autocomplete": true,
   "bibliofile": "biblio.bib",
   "cite_by": "apalike",
   "current_citInitial": 1,
   "eqLabelWithNumbers": true,
   "eqNumInitial": 1,
   "hotkeys": {
    "equation": "Ctrl-E",
    "itemize": "Ctrl-I"
   },
   "labels_anchors": false,
   "latex_user_defs": false,
   "report_style_numbering": false,
   "user_envs_cfg": false
  },
  "toc": {
   "base_numbering": 1,
   "nav_menu": {},
   "number_sections": true,
   "sideBar": true,
   "skip_h1_title": false,
   "title_cell": "Table of Contents",
   "title_sidebar": "Contents",
   "toc_cell": false,
   "toc_position": {
    "height": "calc(100% - 180px)",
    "left": "10px",
    "top": "150px",
    "width": "165px"
   },
   "toc_section_display": true,
   "toc_window_display": true
  },
  "varInspector": {
   "cols": {
    "lenName": 16,
    "lenType": 16,
    "lenVar": 40
   },
   "kernels_config": {
    "python": {
     "delete_cmd_postfix": "",
     "delete_cmd_prefix": "del ",
     "library": "var_list.py",
     "varRefreshCmd": "print(var_dic_list())"
    },
    "r": {
     "delete_cmd_postfix": ") ",
     "delete_cmd_prefix": "rm(",
     "library": "var_list.r",
     "varRefreshCmd": "cat(var_dic_list()) "
    }
   },
   "types_to_exclude": [
    "module",
    "function",
    "builtin_function_or_method",
    "instance",
    "_Feature"
   ],
   "window_display": false
  }
 },
 "nbformat": 4,
 "nbformat_minor": 5
}
