{
 "cells": [
  {
   "cell_type": "markdown",
   "id": "f0bed075",
   "metadata": {},
   "source": [
    "- Dataframe to Mysql > ABTEST > Analyzing the results"
   ]
  },
  {
   "cell_type": "markdown",
   "id": "dc232a16",
   "metadata": {},
   "source": [
    "### Module Import"
   ]
  },
  {
   "cell_type": "code",
   "execution_count": 6,
   "id": "42f2b6ac",
   "metadata": {
    "ExecuteTime": {
     "end_time": "2021-05-31T11:06:13.473340Z",
     "start_time": "2021-05-31T11:06:13.441852Z"
    }
   },
   "outputs": [],
   "source": [
    "import pandas as pd\n",
    "import numpy as np\n",
    "import matplotlib.pyplot as plt\n",
    "%matplotlib inline\n",
    "plt.rcParams['font.family'] = 'Malgun Gothic'  \n",
    "\n",
    "import os\n",
    "import sys\n",
    "import urllib.request\n",
    "\n",
    "#!pip install pymysql\n",
    "import pymysql\n",
    "import logging\n",
    "import sqlite3\n",
    "from sqlalchemy import create_engine"
   ]
  },
  {
   "cell_type": "markdown",
   "id": "e17a2975",
   "metadata": {},
   "source": [
    "### Load Data & Setting "
   ]
  },
  {
   "cell_type": "code",
   "execution_count": 4,
   "id": "0c597ea9",
   "metadata": {
    "ExecuteTime": {
     "end_time": "2021-05-31T10:54:42.888861Z",
     "start_time": "2021-05-31T10:54:41.544895Z"
    },
    "scrolled": true
   },
   "outputs": [],
   "source": [
    "df_experiments = pd.read_csv('')\n",
    "df_users = pd.read_csv('')\n",
    "df_events = pd.read_csv('')"
   ]
  },
  {
   "cell_type": "code",
   "execution_count": 7,
   "id": "9741679c",
   "metadata": {
    "ExecuteTime": {
     "end_time": "2021-05-31T11:11:43.693635Z",
     "start_time": "2021-05-31T11:11:43.680592Z"
    }
   },
   "outputs": [],
   "source": [
    "host=''\n",
    "user='' \n",
    "passwd=''\n",
    "db=''"
   ]
  },
  {
   "cell_type": "markdown",
   "id": "859d60f9",
   "metadata": {},
   "source": [
    "## Insert dataframe to Mysql : to_sql"
   ]
  },
  {
   "cell_type": "code",
   "execution_count": 21,
   "id": "38710d5a",
   "metadata": {
    "ExecuteTime": {
     "end_time": "2021-05-31T11:20:33.191967Z",
     "start_time": "2021-05-31T11:20:33.171779Z"
    }
   },
   "outputs": [],
   "source": [
    "# connect to db\n",
    "conn = create_engine(\"mysql+pymysql://{user}:{pw}@{host}/{db}\"\n",
    "                       .format(user=user,\n",
    "                               host=host,\n",
    "                               pw=passwd,\n",
    "                               db=db))"
   ]
  },
  {
   "cell_type": "code",
   "execution_count": 25,
   "id": "e06d17dc",
   "metadata": {
    "ExecuteTime": {
     "end_time": "2021-05-31T11:25:51.848486Z",
     "start_time": "2021-05-31T11:25:49.846670Z"
    }
   },
   "outputs": [],
   "source": [
    "df_experiments.to_sql(name='experiments', con=conn, if_exists = 'replace', index=False)\n",
    "df_users.to_sql(name='users', con=conn, if_exists = 'replace', index=False)\n",
    "df_events.to_sql(name='events', con=conn, if_exists = 'replace', index=False)"
   ]
  },
  {
   "cell_type": "code",
   "execution_count": null,
   "id": "d928b694",
   "metadata": {},
   "outputs": [],
   "source": []
  },
  {
   "cell_type": "code",
   "execution_count": null,
   "id": "e66682b6",
   "metadata": {},
   "outputs": [],
   "source": []
  },
  {
   "cell_type": "code",
   "execution_count": null,
   "id": "2d09791a",
   "metadata": {},
   "outputs": [],
   "source": []
  },
  {
   "cell_type": "code",
   "execution_count": null,
   "id": "c164f3ac",
   "metadata": {},
   "outputs": [],
   "source": []
  },
  {
   "cell_type": "code",
   "execution_count": null,
   "id": "90e67a9c",
   "metadata": {},
   "outputs": [],
   "source": []
  }
 ],
 "metadata": {
  "kernelspec": {
   "display_name": "Python 3",
   "language": "python",
   "name": "python3"
  },
  "language_info": {
   "codemirror_mode": {
    "name": "ipython",
    "version": 3
   },
   "file_extension": ".py",
   "mimetype": "text/x-python",
   "name": "python",
   "nbconvert_exporter": "python",
   "pygments_lexer": "ipython3",
   "version": "3.7.3"
  },
  "latex_envs": {
   "LaTeX_envs_menu_present": true,
   "autoclose": true,
   "autocomplete": true,
   "bibliofile": "biblio.bib",
   "cite_by": "apalike",
   "current_citInitial": 1,
   "eqLabelWithNumbers": true,
   "eqNumInitial": 1,
   "hotkeys": {
    "equation": "Ctrl-E",
    "itemize": "Ctrl-I"
   },
   "labels_anchors": false,
   "latex_user_defs": false,
   "report_style_numbering": false,
   "user_envs_cfg": false
  },
  "toc": {
   "base_numbering": 1,
   "nav_menu": {},
   "number_sections": true,
   "sideBar": true,
   "skip_h1_title": false,
   "title_cell": "Table of Contents",
   "title_sidebar": "Contents",
   "toc_cell": false,
   "toc_position": {},
   "toc_section_display": true,
   "toc_window_display": true
  },
  "varInspector": {
   "cols": {
    "lenName": 16,
    "lenType": 16,
    "lenVar": 40
   },
   "kernels_config": {
    "python": {
     "delete_cmd_postfix": "",
     "delete_cmd_prefix": "del ",
     "library": "var_list.py",
     "varRefreshCmd": "print(var_dic_list())"
    },
    "r": {
     "delete_cmd_postfix": ") ",
     "delete_cmd_prefix": "rm(",
     "library": "var_list.r",
     "varRefreshCmd": "cat(var_dic_list()) "
    }
   },
   "types_to_exclude": [
    "module",
    "function",
    "builtin_function_or_method",
    "instance",
    "_Feature"
   ],
   "window_display": false
  }
 },
 "nbformat": 4,
 "nbformat_minor": 5
}
