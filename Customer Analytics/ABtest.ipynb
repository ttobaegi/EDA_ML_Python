{
 "cells": [
  {
   "cell_type": "markdown",
   "id": "f0bed075",
   "metadata": {},
   "source": [
    "- Dataframe to Mysql > ABTEST > Analyzing the results"
   ]
  },
  {
   "cell_type": "markdown",
   "id": "dc232a16",
   "metadata": {},
   "source": [
    "### Module Import"
   ]
  },
  {
   "cell_type": "code",
   "execution_count": 1,
   "id": "42f2b6ac",
   "metadata": {
    "ExecuteTime": {
     "end_time": "2021-06-01T05:36:52.917028Z",
     "start_time": "2021-06-01T05:36:51.000824Z"
    }
   },
   "outputs": [],
   "source": [
    "import pandas as pd\n",
    "import numpy as np\n",
    "import matplotlib.pyplot as plt\n",
    "%matplotlib inline\n",
    "plt.rcParams['font.family'] = 'Malgun Gothic'  \n",
    "\n",
    "import os\n",
    "import sys\n",
    "import urllib.request\n",
    "\n",
    "#!pip install pymysql\n",
    "import pymysql\n",
    "import logging\n",
    "import sqlite3\n",
    "from sqlalchemy import create_engine"
   ]
  },
  {
   "cell_type": "markdown",
   "id": "e17a2975",
   "metadata": {},
   "source": [
    "### Load Data & Setting "
   ]
  },
  {
   "cell_type": "code",
   "execution_count": 4,
   "id": "0c597ea9",
   "metadata": {
    "ExecuteTime": {
     "end_time": "2021-05-31T10:54:42.888861Z",
     "start_time": "2021-05-31T10:54:41.544895Z"
    },
    "scrolled": true
   },
   "outputs": [],
   "source": [
    "df_experiments = pd.read_csv('')\n",
    "df_users = pd.read_csv('')\n",
    "df_events = pd.read_csv('')"
   ]
  },
  {
   "cell_type": "code",
   "execution_count": 6,
   "id": "788a22a8",
   "metadata": {
    "ExecuteTime": {
     "end_time": "2021-06-01T05:40:02.730110Z",
     "start_time": "2021-06-01T05:40:02.706570Z"
    }
   },
   "outputs": [],
   "source": [
    "norm = pd.read_csv('')"
   ]
  },
  {
   "cell_type": "code",
   "execution_count": 7,
   "id": "676e64d3",
   "metadata": {
    "ExecuteTime": {
     "end_time": "2021-06-01T05:40:10.486898Z",
     "start_time": "2021-06-01T05:40:10.469937Z"
    },
    "scrolled": false
   },
   "outputs": [
    {
     "data": {
      "text/html": [
       "<div>\n",
       "<style scoped>\n",
       "    .dataframe tbody tr th:only-of-type {\n",
       "        vertical-align: middle;\n",
       "    }\n",
       "\n",
       "    .dataframe tbody tr th {\n",
       "        vertical-align: top;\n",
       "    }\n",
       "\n",
       "    .dataframe thead th {\n",
       "        text-align: right;\n",
       "    }\n",
       "</style>\n",
       "<table border=\"1\" class=\"dataframe\">\n",
       "  <thead>\n",
       "    <tr style=\"text-align: right;\">\n",
       "      <th></th>\n",
       "      <th>score</th>\n",
       "      <th>value</th>\n",
       "    </tr>\n",
       "  </thead>\n",
       "  <tbody>\n",
       "    <tr>\n",
       "      <th>0</th>\n",
       "      <td>0.000</td>\n",
       "      <td>0.500000</td>\n",
       "    </tr>\n",
       "    <tr>\n",
       "      <th>1</th>\n",
       "      <td>0.001</td>\n",
       "      <td>0.500399</td>\n",
       "    </tr>\n",
       "    <tr>\n",
       "      <th>2</th>\n",
       "      <td>0.002</td>\n",
       "      <td>0.500798</td>\n",
       "    </tr>\n",
       "    <tr>\n",
       "      <th>3</th>\n",
       "      <td>0.003</td>\n",
       "      <td>0.501197</td>\n",
       "    </tr>\n",
       "    <tr>\n",
       "      <th>4</th>\n",
       "      <td>0.004</td>\n",
       "      <td>0.501596</td>\n",
       "    </tr>\n",
       "  </tbody>\n",
       "</table>\n",
       "</div>"
      ],
      "text/plain": [
       "   score     value\n",
       "0  0.000  0.500000\n",
       "1  0.001  0.500399\n",
       "2  0.002  0.500798\n",
       "3  0.003  0.501197\n",
       "4  0.004  0.501596"
      ]
     },
     "execution_count": 7,
     "metadata": {},
     "output_type": "execute_result"
    }
   ],
   "source": [
    "norm.head()"
   ]
  },
  {
   "cell_type": "code",
   "execution_count": 7,
   "id": "9741679c",
   "metadata": {
    "ExecuteTime": {
     "end_time": "2021-05-31T11:11:43.693635Z",
     "start_time": "2021-05-31T11:11:43.680592Z"
    }
   },
   "outputs": [],
   "source": [
    "host=''\n",
    "user='' \n",
    "passwd=''\n",
    "db=''"
   ]
  },
  {
   "cell_type": "markdown",
   "id": "859d60f9",
   "metadata": {},
   "source": [
    "## Insert dataframe to Mysql : to_sql"
   ]
  },
  {
   "cell_type": "code",
   "execution_count": 8,
   "id": "38710d5a",
   "metadata": {
    "ExecuteTime": {
     "end_time": "2021-06-01T05:40:17.270204Z",
     "start_time": "2021-06-01T05:40:17.205058Z"
    }
   },
   "outputs": [],
   "source": [
    "# connect to db\n",
    "conn = create_engine(\"mysql+pymysql://{user}:{pw}@{host}/{db}\"\n",
    "                       .format(user=user,\n",
    "                               host=host,\n",
    "                               pw=passwd,\n",
    "                               db=db))"
   ]
  },
  {
   "cell_type": "code",
   "execution_count": 25,
   "id": "e06d17dc",
   "metadata": {
    "ExecuteTime": {
     "end_time": "2021-05-31T11:25:51.848486Z",
     "start_time": "2021-05-31T11:25:49.846670Z"
    }
   },
   "outputs": [],
   "source": [
    "# AB test 결과, 유저정보, 유저행동로그 데이터 셋 \n",
    "df_experiments.to_sql(name='experiments', con=conn, if_exists = 'replace', index=False)\n",
    "df_users.to_sql(name='users', con=conn, if_exists = 'replace', index=False)\n",
    "df_events.to_sql(name='events', con=conn, if_exists = 'replace', index=False)"
   ]
  },
  {
   "cell_type": "code",
   "execution_count": 9,
   "id": "d928b694",
   "metadata": {
    "ExecuteTime": {
     "end_time": "2021-06-01T05:40:37.627011Z",
     "start_time": "2021-06-01T05:40:32.280022Z"
    }
   },
   "outputs": [],
   "source": [
    "# 가설검정 정규분포 \n",
    "norm.to_sql(name='normal_distribution', con=conn, if_exists = 'replace', index=False)"
   ]
  },
  {
   "cell_type": "code",
   "execution_count": null,
   "id": "e66682b6",
   "metadata": {},
   "outputs": [],
   "source": []
  },
  {
   "cell_type": "code",
   "execution_count": null,
   "id": "2d09791a",
   "metadata": {},
   "outputs": [],
   "source": []
  },
  {
   "cell_type": "code",
   "execution_count": null,
   "id": "c164f3ac",
   "metadata": {},
   "outputs": [],
   "source": []
  },
  {
   "cell_type": "code",
   "execution_count": null,
   "id": "90e67a9c",
   "metadata": {},
   "outputs": [],
   "source": []
  }
 ],
 "metadata": {
  "kernelspec": {
   "display_name": "Python 3",
   "language": "python",
   "name": "python3"
  },
  "language_info": {
   "codemirror_mode": {
    "name": "ipython",
    "version": 3
   },
   "file_extension": ".py",
   "mimetype": "text/x-python",
   "name": "python",
   "nbconvert_exporter": "python",
   "pygments_lexer": "ipython3",
   "version": "3.7.3"
  },
  "latex_envs": {
   "LaTeX_envs_menu_present": true,
   "autoclose": true,
   "autocomplete": true,
   "bibliofile": "biblio.bib",
   "cite_by": "apalike",
   "current_citInitial": 1,
   "eqLabelWithNumbers": true,
   "eqNumInitial": 1,
   "hotkeys": {
    "equation": "Ctrl-E",
    "itemize": "Ctrl-I"
   },
   "labels_anchors": false,
   "latex_user_defs": false,
   "report_style_numbering": false,
   "user_envs_cfg": false
  },
  "toc": {
   "base_numbering": 1,
   "nav_menu": {},
   "number_sections": true,
   "sideBar": true,
   "skip_h1_title": false,
   "title_cell": "Table of Contents",
   "title_sidebar": "Contents",
   "toc_cell": false,
   "toc_position": {},
   "toc_section_display": true,
   "toc_window_display": true
  },
  "varInspector": {
   "cols": {
    "lenName": 16,
    "lenType": 16,
    "lenVar": 40
   },
   "kernels_config": {
    "python": {
     "delete_cmd_postfix": "",
     "delete_cmd_prefix": "del ",
     "library": "var_list.py",
     "varRefreshCmd": "print(var_dic_list())"
    },
    "r": {
     "delete_cmd_postfix": ") ",
     "delete_cmd_prefix": "rm(",
     "library": "var_list.r",
     "varRefreshCmd": "cat(var_dic_list()) "
    }
   },
   "types_to_exclude": [
    "module",
    "function",
    "builtin_function_or_method",
    "instance",
    "_Feature"
   ],
   "window_display": false
  }
 },
 "nbformat": 4,
 "nbformat_minor": 5
}
