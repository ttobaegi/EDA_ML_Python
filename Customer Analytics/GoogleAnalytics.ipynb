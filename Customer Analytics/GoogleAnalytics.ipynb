{
 "cells": [
  {
   "cell_type": "markdown",
   "id": "1b27e878",
   "metadata": {},
   "source": [
    "## module import"
   ]
  },
  {
   "cell_type": "code",
   "execution_count": 90,
   "id": "4f9d0744",
   "metadata": {
    "ExecuteTime": {
     "end_time": "2021-05-27T16:50:55.336323Z",
     "start_time": "2021-05-27T16:50:55.326842Z"
    }
   },
   "outputs": [],
   "source": [
    "# !pip install matplotlib\n",
    "# !pip install seaborn"
   ]
  },
  {
   "cell_type": "code",
   "execution_count": 93,
   "id": "cb9efaaf",
   "metadata": {
    "ExecuteTime": {
     "end_time": "2021-05-27T16:52:48.269742Z",
     "start_time": "2021-05-27T16:52:48.251429Z"
    },
    "scrolled": true
   },
   "outputs": [],
   "source": [
    "import pandas as pd\n",
    "import numpy as np\n",
    "\n",
    "# visualization\n",
    "import matplotlib.pyplot as plt\n",
    "import seaborn as sns\n",
    "%matplotlib inline\n",
    "sns.set_style(style=\"white\")\n",
    "plt.rc('font', family='Malgun Gothic') "
   ]
  },
  {
   "cell_type": "markdown",
   "id": "88f4d476",
   "metadata": {},
   "source": [
    "## data load"
   ]
  },
  {
   "cell_type": "code",
   "execution_count": 15,
   "id": "05a773ea",
   "metadata": {
    "ExecuteTime": {
     "end_time": "2021-05-27T15:54:16.492313Z",
     "start_time": "2021-05-27T15:54:16.446522Z"
    }
   },
   "outputs": [],
   "source": [
    "ga = pd.read_csv('../ga_data/train.csv', encoding='CP949')\n",
    "X_train = ga.copy()"
   ]
  },
  {
   "cell_type": "code",
   "execution_count": 74,
   "id": "19e87376",
   "metadata": {
    "ExecuteTime": {
     "end_time": "2021-05-27T16:43:12.878585Z",
     "start_time": "2021-05-27T16:43:12.183031Z"
    },
    "scrolled": true
   },
   "outputs": [
    {
     "name": "stderr",
     "output_type": "stream",
     "text": [
      "C:\\Users\\JIIN\\AppData\\Roaming\\Python\\Python37\\site-packages\\IPython\\core\\interactiveshell.py:3170: DtypeWarning: Columns (4,5) have mixed types.Specify dtype option on import or set low_memory=False.\n",
      "  interactivity=interactivity, compiler=compiler, result=result)\n"
     ]
    }
   ],
   "source": [
    "user = pd.read_csv('../ga_data/info_user.csv', encoding='CP949')\n",
    "competition = pd.read_csv('../ga_data/info_competition.csv', encoding='CP949')\n",
    "info = pd.read_csv('../ga_data/info_login.csv', encoding='CP949')\n",
    "submission = pd.read_csv('../ga_data/info_submission.csv', encoding='CP949')"
   ]
  },
  {
   "cell_type": "code",
   "execution_count": 75,
   "id": "67c432fa",
   "metadata": {
    "ExecuteTime": {
     "end_time": "2021-05-27T16:43:13.212626Z",
     "start_time": "2021-05-27T16:43:13.157570Z"
    }
   },
   "outputs": [],
   "source": [
    "# drop first column\n",
    "user.drop('Unnamed: 0', axis=1, inplace=True)\n",
    "info.drop('Unnamed: 0', axis=1, inplace=True)\n",
    "submission.drop('Unnamed: 0', axis=1, inplace=True)\n",
    "competition.drop('Unnamed: 0', axis=1, inplace=True)"
   ]
  },
  {
   "cell_type": "code",
   "execution_count": 70,
   "id": "f339d635",
   "metadata": {
    "ExecuteTime": {
     "end_time": "2021-05-27T16:42:20.415165Z",
     "start_time": "2021-05-27T16:42:20.221321Z"
    }
   },
   "outputs": [],
   "source": [
    "# # drop NA\n",
    "# user=user.dropna(how='all').reset_index(drop=True)\n",
    "# info=info.dropna(how='all').reset_index(drop=True)\n",
    "# submission=submission.dropna(how='all').reset_index(drop=True)\n",
    "# competition=competition.dropna(how='all').reset_index(drop=True)"
   ]
  },
  {
   "cell_type": "code",
   "execution_count": 71,
   "id": "3fb87b23",
   "metadata": {
    "ExecuteTime": {
     "end_time": "2021-05-27T16:42:20.872391Z",
     "start_time": "2021-05-27T16:42:20.845427Z"
    },
    "scrolled": true
   },
   "outputs": [
    {
     "data": {
      "text/html": [
       "<div>\n",
       "<style scoped>\n",
       "    .dataframe tbody tr th:only-of-type {\n",
       "        vertical-align: middle;\n",
       "    }\n",
       "\n",
       "    .dataframe tbody tr th {\n",
       "        vertical-align: top;\n",
       "    }\n",
       "\n",
       "    .dataframe thead th {\n",
       "        text-align: right;\n",
       "    }\n",
       "</style>\n",
       "<table border=\"1\" class=\"dataframe\">\n",
       "  <thead>\n",
       "    <tr style=\"text-align: right;\">\n",
       "      <th></th>\n",
       "      <th>sub_id</th>\n",
       "      <th>cpt_id</th>\n",
       "      <th>team_id</th>\n",
       "      <th>user_id</th>\n",
       "      <th>c_time</th>\n",
       "    </tr>\n",
       "  </thead>\n",
       "  <tbody>\n",
       "    <tr>\n",
       "      <th>0</th>\n",
       "      <td>-250918.0</td>\n",
       "      <td>229255.0</td>\n",
       "      <td>5019.0</td>\n",
       "      <td>15880.0</td>\n",
       "      <td>2019-11-24 20:40</td>\n",
       "    </tr>\n",
       "    <tr>\n",
       "      <th>1</th>\n",
       "      <td>-250904.0</td>\n",
       "      <td>229611.0</td>\n",
       "      <td>5162.0</td>\n",
       "      <td>19772.0</td>\n",
       "      <td>2019-11-24 20:36</td>\n",
       "    </tr>\n",
       "  </tbody>\n",
       "</table>\n",
       "</div>"
      ],
      "text/plain": [
       "     sub_id    cpt_id  team_id  user_id            c_time\n",
       "0 -250918.0  229255.0   5019.0  15880.0  2019-11-24 20:40\n",
       "1 -250904.0  229611.0   5162.0  19772.0  2019-11-24 20:36"
      ]
     },
     "execution_count": 71,
     "metadata": {},
     "output_type": "execute_result"
    }
   ],
   "source": [
    "submission.head(2)"
   ]
  },
  {
   "cell_type": "code",
   "execution_count": 35,
   "id": "11829c7a",
   "metadata": {
    "ExecuteTime": {
     "end_time": "2021-05-27T16:29:13.657092Z",
     "start_time": "2021-05-27T16:29:13.636303Z"
    }
   },
   "outputs": [],
   "source": [
    "X_train.columns=list(map(lambda x: x.lower(), X_train.columns))"
   ]
  },
  {
   "cell_type": "code",
   "execution_count": 44,
   "id": "c04a9f12",
   "metadata": {
    "ExecuteTime": {
     "end_time": "2021-05-27T16:35:34.930598Z",
     "start_time": "2021-05-27T16:35:34.454068Z"
    },
    "scrolled": true
   },
   "outputs": [],
   "source": [
    "X_train['datetime'] = pd.to_datetime(X_train['datetime'])\n",
    "X_train['date'] = X_train['datetime'].dt.date\n",
    "X_train['year'] = X_train['datetime'].dt.year\n",
    "X_train['year'] = X_train['datetime'].dt.year\n",
    "X_train['yearmonth']=X_train['datetime'].dt.strftime('%Y-%m')\n",
    "X_train['month'] = X_train['datetime'].dt.month\n",
    "X_train['dayofweek'] = X_train['datetime'].dt.dayofweek\n",
    "X_train['hour'] = X_train['datetime'].dt.hour"
   ]
  },
  {
   "cell_type": "code",
   "execution_count": 45,
   "id": "a1bf2b58",
   "metadata": {
    "ExecuteTime": {
     "end_time": "2021-05-27T16:35:35.310607Z",
     "start_time": "2021-05-27T16:35:35.285798Z"
    },
    "scrolled": false
   },
   "outputs": [
    {
     "data": {
      "text/html": [
       "<div>\n",
       "<style scoped>\n",
       "    .dataframe tbody tr th:only-of-type {\n",
       "        vertical-align: middle;\n",
       "    }\n",
       "\n",
       "    .dataframe tbody tr th {\n",
       "        vertical-align: top;\n",
       "    }\n",
       "\n",
       "    .dataframe thead th {\n",
       "        text-align: right;\n",
       "    }\n",
       "</style>\n",
       "<table border=\"1\" class=\"dataframe\">\n",
       "  <thead>\n",
       "    <tr style=\"text-align: right;\">\n",
       "      <th></th>\n",
       "      <th>datetime</th>\n",
       "      <th>사용자</th>\n",
       "      <th>세션</th>\n",
       "      <th>신규방문자</th>\n",
       "      <th>페이지뷰</th>\n",
       "      <th>year</th>\n",
       "      <th>yearmonth</th>\n",
       "      <th>month</th>\n",
       "      <th>dayofweek</th>\n",
       "      <th>hour</th>\n",
       "      <th>date</th>\n",
       "    </tr>\n",
       "  </thead>\n",
       "  <tbody>\n",
       "    <tr>\n",
       "      <th>0</th>\n",
       "      <td>2018-09-09 00:00:00</td>\n",
       "      <td>19</td>\n",
       "      <td>19</td>\n",
       "      <td>8</td>\n",
       "      <td>206</td>\n",
       "      <td>2018</td>\n",
       "      <td>2018-09</td>\n",
       "      <td>9</td>\n",
       "      <td>6</td>\n",
       "      <td>0</td>\n",
       "      <td>2018-09-09</td>\n",
       "    </tr>\n",
       "    <tr>\n",
       "      <th>1</th>\n",
       "      <td>2018-09-09 01:00:00</td>\n",
       "      <td>20</td>\n",
       "      <td>19</td>\n",
       "      <td>9</td>\n",
       "      <td>259</td>\n",
       "      <td>2018</td>\n",
       "      <td>2018-09</td>\n",
       "      <td>9</td>\n",
       "      <td>6</td>\n",
       "      <td>1</td>\n",
       "      <td>2018-09-09</td>\n",
       "    </tr>\n",
       "    <tr>\n",
       "      <th>2</th>\n",
       "      <td>2018-09-09 02:00:00</td>\n",
       "      <td>12</td>\n",
       "      <td>9</td>\n",
       "      <td>1</td>\n",
       "      <td>48</td>\n",
       "      <td>2018</td>\n",
       "      <td>2018-09</td>\n",
       "      <td>9</td>\n",
       "      <td>6</td>\n",
       "      <td>2</td>\n",
       "      <td>2018-09-09</td>\n",
       "    </tr>\n",
       "    <tr>\n",
       "      <th>3</th>\n",
       "      <td>2018-09-09 03:00:00</td>\n",
       "      <td>10</td>\n",
       "      <td>10</td>\n",
       "      <td>2</td>\n",
       "      <td>102</td>\n",
       "      <td>2018</td>\n",
       "      <td>2018-09</td>\n",
       "      <td>9</td>\n",
       "      <td>6</td>\n",
       "      <td>3</td>\n",
       "      <td>2018-09-09</td>\n",
       "    </tr>\n",
       "    <tr>\n",
       "      <th>4</th>\n",
       "      <td>2018-09-09 04:00:00</td>\n",
       "      <td>6</td>\n",
       "      <td>5</td>\n",
       "      <td>3</td>\n",
       "      <td>18</td>\n",
       "      <td>2018</td>\n",
       "      <td>2018-09</td>\n",
       "      <td>9</td>\n",
       "      <td>6</td>\n",
       "      <td>4</td>\n",
       "      <td>2018-09-09</td>\n",
       "    </tr>\n",
       "  </tbody>\n",
       "</table>\n",
       "</div>"
      ],
      "text/plain": [
       "             datetime  사용자  세션  신규방문자  페이지뷰  year yearmonth  month  dayofweek  \\\n",
       "0 2018-09-09 00:00:00   19  19      8   206  2018   2018-09      9          6   \n",
       "1 2018-09-09 01:00:00   20  19      9   259  2018   2018-09      9          6   \n",
       "2 2018-09-09 02:00:00   12   9      1    48  2018   2018-09      9          6   \n",
       "3 2018-09-09 03:00:00   10  10      2   102  2018   2018-09      9          6   \n",
       "4 2018-09-09 04:00:00    6   5      3    18  2018   2018-09      9          6   \n",
       "\n",
       "   hour        date  \n",
       "0     0  2018-09-09  \n",
       "1     1  2018-09-09  \n",
       "2     2  2018-09-09  \n",
       "3     3  2018-09-09  \n",
       "4     4  2018-09-09  "
      ]
     },
     "execution_count": 45,
     "metadata": {},
     "output_type": "execute_result"
    }
   ],
   "source": [
    "X_train.head()"
   ]
  },
  {
   "cell_type": "code",
   "execution_count": 99,
   "id": "2fa2b15e",
   "metadata": {
    "ExecuteTime": {
     "end_time": "2021-05-27T16:54:50.818171Z",
     "start_time": "2021-05-27T16:54:50.788599Z"
    },
    "scrolled": true
   },
   "outputs": [
    {
     "data": {
      "text/plain": [
       "datetime     0\n",
       "사용자          0\n",
       "세션           0\n",
       "신규방문자        0\n",
       "페이지뷰         0\n",
       "year         0\n",
       "yearmonth    0\n",
       "month        0\n",
       "dayofweek    0\n",
       "hour         0\n",
       "date         0\n",
       "dtype: int64"
      ]
     },
     "execution_count": 99,
     "metadata": {},
     "output_type": "execute_result"
    }
   ],
   "source": [
    "# 결측치 \n",
    "X_train.isna().sum()"
   ]
  },
  {
   "cell_type": "code",
   "execution_count": 114,
   "id": "6384c223",
   "metadata": {
    "ExecuteTime": {
     "end_time": "2021-05-27T17:04:06.557896Z",
     "start_time": "2021-05-27T17:04:06.522506Z"
    },
    "scrolled": false
   },
   "outputs": [
    {
     "name": "stdout",
     "output_type": "stream",
     "text": [
      "(19008, 11)\n",
      "19008\n"
     ]
    }
   ],
   "source": [
    "print(X_train.shape)\n",
    "print(X_train.groupby(['date','세션'])['year'].count().sum())"
   ]
  },
  {
   "cell_type": "markdown",
   "id": "2025b5d1",
   "metadata": {},
   "source": [
    "- 일자 / 세션별 정보"
   ]
  },
  {
   "cell_type": "markdown",
   "id": "441a85fa",
   "metadata": {},
   "source": [
    "## EDA\n",
    "**분석 목적 : 과거의 데이콘 데이터를 활용한 미래의 사용자 행동 패턴을 예측**\n",
    "\n"
   ]
  },
  {
   "cell_type": "code",
   "execution_count": 113,
   "id": "6414deac",
   "metadata": {
    "ExecuteTime": {
     "end_time": "2021-05-27T17:03:48.870579Z",
     "start_time": "2021-05-27T17:03:48.340027Z"
    }
   },
   "outputs": [
    {
     "data": {
      "text/plain": [
       "<AxesSubplot:>"
      ]
     },
     "execution_count": 113,
     "metadata": {},
     "output_type": "execute_result"
    },
    {
     "data": {
      "image/png": "[encoded data removed]",
      "text/plain": [
       "<Figure size 432x288 with 1 Axes>"
      ]
     },
     "metadata": {},
     "output_type": "display_data"
    }
   ],
   "source": [
    "X_train.groupby('date').sum().filter(regex='사용자|세션|신규').plot(kind='box')"
   ]
  },
  {
   "cell_type": "code",
   "execution_count": 112,
   "id": "0436e2bb",
   "metadata": {
    "ExecuteTime": {
     "end_time": "2021-05-27T17:02:23.353542Z",
     "start_time": "2021-05-27T17:02:20.805384Z"
    },
    "scrolled": false
   },
   "outputs": [
    {
     "name": "stderr",
     "output_type": "stream",
     "text": [
      "C:\\Users\\JIIN\\AppData\\Local\\Programs\\Python\\Python37\\lib\\site-packages\\matplotlib\\backends\\backend_agg.py:240: RuntimeWarning: Glyph 8722 missing from current font.\n",
      "  font.set_text(s, 0.0, flags=flags)\n",
      "C:\\Users\\JIIN\\AppData\\Local\\Programs\\Python\\Python37\\lib\\site-packages\\matplotlib\\backends\\backend_agg.py:203: RuntimeWarning: Glyph 8722 missing from current font.\n",
      "  font.set_text(s, 0, flags=flags)\n"
     ]
    },
    {
     "data": {
      "text/plain": [
       "Text(0.5, 1.0, '기본변수 상관계수')"
      ]
     },
     "execution_count": 112,
     "metadata": {},
     "output_type": "execute_result"
    },
    {
     "data": {
      "image/png": "[encoded data removed]",
      "text/plain": [
       "<Figure size 576x432 with 2 Axes>"
      ]
     },
     "metadata": {},
     "output_type": "display_data"
    }
   ],
   "source": [
    "plt.figure(figsize=(8,6))\n",
    "sns.heatmap(X_train.corr(),\n",
    "            annot=True, annot_kws={'size':10}, fmt='.2f',\n",
    "            cmap = \"Blues\")\n",
    "plt.title('기본변수 상관계수')"
   ]
  },
  {
   "cell_type": "code",
   "execution_count": 63,
   "id": "5bbc2b49",
   "metadata": {
    "ExecuteTime": {
     "end_time": "2021-05-27T16:39:33.225528Z",
     "start_time": "2021-05-27T16:39:33.185983Z"
    },
    "scrolled": true
   },
   "outputs": [
    {
     "data": {
      "text/html": [
       "<div>\n",
       "<style scoped>\n",
       "    .dataframe tbody tr th:only-of-type {\n",
       "        vertical-align: middle;\n",
       "    }\n",
       "\n",
       "    .dataframe tbody tr th {\n",
       "        vertical-align: top;\n",
       "    }\n",
       "\n",
       "    .dataframe thead th {\n",
       "        text-align: right;\n",
       "    }\n",
       "</style>\n",
       "<table border=\"1\" class=\"dataframe\">\n",
       "  <thead>\n",
       "    <tr style=\"text-align: right;\">\n",
       "      <th></th>\n",
       "      <th>cpt_id</th>\n",
       "      <th>is_official</th>\n",
       "      <th>period_start</th>\n",
       "      <th>period_end</th>\n",
       "      <th>name</th>\n",
       "      <th>name_eng</th>\n",
       "      <th>keyword</th>\n",
       "      <th>keyword_eng</th>\n",
       "      <th>participants</th>\n",
       "      <th>max_team_member</th>\n",
       "      <th>max_file_per_day</th>\n",
       "      <th>prize</th>\n",
       "      <th>prize_info</th>\n",
       "      <th>merge_deadline</th>\n",
       "      <th>winner_show</th>\n",
       "    </tr>\n",
       "  </thead>\n",
       "  <tbody>\n",
       "    <tr>\n",
       "      <th>0</th>\n",
       "      <td>136</td>\n",
       "      <td>1</td>\n",
       "      <td>2018-08-14 0:00</td>\n",
       "      <td>2018-09-13 23:59</td>\n",
       "      <td>대출 상점 총 매출 예측 경진대회</td>\n",
       "      <td>Shop Total Sales Forecast</td>\n",
       "      <td>금융 | 소상공인 신용카드 가맹점 빅데이터와 AI로 매출 예측 |  시계열, 회귀 ...</td>\n",
       "      <td>[Finance] Small Business Credit Card Merchant ...</td>\n",
       "      <td>303</td>\n",
       "      <td>5</td>\n",
       "      <td>5</td>\n",
       "      <td>850</td>\n",
       "      <td>$8,500 + 100,000ZPR</td>\n",
       "      <td>2018-09-13 23:59</td>\n",
       "      <td>3</td>\n",
       "    </tr>\n",
       "    <tr>\n",
       "      <th>1</th>\n",
       "      <td>9565</td>\n",
       "      <td>1</td>\n",
       "      <td>2018-09-15 0:00</td>\n",
       "      <td>2018-10-13 23:59</td>\n",
       "      <td>병원 개/폐업 분류 예측 경진대회</td>\n",
       "      <td>hospital opening / closing classification pred...</td>\n",
       "      <td>금융 | 병원 재무 데이터와 AI로 개업|폐업 예측 분석 |  분류 | Accuracy</td>\n",
       "      <td>[Financial] Hospital financial data and openin...</td>\n",
       "      <td>448</td>\n",
       "      <td>10</td>\n",
       "      <td>3</td>\n",
       "      <td>350</td>\n",
       "      <td>$3,500 + 40,000ZPR</td>\n",
       "      <td>2018-10-13 23:59</td>\n",
       "      <td>3</td>\n",
       "    </tr>\n",
       "  </tbody>\n",
       "</table>\n",
       "</div>"
      ],
      "text/plain": [
       "   cpt_id  is_official     period_start        period_end                name  \\\n",
       "0     136            1  2018-08-14 0:00  2018-09-13 23:59  대출 상점 총 매출 예측 경진대회   \n",
       "1    9565            1  2018-09-15 0:00  2018-10-13 23:59  병원 개/폐업 분류 예측 경진대회   \n",
       "\n",
       "                                            name_eng  \\\n",
       "0                          Shop Total Sales Forecast   \n",
       "1  hospital opening / closing classification pred...   \n",
       "\n",
       "                                             keyword  \\\n",
       "0  금융 | 소상공인 신용카드 가맹점 빅데이터와 AI로 매출 예측 |  시계열, 회귀 ...   \n",
       "1   금융 | 병원 재무 데이터와 AI로 개업|폐업 예측 분석 |  분류 | Accuracy   \n",
       "\n",
       "                                         keyword_eng  participants  \\\n",
       "0  [Finance] Small Business Credit Card Merchant ...           303   \n",
       "1  [Financial] Hospital financial data and openin...           448   \n",
       "\n",
       "   max_team_member  max_file_per_day  prize           prize_info  \\\n",
       "0                5                 5    850  $8,500 + 100,000ZPR   \n",
       "1               10                 3    350   $3,500 + 40,000ZPR   \n",
       "\n",
       "     merge_deadline  winner_show  \n",
       "0  2018-09-13 23:59            3  \n",
       "1  2018-10-13 23:59            3  "
      ]
     },
     "execution_count": 63,
     "metadata": {},
     "output_type": "execute_result"
    }
   ],
   "source": [
    "competition.head(2)"
   ]
  },
  {
   "cell_type": "code",
   "execution_count": 115,
   "id": "95c74c64",
   "metadata": {
    "ExecuteTime": {
     "end_time": "2021-05-27T17:04:58.222553Z",
     "start_time": "2021-05-27T17:04:58.208203Z"
    }
   },
   "outputs": [
    {
     "name": "stdout",
     "output_type": "stream",
     "text": [
      "competition 수 : 48\n",
      "(48, 15)\n"
     ]
    }
   ],
   "source": [
    "print(f'competition 수 : {competition.cpt_id.nunique()}')\n",
    "print(competition.shape)"
   ]
  },
  {
   "cell_type": "markdown",
   "id": "6e26ec61",
   "metadata": {},
   "source": [
    "- 기간내 대회별 정보"
   ]
  },
  {
   "cell_type": "code",
   "execution_count": 118,
   "id": "828f69d9",
   "metadata": {
    "ExecuteTime": {
     "end_time": "2021-05-27T17:06:14.878357Z",
     "start_time": "2021-05-27T17:06:14.828004Z"
    },
    "scrolled": false
   },
   "outputs": [
    {
     "name": "stdout",
     "output_type": "stream",
     "text": [
      "login_id     2429\n",
      "user_id      9843\n",
      "c_time       2429\n",
      "platform    86774\n",
      "browser     86774\n",
      "dtype: int64\n",
      "(151428, 5)\n"
     ]
    }
   ],
   "source": [
    "print(info.isna().sum())\n",
    "print(info.shape)"
   ]
  },
  {
   "cell_type": "code",
   "execution_count": 128,
   "id": "d154e77d",
   "metadata": {
    "ExecuteTime": {
     "end_time": "2021-05-27T17:10:23.558989Z",
     "start_time": "2021-05-27T17:10:23.534551Z"
    }
   },
   "outputs": [],
   "source": [
    "user.dropna(axis=0,inplace=True)\n",
    "user=user.reset_index(drop=True)"
   ]
  },
  {
   "cell_type": "code",
   "execution_count": null,
   "id": "5049f5a4",
   "metadata": {},
   "outputs": [],
   "source": [
    "user.id.nuqn"
   ]
  },
  {
   "cell_type": "code",
   "execution_count": 129,
   "id": "0215f3b0",
   "metadata": {
    "ExecuteTime": {
     "end_time": "2021-05-27T17:10:26.183469Z",
     "start_time": "2021-05-27T17:10:26.105604Z"
    },
    "scrolled": false
   },
   "outputs": [
    {
     "data": {
      "text/html": [
       "<div>\n",
       "<style scoped>\n",
       "    .dataframe tbody tr th:only-of-type {\n",
       "        vertical-align: middle;\n",
       "    }\n",
       "\n",
       "    .dataframe tbody tr th {\n",
       "        vertical-align: top;\n",
       "    }\n",
       "\n",
       "    .dataframe thead th {\n",
       "        text-align: right;\n",
       "    }\n",
       "</style>\n",
       "<table border=\"1\" class=\"dataframe\">\n",
       "  <thead>\n",
       "    <tr style=\"text-align: right;\">\n",
       "      <th></th>\n",
       "      <th>id</th>\n",
       "      <th>c_time</th>\n",
       "      <th>entered_competition_cnt</th>\n",
       "      <th>code_share_cnt</th>\n",
       "      <th>talk_board_cnt</th>\n",
       "      <th>country_code</th>\n",
       "      <th>python_level</th>\n",
       "      <th>ds_level</th>\n",
       "    </tr>\n",
       "  </thead>\n",
       "  <tbody>\n",
       "    <tr>\n",
       "      <th>0</th>\n",
       "      <td>15994.0</td>\n",
       "      <td>2017-05-02 23:58</td>\n",
       "      <td>94.0</td>\n",
       "      <td>306.0</td>\n",
       "      <td>477.0</td>\n",
       "      <td>82.0</td>\n",
       "      <td>1.0</td>\n",
       "      <td>1.0</td>\n",
       "    </tr>\n",
       "    <tr>\n",
       "      <th>6854</th>\n",
       "      <td>10018.0</td>\n",
       "      <td>2020-01-02 10:31</td>\n",
       "      <td>73.0</td>\n",
       "      <td>182.0</td>\n",
       "      <td>295.0</td>\n",
       "      <td>1.0</td>\n",
       "      <td>0.0</td>\n",
       "      <td>0.0</td>\n",
       "    </tr>\n",
       "    <tr>\n",
       "      <th>6718</th>\n",
       "      <td>11803.0</td>\n",
       "      <td>2019-12-22 13:36</td>\n",
       "      <td>66.0</td>\n",
       "      <td>30.0</td>\n",
       "      <td>106.0</td>\n",
       "      <td>82.0</td>\n",
       "      <td>1.0</td>\n",
       "      <td>0.0</td>\n",
       "    </tr>\n",
       "    <tr>\n",
       "      <th>6484</th>\n",
       "      <td>11917.0</td>\n",
       "      <td>2019-12-21 11:03</td>\n",
       "      <td>58.0</td>\n",
       "      <td>64.0</td>\n",
       "      <td>31.0</td>\n",
       "      <td>82.0</td>\n",
       "      <td>0.0</td>\n",
       "      <td>0.0</td>\n",
       "    </tr>\n",
       "    <tr>\n",
       "      <th>2528</th>\n",
       "      <td>2369.0</td>\n",
       "      <td>2019-04-08 20:49</td>\n",
       "      <td>56.0</td>\n",
       "      <td>1.0</td>\n",
       "      <td>6.0</td>\n",
       "      <td>82.0</td>\n",
       "      <td>1.0</td>\n",
       "      <td>1.0</td>\n",
       "    </tr>\n",
       "    <tr>\n",
       "      <th>...</th>\n",
       "      <td>...</td>\n",
       "      <td>...</td>\n",
       "      <td>...</td>\n",
       "      <td>...</td>\n",
       "      <td>...</td>\n",
       "      <td>...</td>\n",
       "      <td>...</td>\n",
       "      <td>...</td>\n",
       "    </tr>\n",
       "    <tr>\n",
       "      <th>15941</th>\n",
       "      <td>2442.0</td>\n",
       "      <td>2020-08-15 18:32</td>\n",
       "      <td>0.0</td>\n",
       "      <td>2.0</td>\n",
       "      <td>0.0</td>\n",
       "      <td>82.0</td>\n",
       "      <td>1.0</td>\n",
       "      <td>1.0</td>\n",
       "    </tr>\n",
       "    <tr>\n",
       "      <th>1622</th>\n",
       "      <td>20587.0</td>\n",
       "      <td>2019-02-03 20:17</td>\n",
       "      <td>0.0</td>\n",
       "      <td>0.0</td>\n",
       "      <td>0.0</td>\n",
       "      <td>82.0</td>\n",
       "      <td>1.0</td>\n",
       "      <td>1.0</td>\n",
       "    </tr>\n",
       "    <tr>\n",
       "      <th>15939</th>\n",
       "      <td>13173.0</td>\n",
       "      <td>2020-08-15 17:39</td>\n",
       "      <td>0.0</td>\n",
       "      <td>0.0</td>\n",
       "      <td>0.0</td>\n",
       "      <td>82.0</td>\n",
       "      <td>1.0</td>\n",
       "      <td>1.0</td>\n",
       "    </tr>\n",
       "    <tr>\n",
       "      <th>3915</th>\n",
       "      <td>14925.0</td>\n",
       "      <td>2019-09-01 15:46</td>\n",
       "      <td>0.0</td>\n",
       "      <td>0.0</td>\n",
       "      <td>0.0</td>\n",
       "      <td>82.0</td>\n",
       "      <td>1.0</td>\n",
       "      <td>1.0</td>\n",
       "    </tr>\n",
       "    <tr>\n",
       "      <th>1357</th>\n",
       "      <td>9391.0</td>\n",
       "      <td>2019-01-03 23:18</td>\n",
       "      <td>0.0</td>\n",
       "      <td>0.0</td>\n",
       "      <td>0.0</td>\n",
       "      <td>82.0</td>\n",
       "      <td>1.0</td>\n",
       "      <td>1.0</td>\n",
       "    </tr>\n",
       "  </tbody>\n",
       "</table>\n",
       "<p>21692 rows × 8 columns</p>\n",
       "</div>"
      ],
      "text/plain": [
       "            id            c_time  entered_competition_cnt  code_share_cnt  \\\n",
       "0      15994.0  2017-05-02 23:58                     94.0           306.0   \n",
       "6854   10018.0  2020-01-02 10:31                     73.0           182.0   \n",
       "6718   11803.0  2019-12-22 13:36                     66.0            30.0   \n",
       "6484   11917.0  2019-12-21 11:03                     58.0            64.0   \n",
       "2528    2369.0  2019-04-08 20:49                     56.0             1.0   \n",
       "...        ...               ...                      ...             ...   \n",
       "15941   2442.0  2020-08-15 18:32                      0.0             2.0   \n",
       "1622   20587.0  2019-02-03 20:17                      0.0             0.0   \n",
       "15939  13173.0  2020-08-15 17:39                      0.0             0.0   \n",
       "3915   14925.0  2019-09-01 15:46                      0.0             0.0   \n",
       "1357    9391.0  2019-01-03 23:18                      0.0             0.0   \n",
       "\n",
       "       talk_board_cnt  country_code  python_level  ds_level  \n",
       "0               477.0          82.0           1.0       1.0  \n",
       "6854            295.0           1.0           0.0       0.0  \n",
       "6718            106.0          82.0           1.0       0.0  \n",
       "6484             31.0          82.0           0.0       0.0  \n",
       "2528              6.0          82.0           1.0       1.0  \n",
       "...               ...           ...           ...       ...  \n",
       "15941             0.0          82.0           1.0       1.0  \n",
       "1622              0.0          82.0           1.0       1.0  \n",
       "15939             0.0          82.0           1.0       1.0  \n",
       "3915              0.0          82.0           1.0       1.0  \n",
       "1357              0.0          82.0           1.0       1.0  \n",
       "\n",
       "[21692 rows x 8 columns]"
      ]
     },
     "execution_count": 129,
     "metadata": {},
     "output_type": "execute_result"
    }
   ],
   "source": [
    "user.groupby()"
   ]
  },
  {
   "cell_type": "code",
   "execution_count": 121,
   "id": "3c3a3d88",
   "metadata": {
    "ExecuteTime": {
     "end_time": "2021-05-27T17:07:40.166475Z",
     "start_time": "2021-05-27T17:07:40.144197Z"
    }
   },
   "outputs": [
    {
     "name": "stdout",
     "output_type": "stream",
     "text": [
      "21692\n",
      "(22103, 8)\n"
     ]
    }
   ],
   "source": [
    "print(user.id.nunique())\n",
    "print(user.shape)"
   ]
  },
  {
   "cell_type": "code",
   "execution_count": 132,
   "id": "5ab14a9e",
   "metadata": {
    "ExecuteTime": {
     "end_time": "2021-05-27T17:11:07.478514Z",
     "start_time": "2021-05-27T17:11:05.544016Z"
    },
    "scrolled": true
   },
   "outputs": [
    {
     "data": {
      "text/plain": [
       "Text(0.5, 1.0, '기본변수 상관계수')"
      ]
     },
     "execution_count": 132,
     "metadata": {},
     "output_type": "execute_result"
    },
    {
     "data": {
      "image/png": "[encoded data removed]",
      "text/plain": [
       "<Figure size 576x432 with 2 Axes>"
      ]
     },
     "metadata": {},
     "output_type": "display_data"
    }
   ],
   "source": [
    "plt.figure(figsize=(8,6))\n",
    "sns.heatmap(user.corr(),\n",
    "            annot=True, annot_kws={'size':10}, fmt='.2f',\n",
    "            cmap = \"Blues\")\n",
    "plt.title('기본변수 상관계수')"
   ]
  },
  {
   "cell_type": "code",
   "execution_count": 78,
   "id": "52f0de35",
   "metadata": {
    "ExecuteTime": {
     "end_time": "2021-05-27T16:45:47.600734Z",
     "start_time": "2021-05-27T16:45:47.577703Z"
    }
   },
   "outputs": [
    {
     "data": {
      "text/html": [
       "<div>\n",
       "<style scoped>\n",
       "    .dataframe tbody tr th:only-of-type {\n",
       "        vertical-align: middle;\n",
       "    }\n",
       "\n",
       "    .dataframe tbody tr th {\n",
       "        vertical-align: top;\n",
       "    }\n",
       "\n",
       "    .dataframe thead th {\n",
       "        text-align: right;\n",
       "    }\n",
       "</style>\n",
       "<table border=\"1\" class=\"dataframe\">\n",
       "  <thead>\n",
       "    <tr style=\"text-align: right;\">\n",
       "      <th></th>\n",
       "      <th>sub_id</th>\n",
       "      <th>cpt_id</th>\n",
       "      <th>team_id</th>\n",
       "      <th>user_id</th>\n",
       "      <th>c_time</th>\n",
       "    </tr>\n",
       "  </thead>\n",
       "  <tbody>\n",
       "    <tr>\n",
       "      <th>0</th>\n",
       "      <td>-250918.0</td>\n",
       "      <td>229255.0</td>\n",
       "      <td>5019.0</td>\n",
       "      <td>15880.0</td>\n",
       "      <td>2019-11-24 20:40</td>\n",
       "    </tr>\n",
       "    <tr>\n",
       "      <th>1</th>\n",
       "      <td>-250904.0</td>\n",
       "      <td>229611.0</td>\n",
       "      <td>5162.0</td>\n",
       "      <td>19772.0</td>\n",
       "      <td>2019-11-24 20:36</td>\n",
       "    </tr>\n",
       "    <tr>\n",
       "      <th>2</th>\n",
       "      <td>-250881.0</td>\n",
       "      <td>235401.0</td>\n",
       "      <td>5042.0</td>\n",
       "      <td>17801.0</td>\n",
       "      <td>2019-11-24 20:24</td>\n",
       "    </tr>\n",
       "    <tr>\n",
       "      <th>3</th>\n",
       "      <td>-250873.0</td>\n",
       "      <td>235401.0</td>\n",
       "      <td>5024.0</td>\n",
       "      <td>439.0</td>\n",
       "      <td>2019-11-24 20:23</td>\n",
       "    </tr>\n",
       "    <tr>\n",
       "      <th>4</th>\n",
       "      <td>-250860.0</td>\n",
       "      <td>229255.0</td>\n",
       "      <td>4890.0</td>\n",
       "      <td>13722.0</td>\n",
       "      <td>2019-11-24 20:19</td>\n",
       "    </tr>\n",
       "  </tbody>\n",
       "</table>\n",
       "</div>"
      ],
      "text/plain": [
       "     sub_id    cpt_id  team_id  user_id            c_time\n",
       "0 -250918.0  229255.0   5019.0  15880.0  2019-11-24 20:40\n",
       "1 -250904.0  229611.0   5162.0  19772.0  2019-11-24 20:36\n",
       "2 -250881.0  235401.0   5042.0  17801.0  2019-11-24 20:24\n",
       "3 -250873.0  235401.0   5024.0    439.0  2019-11-24 20:23\n",
       "4 -250860.0  229255.0   4890.0  13722.0  2019-11-24 20:19"
      ]
     },
     "execution_count": 78,
     "metadata": {},
     "output_type": "execute_result"
    }
   ],
   "source": [
    "submission.head()"
   ]
  },
  {
   "cell_type": "code",
   "execution_count": null,
   "id": "d4168394",
   "metadata": {},
   "outputs": [],
   "source": [
    "ga_sub = pd.read_csv('../ga_data/submission.csv', encoding='CP949') \n",
    "y_"
   ]
  },
  {
   "cell_type": "markdown",
   "id": "3b8b4b8d",
   "metadata": {},
   "source": [
    "## 데이터 개요"
   ]
  },
  {
   "cell_type": "code",
   "execution_count": 8,
   "id": "12d05aab",
   "metadata": {
    "ExecuteTime": {
     "end_time": "2021-05-27T11:40:27.918507Z",
     "start_time": "2021-05-27T11:40:27.899560Z"
    },
    "scrolled": true
   },
   "outputs": [
    {
     "data": {
      "text/html": [
       "<div>\n",
       "<style scoped>\n",
       "    .dataframe tbody tr th:only-of-type {\n",
       "        vertical-align: middle;\n",
       "    }\n",
       "\n",
       "    .dataframe tbody tr th {\n",
       "        vertical-align: top;\n",
       "    }\n",
       "\n",
       "    .dataframe thead th {\n",
       "        text-align: right;\n",
       "    }\n",
       "</style>\n",
       "<table border=\"1\" class=\"dataframe\">\n",
       "  <thead>\n",
       "    <tr style=\"text-align: right;\">\n",
       "      <th></th>\n",
       "      <th>DateTime</th>\n",
       "      <th>사용자</th>\n",
       "      <th>세션</th>\n",
       "      <th>신규방문자</th>\n",
       "      <th>페이지뷰</th>\n",
       "    </tr>\n",
       "  </thead>\n",
       "  <tbody>\n",
       "    <tr>\n",
       "      <th>0</th>\n",
       "      <td>2018-09-09 00:00:00</td>\n",
       "      <td>19</td>\n",
       "      <td>19</td>\n",
       "      <td>8</td>\n",
       "      <td>206</td>\n",
       "    </tr>\n",
       "    <tr>\n",
       "      <th>1</th>\n",
       "      <td>2018-09-09 01:00:00</td>\n",
       "      <td>20</td>\n",
       "      <td>19</td>\n",
       "      <td>9</td>\n",
       "      <td>259</td>\n",
       "    </tr>\n",
       "    <tr>\n",
       "      <th>2</th>\n",
       "      <td>2018-09-09 02:00:00</td>\n",
       "      <td>12</td>\n",
       "      <td>9</td>\n",
       "      <td>1</td>\n",
       "      <td>48</td>\n",
       "    </tr>\n",
       "    <tr>\n",
       "      <th>3</th>\n",
       "      <td>2018-09-09 03:00:00</td>\n",
       "      <td>10</td>\n",
       "      <td>10</td>\n",
       "      <td>2</td>\n",
       "      <td>102</td>\n",
       "    </tr>\n",
       "    <tr>\n",
       "      <th>4</th>\n",
       "      <td>2018-09-09 04:00:00</td>\n",
       "      <td>6</td>\n",
       "      <td>5</td>\n",
       "      <td>3</td>\n",
       "      <td>18</td>\n",
       "    </tr>\n",
       "  </tbody>\n",
       "</table>\n",
       "</div>"
      ],
      "text/plain": [
       "              DateTime  사용자  세션  신규방문자  페이지뷰\n",
       "0  2018-09-09 00:00:00   19  19      8   206\n",
       "1  2018-09-09 01:00:00   20  19      9   259\n",
       "2  2018-09-09 02:00:00   12   9      1    48\n",
       "3  2018-09-09 03:00:00   10  10      2   102\n",
       "4  2018-09-09 04:00:00    6   5      3    18"
      ]
     },
     "execution_count": 8,
     "metadata": {},
     "output_type": "execute_result"
    }
   ],
   "source": [
    "df.head()"
   ]
  },
  {
   "cell_type": "code",
   "execution_count": null,
   "id": "c381c8e3",
   "metadata": {},
   "outputs": [],
   "source": []
  },
  {
   "cell_type": "code",
   "execution_count": null,
   "id": "c8b1c80f",
   "metadata": {},
   "outputs": [],
   "source": []
  },
  {
   "cell_type": "code",
   "execution_count": null,
   "id": "b0ffff6c",
   "metadata": {},
   "outputs": [],
   "source": []
  },
  {
   "cell_type": "code",
   "execution_count": null,
   "id": "b59a319b",
   "metadata": {},
   "outputs": [],
   "source": []
  },
  {
   "cell_type": "code",
   "execution_count": null,
   "id": "61640bc3",
   "metadata": {},
   "outputs": [],
   "source": []
  },
  {
   "cell_type": "code",
   "execution_count": null,
   "id": "2ee3af29",
   "metadata": {},
   "outputs": [],
   "source": []
  },
  {
   "cell_type": "code",
   "execution_count": null,
   "id": "4c2f52b9",
   "metadata": {},
   "outputs": [],
   "source": []
  },
  {
   "cell_type": "code",
   "execution_count": null,
   "id": "a364a363",
   "metadata": {},
   "outputs": [],
   "source": []
  },
  {
   "cell_type": "code",
   "execution_count": null,
   "id": "f63da06b",
   "metadata": {},
   "outputs": [],
   "source": []
  },
  {
   "cell_type": "code",
   "execution_count": null,
   "id": "896a37d2",
   "metadata": {},
   "outputs": [],
   "source": []
  },
  {
   "cell_type": "code",
   "execution_count": null,
   "id": "a21bb8fd",
   "metadata": {},
   "outputs": [],
   "source": []
  },
  {
   "cell_type": "code",
   "execution_count": null,
   "id": "f75829ac",
   "metadata": {},
   "outputs": [],
   "source": []
  },
  {
   "cell_type": "code",
   "execution_count": null,
   "id": "d09fa2ed",
   "metadata": {},
   "outputs": [],
   "source": []
  },
  {
   "cell_type": "code",
   "execution_count": null,
   "id": "ad9aced2",
   "metadata": {},
   "outputs": [],
   "source": []
  },
  {
   "cell_type": "code",
   "execution_count": null,
   "id": "db007cca",
   "metadata": {},
   "outputs": [],
   "source": []
  },
  {
   "cell_type": "code",
   "execution_count": null,
   "id": "0f0b96a8",
   "metadata": {},
   "outputs": [],
   "source": []
  },
  {
   "cell_type": "code",
   "execution_count": null,
   "id": "16308375",
   "metadata": {},
   "outputs": [],
   "source": []
  },
  {
   "cell_type": "code",
   "execution_count": null,
   "id": "98b84b44",
   "metadata": {},
   "outputs": [],
   "source": []
  },
  {
   "cell_type": "code",
   "execution_count": null,
   "id": "d75df81d",
   "metadata": {},
   "outputs": [],
   "source": []
  },
  {
   "cell_type": "code",
   "execution_count": null,
   "id": "c1ff0e60",
   "metadata": {},
   "outputs": [],
   "source": []
  },
  {
   "cell_type": "code",
   "execution_count": null,
   "id": "a956dcfe",
   "metadata": {},
   "outputs": [],
   "source": []
  },
  {
   "cell_type": "code",
   "execution_count": null,
   "id": "73208906",
   "metadata": {},
   "outputs": [],
   "source": []
  },
  {
   "cell_type": "code",
   "execution_count": null,
   "id": "dc7e4dac",
   "metadata": {},
   "outputs": [],
   "source": []
  },
  {
   "cell_type": "code",
   "execution_count": null,
   "id": "42c740cc",
   "metadata": {},
   "outputs": [],
   "source": []
  },
  {
   "cell_type": "code",
   "execution_count": null,
   "id": "91839226",
   "metadata": {},
   "outputs": [],
   "source": []
  },
  {
   "cell_type": "code",
   "execution_count": null,
   "id": "600958eb",
   "metadata": {},
   "outputs": [],
   "source": []
  },
  {
   "cell_type": "code",
   "execution_count": null,
   "id": "d7037d5f",
   "metadata": {},
   "outputs": [],
   "source": []
  },
  {
   "cell_type": "code",
   "execution_count": null,
   "id": "17c64b07",
   "metadata": {},
   "outputs": [],
   "source": []
  },
  {
   "cell_type": "code",
   "execution_count": null,
   "id": "40c47880",
   "metadata": {},
   "outputs": [],
   "source": []
  },
  {
   "cell_type": "code",
   "execution_count": null,
   "id": "9d2b141d",
   "metadata": {},
   "outputs": [],
   "source": []
  },
  {
   "cell_type": "code",
   "execution_count": null,
   "id": "ab259542",
   "metadata": {},
   "outputs": [],
   "source": []
  },
  {
   "cell_type": "code",
   "execution_count": null,
   "id": "10957651",
   "metadata": {},
   "outputs": [],
   "source": []
  },
  {
   "cell_type": "code",
   "execution_count": null,
   "id": "0bf05416",
   "metadata": {},
   "outputs": [],
   "source": []
  },
  {
   "cell_type": "code",
   "execution_count": null,
   "id": "b5427e33",
   "metadata": {},
   "outputs": [],
   "source": []
  }
 ],
 "metadata": {
  "kernelspec": {
   "display_name": "Python 3",
   "language": "python",
   "name": "python3"
  },
  "language_info": {
   "codemirror_mode": {
    "name": "ipython",
    "version": 3
   },
   "file_extension": ".py",
   "mimetype": "text/x-python",
   "name": "python",
   "nbconvert_exporter": "python",
   "pygments_lexer": "ipython3",
   "version": "3.7.5"
  },
  "latex_envs": {
   "LaTeX_envs_menu_present": true,
   "autoclose": true,
   "autocomplete": true,
   "bibliofile": "biblio.bib",
   "cite_by": "apalike",
   "current_citInitial": 1,
   "eqLabelWithNumbers": true,
   "eqNumInitial": 1,
   "hotkeys": {
    "equation": "Ctrl-E",
    "itemize": "Ctrl-I"
   },
   "labels_anchors": false,
   "latex_user_defs": false,
   "report_style_numbering": false,
   "user_envs_cfg": false
  },
  "toc": {
   "base_numbering": 1,
   "nav_menu": {},
   "number_sections": true,
   "sideBar": true,
   "skip_h1_title": false,
   "title_cell": "Table of Contents",
   "title_sidebar": "Contents",
   "toc_cell": false,
   "toc_position": {
    "height": "calc(100% - 180px)",
    "left": "10px",
    "top": "150px",
    "width": "396.95px"
   },
   "toc_section_display": true,
   "toc_window_display": true
  },
  "varInspector": {
   "cols": {
    "lenName": 16,
    "lenType": 16,
    "lenVar": 40
   },
   "kernels_config": {
    "python": {
     "delete_cmd_postfix": "",
     "delete_cmd_prefix": "del ",
     "library": "var_list.py",
     "varRefreshCmd": "print(var_dic_list())"
    },
    "r": {
     "delete_cmd_postfix": ") ",
     "delete_cmd_prefix": "rm(",
     "library": "var_list.r",
     "varRefreshCmd": "cat(var_dic_list()) "
    }
   },
   "types_to_exclude": [
    "module",
    "function",
    "builtin_function_or_method",
    "instance",
    "_Feature"
   ],
   "window_display": false
  }
 },
 "nbformat": 4,
 "nbformat_minor": 5
}
