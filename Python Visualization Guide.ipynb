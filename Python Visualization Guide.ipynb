{
 "cells": [
  {
   "cell_type": "markdown",
   "metadata": {},
   "source": [
    "### EDA\n",
    "*라이브러리\n",
    "    1. seaborn as sns\n",
    "    2. matplotlib as plt\n",
    "    3. pandas as pd\n",
    "    4. plotly as px\n",
    "\n",
    "*범주형 데이터 시각화\n",
    "    1. sns.barplot\n",
    "    2. sns.boxplot\n",
    "    3. sns.violinplot\n",
    "\n",
    "*서브 플롯\n",
    "\n",
    "    -- 여러 변수 --\n",
    "    1. sns.PairGrid\n",
    "    2. plt.subplots\n",
    "    -- 개별 변수 --\n",
    "    1. sns.FacetGrid\n",
    "        - catplot : 범주형 :: stripplot, swarmplot, violinplot, pointplot, barplot\n",
    "        - relplot : 관계 :: scatterplot, lineplot\n",
    "        - displot : 분포 :: histplot, kdeplot,ecdfplot, rugplot\n",
    "\n",
    "*데이터\n",
    "\n",
    "    pd : value_counts, cross_tab, groupby, pivot_table"
   ]
  },
  {
   "cell_type": "code",
   "execution_count": 6,
   "metadata": {},
   "outputs": [],
   "source": [
    "import numpy as np\n",
    "import pandas as pd\n",
    "import matplotlib as plt\n",
    "import seaborn as sns\n",
    "%matplotlib inline\n",
    "\n",
    "import os"
   ]
  },
  {
   "cell_type": "markdown",
   "metadata": {},
   "source": [
    "#### 데이터 불러오기"
   ]
  },
  {
   "cell_type": "code",
   "execution_count": 5,
   "metadata": {
    "scrolled": true
   },
   "outputs": [
    {
     "data": {
      "text/plain": [
       "'C:\\\\Users\\\\JIIN\\\\OneDrive\\\\Documents\\\\Github\\\\2021_Python\\\\Py_DS_ML_Bootcamp-master\\\\Refactored_Py_DS_ML_Bootcamp-master'"
      ]
     },
     "execution_count": 5,
     "metadata": {},
     "output_type": "execute_result"
    }
   ],
   "source": [
    "os.getcwd()"
   ]
  },
  {
   "cell_type": "code",
   "execution_count": 9,
   "metadata": {
    "scrolled": true
   },
   "outputs": [
    {
     "data": {
      "text/html": [
       "<div>\n",
       "<style scoped>\n",
       "    .dataframe tbody tr th:only-of-type {\n",
       "        vertical-align: middle;\n",
       "    }\n",
       "\n",
       "    .dataframe tbody tr th {\n",
       "        vertical-align: top;\n",
       "    }\n",
       "\n",
       "    .dataframe thead th {\n",
       "        text-align: right;\n",
       "    }\n",
       "</style>\n",
       "<table border=\"1\" class=\"dataframe\">\n",
       "  <thead>\n",
       "    <tr style=\"text-align: right;\">\n",
       "      <th></th>\n",
       "      <th>CLNT_ID</th>\n",
       "      <th>SESS_ID</th>\n",
       "      <th>SESS_SEQ</th>\n",
       "      <th>SESS_DT</th>\n",
       "      <th>TOT_PAG_VIEW_CT</th>\n",
       "      <th>TOT_SESS_HR_V</th>\n",
       "      <th>DVC_CTG_NM</th>\n",
       "      <th>ZON_NM</th>\n",
       "      <th>CITY_NM</th>\n",
       "    </tr>\n",
       "  </thead>\n",
       "  <tbody>\n",
       "    <tr>\n",
       "      <th>0</th>\n",
       "      <td>5873599</td>\n",
       "      <td>8641867</td>\n",
       "      <td>9</td>\n",
       "      <td>20180509</td>\n",
       "      <td>82.0</td>\n",
       "      <td>1,890</td>\n",
       "      <td>mobile</td>\n",
       "      <td>Daejeon</td>\n",
       "      <td>Daejeon</td>\n",
       "    </tr>\n",
       "  </tbody>\n",
       "</table>\n",
       "</div>"
      ],
      "text/plain": [
       "   CLNT_ID  SESS_ID  SESS_SEQ   SESS_DT  TOT_PAG_VIEW_CT TOT_SESS_HR_V  \\\n",
       "0  5873599  8641867         9  20180509             82.0         1,890   \n",
       "\n",
       "  DVC_CTG_NM   ZON_NM  CITY_NM  \n",
       "0     mobile  Daejeon  Daejeon  "
      ]
     },
     "execution_count": 9,
     "metadata": {},
     "output_type": "execute_result"
    }
   ],
   "source": [
    "session=pd.read_csv('C:\\\\Users\\\\JIIN\\\\OneDrive\\\\Documents\\\\Github\\\\2021_Python\\\\Kaggle\\\\Project_2021\\\\Lpoint\\\\session.csv')\n",
    "session.head(1) "
   ]
  },
  {
   "cell_type": "code",
   "execution_count": 10,
   "metadata": {
    "scrolled": false
   },
   "outputs": [
    {
     "data": {
      "text/html": [
       "<div>\n",
       "<style scoped>\n",
       "    .dataframe tbody tr th:only-of-type {\n",
       "        vertical-align: middle;\n",
       "    }\n",
       "\n",
       "    .dataframe tbody tr th {\n",
       "        vertical-align: top;\n",
       "    }\n",
       "\n",
       "    .dataframe thead th {\n",
       "        text-align: right;\n",
       "    }\n",
       "</style>\n",
       "<table border=\"1\" class=\"dataframe\">\n",
       "  <thead>\n",
       "    <tr style=\"text-align: right;\">\n",
       "      <th></th>\n",
       "      <th>CLNT_ID</th>\n",
       "      <th>CLNT_GENDER</th>\n",
       "      <th>CLNT_AGE</th>\n",
       "    </tr>\n",
       "  </thead>\n",
       "  <tbody>\n",
       "    <tr>\n",
       "      <th>0</th>\n",
       "      <td>4830726</td>\n",
       "      <td>F</td>\n",
       "      <td>30</td>\n",
       "    </tr>\n",
       "  </tbody>\n",
       "</table>\n",
       "</div>"
      ],
      "text/plain": [
       "   CLNT_ID CLNT_GENDER  CLNT_AGE\n",
       "0  4830726           F        30"
      ]
     },
     "execution_count": 10,
     "metadata": {},
     "output_type": "execute_result"
    }
   ],
   "source": [
    "custom=pd.read_csv('C:\\\\Users\\\\JIIN\\\\OneDrive\\\\Documents\\\\Github\\\\2021_Python\\\\Kaggle\\\\Project_2021\\\\Lpoint\\\\custom.csv')\n",
    "custom.head(1)"
   ]
  },
  {
   "cell_type": "code",
   "execution_count": 17,
   "metadata": {},
   "outputs": [],
   "source": [
    "product=pd.read_csv('C:\\\\Users\\\\JIIN\\\\OneDrive\\\\Documents\\\\Github\\\\2021_Python\\\\Kaggle\\\\Project_2021\\\\Lpoint\\\\Product.csv')"
   ]
  },
  {
   "cell_type": "code",
   "execution_count": 24,
   "metadata": {
    "scrolled": true
   },
   "outputs": [
    {
     "data": {
      "text/html": [
       "<div>\n",
       "<style scoped>\n",
       "    .dataframe tbody tr th:only-of-type {\n",
       "        vertical-align: middle;\n",
       "    }\n",
       "\n",
       "    .dataframe tbody tr th {\n",
       "        vertical-align: top;\n",
       "    }\n",
       "\n",
       "    .dataframe thead th {\n",
       "        text-align: right;\n",
       "    }\n",
       "</style>\n",
       "<table border=\"1\" class=\"dataframe\">\n",
       "  <thead>\n",
       "    <tr style=\"text-align: right;\">\n",
       "      <th></th>\n",
       "      <th>CLNT_ID</th>\n",
       "      <th>SESS_ID</th>\n",
       "      <th>HITS_SEQ</th>\n",
       "      <th>PD_C</th>\n",
       "      <th>PD_ADD_NM</th>\n",
       "      <th>PD_BRA_NM</th>\n",
       "      <th>PD_BUY_AM</th>\n",
       "      <th>PD_BUY_CT</th>\n",
       "    </tr>\n",
       "  </thead>\n",
       "  <tbody>\n",
       "    <tr>\n",
       "      <th>0</th>\n",
       "      <td>4139680</td>\n",
       "      <td>7605037</td>\n",
       "      <td>12</td>\n",
       "      <td>642112</td>\n",
       "      <td>색상:워터멜론</td>\n",
       "      <td>[바비브라운]</td>\n",
       "      <td>39,000</td>\n",
       "      <td>1</td>\n",
       "    </tr>\n",
       "  </tbody>\n",
       "</table>\n",
       "</div>"
      ],
      "text/plain": [
       "   CLNT_ID  SESS_ID  HITS_SEQ    PD_C PD_ADD_NM PD_BRA_NM PD_BUY_AM PD_BUY_CT\n",
       "0  4139680  7605037        12  642112   색상:워터멜론   [바비브라운]    39,000         1"
      ]
     },
     "execution_count": 24,
     "metadata": {},
     "output_type": "execute_result"
    }
   ],
   "source": [
    "product.head(1)"
   ]
  },
  {
   "cell_type": "code",
   "execution_count": 50,
   "metadata": {
    "scrolled": true
   },
   "outputs": [],
   "source": [
    "master=pd.read_csv('C:\\\\Users\\\\JIIN\\\\OneDrive\\\\Documents\\\\Github\\\\2021_Python\\\\Kaggle\\\\Project_2021\\\\Lpoint\\\\master1.csv')\n",
    "master.drop('pd_nm',axis=1, inplace=True)"
   ]
  },
  {
   "cell_type": "code",
   "execution_count": 51,
   "metadata": {
    "scrolled": true
   },
   "outputs": [
    {
     "data": {
      "text/html": [
       "<div>\n",
       "<style scoped>\n",
       "    .dataframe tbody tr th:only-of-type {\n",
       "        vertical-align: middle;\n",
       "    }\n",
       "\n",
       "    .dataframe tbody tr th {\n",
       "        vertical-align: top;\n",
       "    }\n",
       "\n",
       "    .dataframe thead th {\n",
       "        text-align: right;\n",
       "    }\n",
       "</style>\n",
       "<table border=\"1\" class=\"dataframe\">\n",
       "  <thead>\n",
       "    <tr style=\"text-align: right;\">\n",
       "      <th></th>\n",
       "      <th>pd_c</th>\n",
       "      <th>clac1_nm</th>\n",
       "      <th>clac2_nm</th>\n",
       "      <th>clac3_nm</th>\n",
       "    </tr>\n",
       "  </thead>\n",
       "  <tbody>\n",
       "    <tr>\n",
       "      <th>0</th>\n",
       "      <td>64382</td>\n",
       "      <td>스포츠패션</td>\n",
       "      <td>남성일반스포츠의류</td>\n",
       "      <td>남성스포츠티셔츠</td>\n",
       "    </tr>\n",
       "  </tbody>\n",
       "</table>\n",
       "</div>"
      ],
      "text/plain": [
       "    pd_c clac1_nm   clac2_nm  clac3_nm\n",
       "0  64382    스포츠패션  남성일반스포츠의류  남성스포츠티셔츠"
      ]
     },
     "execution_count": 51,
     "metadata": {},
     "output_type": "execute_result"
    }
   ],
   "source": [
    "master.head(1)"
   ]
  },
  {
   "cell_type": "code",
   "execution_count": 22,
   "metadata": {
    "scrolled": true
   },
   "outputs": [
    {
     "name": "stdout",
     "output_type": "stream",
     "text": [
      "(2712907, 9)\n",
      "(5024906, 8)\n",
      "(671679, 3)\n"
     ]
    }
   ],
   "source": [
    "print(session.shape)\n",
    "print(product.shape)\n",
    "print(custom.shape)"
   ]
  },
  {
   "cell_type": "code",
   "execution_count": 42,
   "metadata": {
    "scrolled": true
   },
   "outputs": [
    {
     "data": {
      "text/html": [
       "<div>\n",
       "<style scoped>\n",
       "    .dataframe tbody tr th:only-of-type {\n",
       "        vertical-align: middle;\n",
       "    }\n",
       "\n",
       "    .dataframe tbody tr th {\n",
       "        vertical-align: top;\n",
       "    }\n",
       "\n",
       "    .dataframe thead th {\n",
       "        text-align: right;\n",
       "    }\n",
       "</style>\n",
       "<table border=\"1\" class=\"dataframe\">\n",
       "  <thead>\n",
       "    <tr style=\"text-align: right;\">\n",
       "      <th></th>\n",
       "      <th>CLNT_ID</th>\n",
       "      <th>SESS_ID</th>\n",
       "      <th>SESS_SEQ</th>\n",
       "      <th>SESS_DT</th>\n",
       "      <th>TOT_PAG_VIEW_CT</th>\n",
       "      <th>TOT_SESS_HR_V</th>\n",
       "      <th>DVC_CTG_NM</th>\n",
       "      <th>ZON_NM</th>\n",
       "      <th>CITY_NM</th>\n",
       "      <th>CLNT_GENDER</th>\n",
       "      <th>CLNT_AGE</th>\n",
       "    </tr>\n",
       "  </thead>\n",
       "  <tbody>\n",
       "    <tr>\n",
       "      <th>0</th>\n",
       "      <td>5873599</td>\n",
       "      <td>8641867</td>\n",
       "      <td>9</td>\n",
       "      <td>20180509</td>\n",
       "      <td>82.0</td>\n",
       "      <td>1,890</td>\n",
       "      <td>mobile</td>\n",
       "      <td>Daejeon</td>\n",
       "      <td>Daejeon</td>\n",
       "      <td>F</td>\n",
       "      <td>20</td>\n",
       "    </tr>\n",
       "  </tbody>\n",
       "</table>\n",
       "</div>"
      ],
      "text/plain": [
       "   CLNT_ID  SESS_ID  SESS_SEQ   SESS_DT  TOT_PAG_VIEW_CT TOT_SESS_HR_V  \\\n",
       "0  5873599  8641867         9  20180509             82.0         1,890   \n",
       "\n",
       "  DVC_CTG_NM   ZON_NM  CITY_NM CLNT_GENDER  CLNT_AGE  \n",
       "0     mobile  Daejeon  Daejeon           F        20  "
      ]
     },
     "execution_count": 42,
     "metadata": {},
     "output_type": "execute_result"
    }
   ],
   "source": [
    "session = pd.merge(session, custom,how='inner', left_on='CLNT_ID',right_on='CLNT_ID')\n",
    "session.head(1)"
   ]
  },
  {
   "cell_type": "code",
   "execution_count": 43,
   "metadata": {
    "scrolled": true
   },
   "outputs": [
    {
     "data": {
      "text/html": [
       "<div>\n",
       "<style scoped>\n",
       "    .dataframe tbody tr th:only-of-type {\n",
       "        vertical-align: middle;\n",
       "    }\n",
       "\n",
       "    .dataframe tbody tr th {\n",
       "        vertical-align: top;\n",
       "    }\n",
       "\n",
       "    .dataframe thead th {\n",
       "        text-align: right;\n",
       "    }\n",
       "</style>\n",
       "<table border=\"1\" class=\"dataframe\">\n",
       "  <thead>\n",
       "    <tr style=\"text-align: right;\">\n",
       "      <th></th>\n",
       "      <th>CLNT_ID</th>\n",
       "      <th>SESS_ID</th>\n",
       "      <th>SESS_SEQ</th>\n",
       "      <th>SESS_DT</th>\n",
       "      <th>TOT_PAG_VIEW_CT</th>\n",
       "      <th>TOT_SESS_HR_V</th>\n",
       "      <th>DVC_CTG_NM</th>\n",
       "      <th>ZON_NM</th>\n",
       "      <th>CITY_NM</th>\n",
       "      <th>CLNT_GENDER</th>\n",
       "      <th>CLNT_AGE</th>\n",
       "      <th>HITS_SEQ</th>\n",
       "      <th>PD_C</th>\n",
       "      <th>PD_ADD_NM</th>\n",
       "      <th>PD_BRA_NM</th>\n",
       "      <th>PD_BUY_AM</th>\n",
       "      <th>PD_BUY_CT</th>\n",
       "    </tr>\n",
       "  </thead>\n",
       "  <tbody>\n",
       "    <tr>\n",
       "      <th>0</th>\n",
       "      <td>5873599</td>\n",
       "      <td>8641867</td>\n",
       "      <td>9</td>\n",
       "      <td>20180509</td>\n",
       "      <td>82.0</td>\n",
       "      <td>1,890</td>\n",
       "      <td>mobile</td>\n",
       "      <td>Daejeon</td>\n",
       "      <td>Daejeon</td>\n",
       "      <td>F</td>\n",
       "      <td>20</td>\n",
       "      <td>65</td>\n",
       "      <td>370753</td>\n",
       "      <td>색상:선택(04) 기본체크 4번 세트 / 1개</td>\n",
       "      <td>닥스(손수건)</td>\n",
       "      <td>20,000</td>\n",
       "      <td>1</td>\n",
       "    </tr>\n",
       "  </tbody>\n",
       "</table>\n",
       "</div>"
      ],
      "text/plain": [
       "   CLNT_ID  SESS_ID  SESS_SEQ   SESS_DT  TOT_PAG_VIEW_CT TOT_SESS_HR_V  \\\n",
       "0  5873599  8641867         9  20180509             82.0         1,890   \n",
       "\n",
       "  DVC_CTG_NM   ZON_NM  CITY_NM CLNT_GENDER  CLNT_AGE  HITS_SEQ    PD_C  \\\n",
       "0     mobile  Daejeon  Daejeon           F        20        65  370753   \n",
       "\n",
       "                   PD_ADD_NM PD_BRA_NM PD_BUY_AM PD_BUY_CT  \n",
       "0  색상:선택(04) 기본체크 4번 세트 / 1개   닥스(손수건)    20,000         1  "
      ]
     },
     "execution_count": 43,
     "metadata": {},
     "output_type": "execute_result"
    }
   ],
   "source": [
    "session = pd.merge(session, product,how='inner', on=['CLNT_ID', 'SESS_ID'])\n",
    "session.head(1)"
   ]
  },
  {
   "cell_type": "code",
   "execution_count": 63,
   "metadata": {},
   "outputs": [],
   "source": [
    "# 필드명 소문자 변경\n",
    "# index apply 함수 적용 불가능\n",
    "session.columns = pd.Series(session.columns).apply(lambda x : x.lower())"
   ]
  },
  {
   "cell_type": "code",
   "execution_count": 65,
   "metadata": {},
   "outputs": [
    {
     "data": {
      "text/html": [
       "<div>\n",
       "<style scoped>\n",
       "    .dataframe tbody tr th:only-of-type {\n",
       "        vertical-align: middle;\n",
       "    }\n",
       "\n",
       "    .dataframe tbody tr th {\n",
       "        vertical-align: top;\n",
       "    }\n",
       "\n",
       "    .dataframe thead th {\n",
       "        text-align: right;\n",
       "    }\n",
       "</style>\n",
       "<table border=\"1\" class=\"dataframe\">\n",
       "  <thead>\n",
       "    <tr style=\"text-align: right;\">\n",
       "      <th></th>\n",
       "      <th>clnt_id</th>\n",
       "      <th>sess_id</th>\n",
       "      <th>sess_seq</th>\n",
       "      <th>sess_dt</th>\n",
       "      <th>tot_pag_view_ct</th>\n",
       "      <th>tot_sess_hr_v</th>\n",
       "      <th>dvc_ctg_nm</th>\n",
       "      <th>zon_nm</th>\n",
       "      <th>city_nm</th>\n",
       "      <th>clnt_gender</th>\n",
       "      <th>clnt_age</th>\n",
       "      <th>hits_seq</th>\n",
       "      <th>pd_c</th>\n",
       "      <th>pd_add_nm</th>\n",
       "      <th>pd_bra_nm</th>\n",
       "      <th>pd_buy_am</th>\n",
       "      <th>pd_buy_ct</th>\n",
       "    </tr>\n",
       "  </thead>\n",
       "  <tbody>\n",
       "    <tr>\n",
       "      <th>0</th>\n",
       "      <td>5873599</td>\n",
       "      <td>8641867</td>\n",
       "      <td>9</td>\n",
       "      <td>20180509</td>\n",
       "      <td>82.0</td>\n",
       "      <td>1,890</td>\n",
       "      <td>mobile</td>\n",
       "      <td>Daejeon</td>\n",
       "      <td>Daejeon</td>\n",
       "      <td>F</td>\n",
       "      <td>20</td>\n",
       "      <td>65</td>\n",
       "      <td>370753</td>\n",
       "      <td>색상:선택(04) 기본체크 4번 세트 / 1개</td>\n",
       "      <td>닥스(손수건)</td>\n",
       "      <td>20,000</td>\n",
       "      <td>1</td>\n",
       "    </tr>\n",
       "  </tbody>\n",
       "</table>\n",
       "</div>"
      ],
      "text/plain": [
       "   clnt_id  sess_id  sess_seq   sess_dt  tot_pag_view_ct tot_sess_hr_v  \\\n",
       "0  5873599  8641867         9  20180509             82.0         1,890   \n",
       "\n",
       "  dvc_ctg_nm   zon_nm  city_nm clnt_gender  clnt_age  hits_seq    pd_c  \\\n",
       "0     mobile  Daejeon  Daejeon           F        20        65  370753   \n",
       "\n",
       "                   pd_add_nm pd_bra_nm pd_buy_am pd_buy_ct  \n",
       "0  색상:선택(04) 기본체크 4번 세트 / 1개   닥스(손수건)    20,000         1  "
      ]
     },
     "execution_count": 65,
     "metadata": {},
     "output_type": "execute_result"
    }
   ],
   "source": [
    "session.head(1)"
   ]
  },
  {
   "cell_type": "code",
   "execution_count": 66,
   "metadata": {
    "scrolled": true
   },
   "outputs": [
    {
     "data": {
      "text/html": [
       "<div>\n",
       "<style scoped>\n",
       "    .dataframe tbody tr th:only-of-type {\n",
       "        vertical-align: middle;\n",
       "    }\n",
       "\n",
       "    .dataframe tbody tr th {\n",
       "        vertical-align: top;\n",
       "    }\n",
       "\n",
       "    .dataframe thead th {\n",
       "        text-align: right;\n",
       "    }\n",
       "</style>\n",
       "<table border=\"1\" class=\"dataframe\">\n",
       "  <thead>\n",
       "    <tr style=\"text-align: right;\">\n",
       "      <th></th>\n",
       "      <th>clnt_id</th>\n",
       "      <th>sess_id</th>\n",
       "      <th>sess_seq</th>\n",
       "      <th>sess_dt</th>\n",
       "      <th>tot_pag_view_ct</th>\n",
       "      <th>tot_sess_hr_v</th>\n",
       "      <th>dvc_ctg_nm</th>\n",
       "      <th>zon_nm</th>\n",
       "      <th>city_nm</th>\n",
       "      <th>clnt_gender</th>\n",
       "      <th>clnt_age</th>\n",
       "      <th>hits_seq</th>\n",
       "      <th>pd_c</th>\n",
       "      <th>pd_add_nm</th>\n",
       "      <th>pd_bra_nm</th>\n",
       "      <th>pd_buy_am</th>\n",
       "      <th>pd_buy_ct</th>\n",
       "      <th>clac1_nm</th>\n",
       "      <th>clac2_nm</th>\n",
       "      <th>clac3_nm</th>\n",
       "    </tr>\n",
       "  </thead>\n",
       "  <tbody>\n",
       "    <tr>\n",
       "      <th>0</th>\n",
       "      <td>5873599</td>\n",
       "      <td>8641867</td>\n",
       "      <td>9</td>\n",
       "      <td>20180509</td>\n",
       "      <td>82.0</td>\n",
       "      <td>1,890</td>\n",
       "      <td>mobile</td>\n",
       "      <td>Daejeon</td>\n",
       "      <td>Daejeon</td>\n",
       "      <td>F</td>\n",
       "      <td>20</td>\n",
       "      <td>65</td>\n",
       "      <td>370753</td>\n",
       "      <td>색상:선택(04) 기본체크 4번 세트 / 1개</td>\n",
       "      <td>닥스(손수건)</td>\n",
       "      <td>20,000</td>\n",
       "      <td>1</td>\n",
       "      <td>패션잡화</td>\n",
       "      <td>패션액세서리</td>\n",
       "      <td>손수건</td>\n",
       "    </tr>\n",
       "  </tbody>\n",
       "</table>\n",
       "</div>"
      ],
      "text/plain": [
       "   clnt_id  sess_id  sess_seq   sess_dt  tot_pag_view_ct tot_sess_hr_v  \\\n",
       "0  5873599  8641867         9  20180509             82.0         1,890   \n",
       "\n",
       "  dvc_ctg_nm   zon_nm  city_nm clnt_gender  clnt_age  hits_seq    pd_c  \\\n",
       "0     mobile  Daejeon  Daejeon           F        20        65  370753   \n",
       "\n",
       "                   pd_add_nm pd_bra_nm pd_buy_am pd_buy_ct clac1_nm clac2_nm  \\\n",
       "0  색상:선택(04) 기본체크 4번 세트 / 1개   닥스(손수건)    20,000         1     패션잡화   패션액세서리   \n",
       "\n",
       "  clac3_nm  \n",
       "0      손수건  "
      ]
     },
     "execution_count": 66,
     "metadata": {},
     "output_type": "execute_result"
    }
   ],
   "source": [
    "session = pd.merge(session, master,how='inner', on=['pd_c'])\n",
    "session.head(1)"
   ]
  },
  {
   "cell_type": "code",
   "execution_count": 85,
   "metadata": {},
   "outputs": [
    {
     "data": {
      "text/plain": [
       "clnt_id                              5873599\n",
       "sess_id                              8641867\n",
       "sess_seq                                   9\n",
       "sess_dt                             20180509\n",
       "tot_pag_view_ct                           82\n",
       "tot_sess_hr_v                          1,890\n",
       "dvc_ctg_nm                            mobile\n",
       "zon_nm                               Daejeon\n",
       "city_nm                              Daejeon\n",
       "clnt_gender                                F\n",
       "clnt_age                                  20\n",
       "hits_seq                                  65\n",
       "pd_c                                  370753\n",
       "pd_add_nm          색상:선택(04) 기본체크 4번 세트 / 1개\n",
       "pd_bra_nm                            닥스(손수건)\n",
       "pd_buy_am                             20,000\n",
       "pd_buy_ct                                  1\n",
       "clac1_nm                                패션잡화\n",
       "clac2_nm                              패션액세서리\n",
       "clac3_nm                                 손수건\n",
       "Name: 0, dtype: object"
      ]
     },
     "execution_count": 85,
     "metadata": {},
     "output_type": "execute_result"
    }
   ],
   "source": [
    "session.iloc[0]"
   ]
  },
  {
   "cell_type": "markdown",
   "metadata": {},
   "source": [
    "#### Quick Preprocessing"
   ]
  },
  {
   "cell_type": "code",
   "execution_count": 89,
   "metadata": {},
   "outputs": [],
   "source": [
    "session['tot_sess_hr_v']=session['tot_sess_hr_v'].apply(lambda x : str(x).replace(',',''))\n",
    "session['pd_buy_am']=session['pd_buy_am'].apply(lambda x : str(x).replace(',',''))"
   ]
  },
  {
   "cell_type": "code",
   "execution_count": 91,
   "metadata": {},
   "outputs": [
    {
     "name": "stdout",
     "output_type": "stream",
     "text": [
      "<class 'pandas.core.frame.DataFrame'>\n",
      "Int64Index: 3988524 entries, 0 to 3988523\n",
      "Data columns (total 20 columns):\n",
      "clnt_id            int64\n",
      "sess_id            int64\n",
      "sess_seq           int64\n",
      "sess_dt            int64\n",
      "tot_pag_view_ct    float64\n",
      "tot_sess_hr_v      object\n",
      "dvc_ctg_nm         object\n",
      "zon_nm             object\n",
      "city_nm            object\n",
      "clnt_gender        object\n",
      "clnt_age           int64\n",
      "hits_seq           int64\n",
      "pd_c               int64\n",
      "pd_add_nm          object\n",
      "pd_bra_nm          object\n",
      "pd_buy_am          object\n",
      "pd_buy_ct          object\n",
      "clac1_nm           object\n",
      "clac2_nm           object\n",
      "clac3_nm           object\n",
      "dtypes: float64(1), int64(7), object(12)\n",
      "memory usage: 639.0+ MB\n"
     ]
    }
   ],
   "source": [
    "session.info()"
   ]
  },
  {
   "cell_type": "markdown",
   "metadata": {},
   "source": [
    "#### Distribution\n",
    "    sns.distplot()\n",
    "    sns.jointplot()\n",
    "    sns.pairplot()\n",
    "    sns.rugplot()\n",
    "    sns.kdeplot()"
   ]
  },
  {
   "cell_type": "markdown",
   "metadata": {},
   "source": [
    "##### distplot\n",
    "    단일 변수 분포"
   ]
  },
  {
   "cell_type": "code",
   "execution_count": 73,
   "metadata": {
    "scrolled": true
   },
   "outputs": [
    {
     "data": {
      "text/plain": [
       "Index(['clnt_id', 'sess_id', 'sess_seq', 'sess_dt', 'tot_pag_view_ct',\n",
       "       'tot_sess_hr_v', 'dvc_ctg_nm', 'zon_nm', 'city_nm', 'clnt_gender',\n",
       "       'clnt_age', 'hits_seq', 'pd_c', 'pd_add_nm', 'pd_bra_nm', 'pd_buy_am',\n",
       "       'pd_buy_ct', 'clac1_nm', 'clac2_nm', 'clac3_nm'],\n",
       "      dtype='object')"
      ]
     },
     "execution_count": 73,
     "metadata": {},
     "output_type": "execute_result"
    }
   ],
   "source": [
    "session.columns"
   ]
  },
  {
   "cell_type": "code",
   "execution_count": null,
   "metadata": {},
   "outputs": [],
   "source": [
    "session.pd.to_csv('session.csv')"
   ]
  },
  {
   "cell_type": "code",
   "execution_count": null,
   "metadata": {},
   "outputs": [],
   "source": [
    "sns.distplot(session['tot_sess_hr_v'])"
   ]
  },
  {
   "cell_type": "markdown",
   "metadata": {},
   "source": [
    "##### distplot"
   ]
  },
  {
   "cell_type": "markdown",
   "metadata": {},
   "source": [
    "##### distplot"
   ]
  },
  {
   "cell_type": "markdown",
   "metadata": {},
   "source": [
    "##### distplot"
   ]
  },
  {
   "cell_type": "markdown",
   "metadata": {},
   "source": [
    "##### distplot"
   ]
  },
  {
   "cell_type": "markdown",
   "metadata": {},
   "source": [
    "#### Matrix Plot"
   ]
  },
  {
   "cell_type": "code",
   "execution_count": null,
   "metadata": {},
   "outputs": [],
   "source": []
  }
 ],
 "metadata": {
  "kernelspec": {
   "display_name": "Python 3",
   "language": "python",
   "name": "python3"
  },
  "language_info": {
   "codemirror_mode": {
    "name": "ipython",
    "version": 3
   },
   "file_extension": ".py",
   "mimetype": "text/x-python",
   "name": "python",
   "nbconvert_exporter": "python",
   "pygments_lexer": "ipython3",
   "version": "3.7.3"
  },
  "latex_envs": {
   "LaTeX_envs_menu_present": true,
   "autoclose": true,
   "autocomplete": true,
   "bibliofile": "biblio.bib",
   "cite_by": "apalike",
   "current_citInitial": 1,
   "eqLabelWithNumbers": true,
   "eqNumInitial": 1,
   "hotkeys": {
    "equation": "Ctrl-E",
    "itemize": "Ctrl-I"
   },
   "labels_anchors": false,
   "latex_user_defs": false,
   "report_style_numbering": false,
   "user_envs_cfg": false
  },
  "toc": {
   "base_numbering": 1,
   "nav_menu": {},
   "number_sections": true,
   "sideBar": true,
   "skip_h1_title": false,
   "title_cell": "Table of Contents",
   "title_sidebar": "Contents",
   "toc_cell": false,
   "toc_position": {},
   "toc_section_display": true,
   "toc_window_display": true
  },
  "varInspector": {
   "cols": {
    "lenName": 16,
    "lenType": 16,
    "lenVar": 40
   },
   "kernels_config": {
    "python": {
     "delete_cmd_postfix": "",
     "delete_cmd_prefix": "del ",
     "library": "var_list.py",
     "varRefreshCmd": "print(var_dic_list())"
    },
    "r": {
     "delete_cmd_postfix": ") ",
     "delete_cmd_prefix": "rm(",
     "library": "var_list.r",
     "varRefreshCmd": "cat(var_dic_list()) "
    }
   },
   "types_to_exclude": [
    "module",
    "function",
    "builtin_function_or_method",
    "instance",
    "_Feature"
   ],
   "window_display": false
  }
 },
 "nbformat": 4,
 "nbformat_minor": 2
}
